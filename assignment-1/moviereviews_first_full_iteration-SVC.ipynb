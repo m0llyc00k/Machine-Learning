{
 "cells": [
  {
   "cell_type": "markdown",
   "metadata": {},
   "source": [
    "# Movie reviews\n",
    "\n",
    "This notebook takes you though a complete iteration of Machine Learning Assignment 1 - Movie reviews. The assignment details (including links to download the data) can be found [here](https://docs.google.com/document/d/1WGYw99e5q6j5V0Zrf2HveagU6URt_kVvdR8B9HYQ99E/edit?usp=sharing). "
   ]
  },
  {
   "cell_type": "code",
   "execution_count": 22,
   "metadata": {},
   "outputs": [
    {
     "name": "stderr",
     "output_type": "stream",
     "text": [
      "[nltk_data] Downloading package punkt to\n",
      "[nltk_data]     C:\\Users\\Molly\\AppData\\Roaming\\nltk_data...\n",
      "[nltk_data]   Package punkt is already up-to-date!\n",
      "[nltk_data] Downloading package wordnet to\n",
      "[nltk_data]     C:\\Users\\Molly\\AppData\\Roaming\\nltk_data...\n",
      "[nltk_data]   Package wordnet is already up-to-date!\n"
     ]
    }
   ],
   "source": [
    "# all imports and magic commands\n",
    "import numpy as np\n",
    "import pandas as pd\n",
    "import re\n",
    "import nltk\n",
    "nltk.download('punkt')\n",
    "nltk.download('wordnet')\n",
    "from nltk import word_tokenize          \n",
    "from nltk.stem import WordNetLemmatizer\n",
    "import matplotlib.pyplot as plt\n",
    "from sklearn.svm import SVC\n",
    "from my_measures import BinaryClassificationPerformance\n",
    "from sklearn.feature_extraction.text import HashingVectorizer\n",
    "from sklearn.feature_extraction.text import TfidfTransformer\n",
    "from sklearn.feature_extraction.text import CountVectorizer\n",
    "from scipy.sparse import csr_matrix, hstack\n",
    "from sklearn.preprocessing import StandardScaler\n",
    "from sklearn.model_selection import train_test_split\n",
    "from sklearn.feature_extraction.text import TfidfVectorizer\n",
    "\n",
    "%matplotlib inline"
   ]
  },
  {
   "cell_type": "markdown",
   "metadata": {},
   "source": [
    "### IMPORTANT!!! Make sure you are using `BinaryClassificationPerformance` v1.02"
   ]
  },
  {
   "cell_type": "code",
   "execution_count": 23,
   "metadata": {},
   "outputs": [
    {
     "name": "stdout",
     "output_type": "stream",
     "text": [
      "Help on class BinaryClassificationPerformance in module my_measures:\n",
      "\n",
      "class BinaryClassificationPerformance(builtins.object)\n",
      " |  BinaryClassificationPerformance(predictions, labels, desc, probabilities=None)\n",
      " |  \n",
      " |  Performance measures to evaluate the fit of a binary classification model, v1.02\n",
      " |  \n",
      " |  Methods defined here:\n",
      " |  \n",
      " |  __init__(self, predictions, labels, desc, probabilities=None)\n",
      " |      Initialize attributes: predictions-vector of predicted values for Y, labels-vector of labels for Y\n",
      " |  \n",
      " |  compute_measures(self)\n",
      " |      Compute performance measures defined by Flach p. 57\n",
      " |  \n",
      " |  img_indices(self)\n",
      " |      Get the indices of true and false positives to be able to locate the corresponding images in a list of image names\n",
      " |  \n",
      " |  ----------------------------------------------------------------------\n",
      " |  Data descriptors defined here:\n",
      " |  \n",
      " |  __dict__\n",
      " |      dictionary for instance variables (if defined)\n",
      " |  \n",
      " |  __weakref__\n",
      " |      list of weak references to the object (if defined)\n",
      "\n"
     ]
    }
   ],
   "source": [
    "help(BinaryClassificationPerformance)"
   ]
  },
  {
   "cell_type": "markdown",
   "metadata": {},
   "source": [
    "# Function for feature building and extraction on natural language data"
   ]
  },
  {
   "cell_type": "code",
   "execution_count": 24,
   "metadata": {},
   "outputs": [],
   "source": [
    "# function that takes raw data and completes all preprocessing required before model fits\n",
    "def process_raw_data(fn, my_random_seed, test=False):\n",
    "    # read and summarize data\n",
    "    movie_data = pd.read_csv(fn, sep='\\t')\n",
    "    print(\"movie_data is:\", type(movie_data))\n",
    "    print(\"movie_data has\", movie_data.shape[0], \"rows and\", movie_data.shape[1], \"columns\", \"\\n\")\n",
    "    print(\"the data types for each of the columns in movie_data:\")\n",
    "    print(movie_data.dtypes, \"\\n\")\n",
    "    print(\"the first 10 rows in movie_data:\")\n",
    "    print(movie_data.head(5))\n",
    "    if (not test):\n",
    "        print(\"The rate of 'good' movie reviews in the dataset: \")\n",
    "        print(movie_data['sentiment'].mean())\n",
    "\n",
    "    # vectorize Bag of Words from review text; as sparse matrix\n",
    "#     if (not test): # fit_transform()\n",
    "#         hv = HashingVectorizer(n_features=2 ** 17, alternate_sign=False)\n",
    "#         X_hv = hv.fit_transform(movie_data.review)\n",
    "#         fitted_transformations.append(hv)\n",
    "#         print(\"Shape of HashingVectorizer X:\")\n",
    "#         print(X_hv.shape)\n",
    "#     else: # transform() \n",
    "#         X_hv = fitted_transformations[0].transform(movie_data.review)\n",
    "#         print(\"Shape of HashingVectorizer X:\")\n",
    "#         print(X_hv.shape)\n",
    "\n",
    "    nltk.download('stopwords')\n",
    "    stop_words = set(nltk.corpus.stopwords.words('english'))\n",
    "    \n",
    "#     class LemmaTokenizer:\n",
    "#         def __init__(self):\n",
    "#             self.wnl = WordNetLemmatizer()\n",
    "#         def __call__(self, doc):\n",
    "#             return [self.wnl.lemmatize(t) for t in word_tokenize(doc)]\n",
    "    \n",
    "#     vect = CountVectorizer(tokenizer=LemmaTokenizer())  \n",
    "\n",
    "    if (not test): # fit_transform()\n",
    "        cv = CountVectorizer(ngram_range=(1, 2),token_pattern=r'\\b\\w+\\b', min_df=1)\n",
    "        X_cv = cv.fit_transform(movie_data.review)\n",
    "        fitted_transformations.append(cv)\n",
    "        print(\"Shape of CountVectorizer X:\")\n",
    "        print(X_cv.shape)\n",
    "    else: # transform() \n",
    "        X_cv = fitted_transformations[0].transform(movie_data.review)\n",
    "        print(\"Shape of CountVectorizer X:\")\n",
    "        print(X_cv.shape)\n",
    "    \n",
    "    # http://scikit-learn.org/stable/modules/generated/sklearn.feature_extraction.text.TfidfTransformer.html\n",
    "    if (not test):\n",
    "        transformer = TfidfTransformer()\n",
    "        X_tfidf = transformer.fit_transform(X_cv)\n",
    "        fitted_transformations.append(transformer)\n",
    "    else:\n",
    "        X_tfidf = fitted_transformations[1].transform(X_cv)\n",
    "        \n",
    " \n",
    "    \n",
    "    # create additional quantitative features\n",
    "    # features from Amazon.csv to add to feature set\n",
    "   \n",
    "    caps_re = '([A-Z]){2,}'\n",
    "    \n",
    "    movie_data['quotes'] = movie_data['review'].str.count('\\\"')\n",
    "    movie_data['word_count'] = movie_data['review'].str.split(' ').str.len()\n",
    "    movie_data['exclaim_dbl'] = movie_data['review'].str.count(\"\\!?\")\n",
    "    movie_data['caps'] = movie_data['review'].str.count('([A-Z]){5,}')\n",
    "    movie_data['questions'] = movie_data['review'].str.count('(\\?)')\n",
    "    movie_data['questions_2'] = len(re.findall('(\\?){3,}', str(movie_data['review'])))\n",
    "    movie_data['exclaim'] = len(re.findall('(\\!){3,}', str(movie_data['review'])))\n",
    "    movie_data['quotes_count'] = movie_data['review'].str.split('\\\"').str.len()\n",
    "    movie_data['exclaim_count'] = movie_data['review'].str.split('\\!').str.len()\n",
    "    movie_data['question_count'] = movie_data['review'].str.split('\\?').str.len()\n",
    "    movie_data['caps_count'] = len(re.findall(caps_re, str(movie_data['review'])))\n",
    "\n",
    "    \n",
    "\n",
    "\n",
    "    X_quant_features = movie_data[[\"quotes_count\", \"caps_count\"]]\n",
    "    print(\"Look at a few rows of the new quantitative features: \")\n",
    "    print(X_quant_features.head(10))\n",
    "    \n",
    "    # Combine all quantitative features into a single sparse matrix\n",
    "    X_quant_features_csr = csr_matrix(X_quant_features)\n",
    "    X_combined = hstack([X_tfidf, X_quant_features_csr])\n",
    "    X_matrix = csr_matrix(X_combined) # convert to sparse matrix\n",
    "    print(\"Size of combined bag of words and new quantitative variables matrix:\")\n",
    "    print(X_matrix.shape)\n",
    "    \n",
    "    # Create `X`, scaled matrix of features\n",
    "    # feature scaling\n",
    "    if (not test):\n",
    "        sc = StandardScaler(with_mean=False)\n",
    "        X = sc.fit_transform(X_matrix)\n",
    "        fitted_transformations.append(sc)\n",
    "        print(X.shape)\n",
    "        y = movie_data['sentiment']\n",
    "    else:\n",
    "        X = fitted_transformations[2].transform(X_matrix)\n",
    "        print(X.shape)\n",
    "    \n",
    "    # Create Training and Test Sets\n",
    "    # enter an integer for the random_state parameter; any integer will work\n",
    "    if (test):\n",
    "        X_submission_test = X\n",
    "        print(\"Shape of X_test for submission:\")\n",
    "        print(X_submission_test.shape)\n",
    "        print('SUCCESS!')\n",
    "        return(movie_data, X_submission_test)\n",
    "    else: \n",
    "        X_train, X_test, y_train, y_test, X_raw_train, X_raw_test = train_test_split(X, y, movie_data, test_size=0.2, random_state=my_random_seed)\n",
    "        print(\"Shape of X_train and X_test:\")\n",
    "        print(X_train.shape)\n",
    "        print(X_test.shape)\n",
    "        print(\"Shape of y_train and y_test:\")\n",
    "        print(y_train.shape)\n",
    "        print(y_test.shape)\n",
    "        print(\"Shape of X_raw_train and X_raw_test:\")\n",
    "        print(X_raw_train.shape)\n",
    "        print(X_raw_test.shape)\n",
    "        print('SUCCESS!')\n",
    "        return(X_train, X_test, y_train, y_test, X_raw_train, X_raw_test)"
   ]
  },
  {
   "cell_type": "markdown",
   "metadata": {},
   "source": [
    "# Create training and test sets from function"
   ]
  },
  {
   "cell_type": "code",
   "execution_count": 25,
   "metadata": {
    "scrolled": true
   },
   "outputs": [
    {
     "name": "stdout",
     "output_type": "stream",
     "text": [
      "movie_data is: <class 'pandas.core.frame.DataFrame'>\n",
      "movie_data has 25000 rows and 3 columns \n",
      "\n",
      "the data types for each of the columns in movie_data:\n",
      "id           object\n",
      "sentiment     int64\n",
      "review       object\n",
      "dtype: object \n",
      "\n",
      "the first 10 rows in movie_data:\n",
      "       id  sentiment                                             review\n",
      "0  5814_8          1  With all this stuff going down at the moment w...\n",
      "1  2381_9          1  \\The Classic War of the Worlds\\\" by Timothy Hi...\n",
      "2  7759_3          0  The film starts with a manager (Nicholas Bell)...\n",
      "3  3630_4          0  It must be assumed that those who praised this...\n",
      "4  9495_8          1  Superbly trashy and wondrously unpretentious 8...\n",
      "The rate of 'good' movie reviews in the dataset: \n",
      "0.5\n"
     ]
    },
    {
     "name": "stderr",
     "output_type": "stream",
     "text": [
      "[nltk_data] Downloading package stopwords to\n",
      "[nltk_data]     C:\\Users\\Molly\\AppData\\Roaming\\nltk_data...\n",
      "[nltk_data]   Package stopwords is already up-to-date!\n"
     ]
    },
    {
     "name": "stdout",
     "output_type": "stream",
     "text": [
      "Shape of CountVectorizer X:\n",
      "(25000, 1455074)\n",
      "Look at a few rows of the new quantitative features: \n",
      "   quotes_count  caps_count\n",
      "0             1           0\n",
      "1             9           0\n",
      "2             1           0\n",
      "3             7           0\n",
      "4             7           0\n",
      "5             1           0\n",
      "6             1           0\n",
      "7             1           0\n",
      "8             1           0\n",
      "9             5           0\n",
      "Size of combined bag of words and new quantitative variables matrix:\n",
      "(25000, 1455076)\n",
      "(25000, 1455076)\n",
      "Shape of X_train and X_test:\n",
      "(20000, 1455076)\n",
      "(5000, 1455076)\n",
      "Shape of y_train and y_test:\n",
      "(20000,)\n",
      "(5000,)\n",
      "Shape of X_raw_train and X_raw_test:\n",
      "(20000, 14)\n",
      "(5000, 14)\n",
      "SUCCESS!\n",
      "Number of fits stored in `fitted_transformations` list: \n",
      "3\n"
     ]
    }
   ],
   "source": [
    "# create an empty list to store any use of fit_transform() to transform() later\n",
    "# it is a global list to store model and feature extraction fits\n",
    "fitted_transformations = []\n",
    "\n",
    "# CHANGE FILE PATH and my_random_seed number (any integer other than 74 will do): \n",
    "X_train, X_test, y_train, y_test, X_raw_train, X_raw_test = process_raw_data(fn='moviereviews_train.tsv', my_random_seed=25)\n",
    "\n",
    "print(\"Number of fits stored in `fitted_transformations` list: \")\n",
    "print(len(fitted_transformations))"
   ]
  },
  {
   "cell_type": "markdown",
   "metadata": {},
   "source": [
    "# Fit (and tune) Various Models"
   ]
  },
  {
   "cell_type": "markdown",
   "metadata": {},
   "source": [
    "### MODEL: LinearSVC C=1"
   ]
  },
  {
   "cell_type": "code",
   "execution_count": 128,
   "metadata": {},
   "outputs": [
    {
     "name": "stdout",
     "output_type": "stream",
     "text": [
      "{'Pos': 9977, 'Neg': 10023, 'TP': 9977, 'TN': 10023, 'FP': 0, 'FN': 0, 'Accuracy': 1.0, 'Precision': 1.0, 'Recall': 1.0, 'desc': 'svc_train_c=1'}\n"
     ]
    }
   ],
   "source": [
    "from sklearn import linear_model\n",
    "from sklearn.svm import SVC\n",
    "from sklearn import svm\n",
    "from sklearn.svm import LinearSVC\n",
    "svc1 = LinearSVC(C=1)\n",
    "\n",
    "svc1.fit(X_train, y_train)\n",
    "\n",
    "\n",
    "svc_performance_train_1 = BinaryClassificationPerformance(svc1.predict(X_train), y_train, 'svc_train_c=1')\n",
    "svc_performance_train_1.compute_measures()\n",
    "print(svc_performance_train_1.performance_measures)"
   ]
  },
  {
   "cell_type": "markdown",
   "metadata": {},
   "source": [
    "### MODEL: LinearSVC C=.000001"
   ]
  },
  {
   "cell_type": "code",
   "execution_count": 129,
   "metadata": {},
   "outputs": [
    {
     "name": "stdout",
     "output_type": "stream",
     "text": [
      "{'Pos': 9977, 'Neg': 10023, 'TP': 9977, 'TN': 10023, 'FP': 0, 'FN': 0, 'Accuracy': 1.0, 'Precision': 1.0, 'Recall': 1.0, 'desc': 'svc_train_c=.000001'}\n"
     ]
    }
   ],
   "source": [
    "from sklearn import linear_model\n",
    "from sklearn.svm import SVC\n",
    "from sklearn import svm\n",
    "from sklearn.svm import LinearSVC\n",
    "svc2 = LinearSVC(C=.000001, max_iter=10000)\n",
    "\n",
    "svc2.fit(X_train, y_train)\n",
    "\n",
    "\n",
    "svc_performance_train_2 = BinaryClassificationPerformance(svc2.predict(X_train), y_train, 'svc_train_c=.000001')\n",
    "svc_performance_train_2.compute_measures()\n",
    "print(svc_performance_train_2.performance_measures)"
   ]
  },
  {
   "cell_type": "markdown",
   "metadata": {},
   "source": [
    "### MODEL: LinearSVC C=.0000001"
   ]
  },
  {
   "cell_type": "code",
   "execution_count": 131,
   "metadata": {},
   "outputs": [
    {
     "name": "stdout",
     "output_type": "stream",
     "text": [
      "{'Pos': 9977, 'Neg': 10023, 'TP': 9973, 'TN': 10022, 'FP': 1, 'FN': 4, 'Accuracy': 0.99975, 'Precision': 0.9998997393222379, 'Recall': 0.9995990778791219, 'desc': 'svc_train_c=.0000001'}\n"
     ]
    }
   ],
   "source": [
    "from sklearn import linear_model\n",
    "from sklearn.svm import SVC\n",
    "from sklearn import svm\n",
    "from sklearn.svm import LinearSVC\n",
    "svc3 = LinearSVC(C=.0000001, max_iter=10000)\n",
    "\n",
    "svc3.fit(X_train, y_train)\n",
    "\n",
    "\n",
    "svc_performance_train_3 = BinaryClassificationPerformance(svc3.predict(X_train), y_train, 'svc_train_c=.0000001')\n",
    "svc_performance_train_3.compute_measures()\n",
    "print(svc_performance_train_3.performance_measures)"
   ]
  },
  {
   "cell_type": "markdown",
   "metadata": {},
   "source": [
    "### MODEL: LinearSVC C=.00000001"
   ]
  },
  {
   "cell_type": "code",
   "execution_count": 132,
   "metadata": {},
   "outputs": [
    {
     "name": "stdout",
     "output_type": "stream",
     "text": [
      "{'Pos': 9977, 'Neg': 10023, 'TP': 9962, 'TN': 10022, 'FP': 1, 'FN': 15, 'Accuracy': 0.9992, 'Precision': 0.9998996286259159, 'Recall': 0.9984965420467075, 'desc': 'svc_train_c=.00000001'}\n"
     ]
    }
   ],
   "source": [
    "from sklearn import linear_model\n",
    "from sklearn.svm import SVC\n",
    "from sklearn import svm\n",
    "from sklearn.svm import LinearSVC\n",
    "svc4 = LinearSVC(C=.00000001, max_iter=10000)\n",
    "\n",
    "svc4.fit(X_train, y_train)\n",
    "\n",
    "\n",
    "svc_performance_train_4 = BinaryClassificationPerformance(svc4.predict(X_train), y_train, 'svc_train_c=.00000001')\n",
    "svc_performance_train_4.compute_measures()\n",
    "print(svc_performance_train_4.performance_measures)"
   ]
  },
  {
   "cell_type": "markdown",
   "metadata": {},
   "source": [
    "### MODEL: LinearSVC C=.000000001"
   ]
  },
  {
   "cell_type": "code",
   "execution_count": 133,
   "metadata": {},
   "outputs": [
    {
     "name": "stdout",
     "output_type": "stream",
     "text": [
      "{'Pos': 9977, 'Neg': 10023, 'TP': 9960, 'TN': 10022, 'FP': 1, 'FN': 17, 'Accuracy': 0.9991, 'Precision': 0.9998996084730448, 'Recall': 0.9982960809862684, 'desc': 'svc_train_c=.000000001'}\n"
     ]
    }
   ],
   "source": [
    "from sklearn import linear_model\n",
    "from sklearn.svm import SVC\n",
    "from sklearn import svm\n",
    "from sklearn.svm import LinearSVC\n",
    "svc5 = LinearSVC(C=.000000001, max_iter=10000)\n",
    "\n",
    "svc5.fit(X_train, y_train)\n",
    "\n",
    "\n",
    "svc_performance_train_5 = BinaryClassificationPerformance(svc5.predict(X_train), y_train, 'svc_train_c=.000000001')\n",
    "svc_performance_train_5.compute_measures()\n",
    "print(svc_performance_train_5.performance_measures)"
   ]
  },
  {
   "cell_type": "markdown",
   "metadata": {},
   "source": [
    "### MODEL: LinearSVC C=.0000000001"
   ]
  },
  {
   "cell_type": "code",
   "execution_count": 134,
   "metadata": {},
   "outputs": [
    {
     "name": "stdout",
     "output_type": "stream",
     "text": [
      "{'Pos': 9977, 'Neg': 10023, 'TP': 9960, 'TN': 10022, 'FP': 1, 'FN': 17, 'Accuracy': 0.9991, 'Precision': 0.9998996084730448, 'Recall': 0.9982960809862684, 'desc': 'svc_train_c=.0000000001'}\n"
     ]
    }
   ],
   "source": [
    "from sklearn import linear_model\n",
    "from sklearn.svm import SVC\n",
    "from sklearn import svm\n",
    "from sklearn.svm import LinearSVC\n",
    "svc6 = LinearSVC(C=.0000000001, max_iter=10000)\n",
    "\n",
    "svc6.fit(X_train, y_train)\n",
    "\n",
    "\n",
    "svc_performance_train_6 = BinaryClassificationPerformance(svc6.predict(X_train), y_train, 'svc_train_c=.0000000001')\n",
    "svc_performance_train_6.compute_measures()\n",
    "print(svc_performance_train_6.performance_measures)"
   ]
  },
  {
   "cell_type": "markdown",
   "metadata": {},
   "source": [
    "### MODEL: LinearSVC C=.00000000001"
   ]
  },
  {
   "cell_type": "code",
   "execution_count": 135,
   "metadata": {},
   "outputs": [
    {
     "name": "stdout",
     "output_type": "stream",
     "text": [
      "{'Pos': 9977, 'Neg': 10023, 'TP': 9960, 'TN': 10022, 'FP': 1, 'FN': 17, 'Accuracy': 0.9991, 'Precision': 0.9998996084730448, 'Recall': 0.9982960809862684, 'desc': 'svc_train_c=.00000000001'}\n"
     ]
    }
   ],
   "source": [
    "from sklearn import linear_model\n",
    "from sklearn.svm import SVC\n",
    "from sklearn import svm\n",
    "from sklearn.svm import LinearSVC\n",
    "svc7 = LinearSVC(C=.00000000001, max_iter=10000)\n",
    "\n",
    "svc7.fit(X_train, y_train)\n",
    "\n",
    "\n",
    "svc_performance_train_7 = BinaryClassificationPerformance(svc7.predict(X_train), y_train, 'svc_train_c=.00000000001')\n",
    "svc_performance_train_7.compute_measures()\n",
    "print(svc_performance_train_7.performance_measures)"
   ]
  },
  {
   "cell_type": "markdown",
   "metadata": {},
   "source": [
    "### ROC Plot Test"
   ]
  },
  {
   "cell_type": "code",
   "execution_count": 156,
   "metadata": {
    "scrolled": false
   },
   "outputs": [
    {
     "data": {
      "image/png": "[encoded data removed]",
      "text/plain": [
       "<Figure size 432x288 with 1 Axes>"
      ]
     },
     "metadata": {
      "needs_background": "light"
     },
     "output_type": "display_data"
    }
   ],
   "source": [
    "fits = [svc_performance_train_7, svc_performance_train_6, svc_performance_train_5, svc_performance_train_4, svc_performance_train_3, svc_performance_train_2, svc_performance_train_1]\n",
    "\n",
    "for fit in fits:\n",
    "    plt.plot(fit.performance_measures['FP'] / fit.performance_measures['Neg'], \n",
    "             fit.performance_measures['TP'] / fit.performance_measures['Pos'], 'bo')\n",
    "    plt.text(fit.performance_measures['FP'] / fit.performance_measures['Neg'], \n",
    "             fit.performance_measures['TP'] / fit.performance_measures['Pos'], fit.desc)\n",
    "plt.axis([0, 0.001, 0.99, 1])\n",
    "plt.title('ROC plot: train set')\n",
    "plt.xlabel('False positive rate')\n",
    "plt.ylabel('True positive rate')\n",
    "plt.show()"
   ]
  },
  {
   "cell_type": "markdown",
   "metadata": {},
   "source": [
    "### looking at reviews based on their classification\n",
    "\n",
    "Let's say we decide that Ordinary Least Squares (OLS) Regression is the best model for generalization. Let's take a look at some of the reviews and try to make a (subjective) determination of whether it's generalizing well. "
   ]
  },
  {
   "cell_type": "code",
   "execution_count": 82,
   "metadata": {},
   "outputs": [],
   "source": [
    "svc_predictions = svc.predict(X_train)"
   ]
  },
  {
   "cell_type": "markdown",
   "metadata": {},
   "source": [
    "### let's look at some false positives:"
   ]
  },
  {
   "cell_type": "code",
   "execution_count": 18,
   "metadata": {},
   "outputs": [
    {
     "name": "stdout",
     "output_type": "stream",
     "text": [
      "Examples of false positives:\n"
     ]
    }
   ],
   "source": [
    "# false positives\n",
    "\n",
    "print(\"Examples of false positives:\")\n",
    "\n",
    "import random, time\n",
    "\n",
    "for i in range(0, len(svc_predictions)):\n",
    "    if (svc_predictions[i] == 1):\n",
    "        if (X_raw_train.iloc[i]['sentiment'] == 0):\n",
    "            if (random.uniform(0, 1) < 0.05): # to print only 5% of the false positives\n",
    "                print(i)\n",
    "                print(X_raw_train.iloc[i]['review'])\n",
    "                print('* * * * * * * * * ')\n"
   ]
  },
  {
   "cell_type": "markdown",
   "metadata": {},
   "source": [
    "---\n",
    "\n",
    "# <span style=\"color:red\">WARNING: Don't look at test set performance too much!</span>\n",
    "\n",
    "---\n",
    "\n",
    "The following cells show performance on your test set. Do not look at this too often! "
   ]
  },
  {
   "cell_type": "markdown",
   "metadata": {},
   "source": [
    "# Look at performance on the test set"
   ]
  },
  {
   "cell_type": "markdown",
   "metadata": {},
   "source": [
    "### MODEL: LinearSVC C=1"
   ]
  },
  {
   "cell_type": "code",
   "execution_count": 137,
   "metadata": {},
   "outputs": [
    {
     "name": "stdout",
     "output_type": "stream",
     "text": [
      "{'Pos': 2523, 'Neg': 2477, 'TP': 2309, 'TN': 2240, 'FP': 237, 'FN': 214, 'Accuracy': 0.9098, 'Precision': 0.9069128043990573, 'Recall': 0.9151803408640508, 'desc': 'svc_test_c=1'}\n"
     ]
    }
   ],
   "source": [
    "svc_performance_test_1 = BinaryClassificationPerformance(svc1.predict(X_test), y_test, 'svc_test_c=1')\n",
    "svc_performance_test_1.compute_measures()\n",
    "print(svc_performance_test_1.performance_measures)"
   ]
  },
  {
   "cell_type": "markdown",
   "metadata": {},
   "source": [
    "### MODEL: LinearSVC C=.000001"
   ]
  },
  {
   "cell_type": "code",
   "execution_count": 138,
   "metadata": {},
   "outputs": [
    {
     "name": "stdout",
     "output_type": "stream",
     "text": [
      "{'Pos': 2523, 'Neg': 2477, 'TP': 2278, 'TN': 2257, 'FP': 220, 'FN': 245, 'Accuracy': 0.907, 'Precision': 0.911929543634908, 'Recall': 0.902893380895759, 'desc': 'svc_test_c=.000001'}\n"
     ]
    }
   ],
   "source": [
    "svc_performance_test_2 = BinaryClassificationPerformance(svc2.predict(X_test), y_test, 'svc_test_c=.000001')\n",
    "svc_performance_test_2.compute_measures()\n",
    "print(svc_performance_test_2.performance_measures)"
   ]
  },
  {
   "cell_type": "markdown",
   "metadata": {},
   "source": [
    "### MODEL: LinearSVC C=.0000001"
   ]
  },
  {
   "cell_type": "code",
   "execution_count": 139,
   "metadata": {},
   "outputs": [
    {
     "name": "stdout",
     "output_type": "stream",
     "text": [
      "{'Pos': 2523, 'Neg': 2477, 'TP': 2171, 'TN': 2282, 'FP': 195, 'FN': 352, 'Accuracy': 0.8906, 'Precision': 0.9175824175824175, 'Recall': 0.8604835513277844, 'desc': 'svc_test_c=.0000001'}\n"
     ]
    }
   ],
   "source": [
    "svc_performance_test_3 = BinaryClassificationPerformance(svc3.predict(X_test), y_test, 'svc_test_c=.0000001')\n",
    "svc_performance_test_3.compute_measures()\n",
    "print(svc_performance_test_3.performance_measures)"
   ]
  },
  {
   "cell_type": "markdown",
   "metadata": {},
   "source": [
    "### MODEL: LinearSVC C=.00000001"
   ]
  },
  {
   "cell_type": "code",
   "execution_count": 140,
   "metadata": {},
   "outputs": [
    {
     "name": "stdout",
     "output_type": "stream",
     "text": [
      "{'Pos': 2523, 'Neg': 2477, 'TP': 2124, 'TN': 2272, 'FP': 205, 'FN': 399, 'Accuracy': 0.8792, 'Precision': 0.9119793902962645, 'Recall': 0.8418549346016647, 'desc': 'svc_test_c=.00000001'}\n"
     ]
    }
   ],
   "source": [
    "svc_performance_test_4 = BinaryClassificationPerformance(svc4.predict(X_test), y_test, 'svc_test_c=.00000001')\n",
    "svc_performance_test_4.compute_measures()\n",
    "print(svc_performance_test_4.performance_measures)"
   ]
  },
  {
   "cell_type": "markdown",
   "metadata": {},
   "source": [
    "### MODEL: LinearSVC C=.000000001"
   ]
  },
  {
   "cell_type": "code",
   "execution_count": 141,
   "metadata": {},
   "outputs": [
    {
     "name": "stdout",
     "output_type": "stream",
     "text": [
      "{'Pos': 2523, 'Neg': 2477, 'TP': 2126, 'TN': 2269, 'FP': 208, 'FN': 397, 'Accuracy': 0.879, 'Precision': 0.9108826049700086, 'Recall': 0.8426476416963932, 'desc': 'svc_test_c=.000000001'}\n"
     ]
    }
   ],
   "source": [
    "svc_performance_test_5 = BinaryClassificationPerformance(svc5.predict(X_test), y_test, 'svc_test_c=.000000001')\n",
    "svc_performance_test_5.compute_measures()\n",
    "print(svc_performance_test_5.performance_measures)"
   ]
  },
  {
   "cell_type": "markdown",
   "metadata": {},
   "source": [
    "### MODEL: LinearSVC C=.0000000001"
   ]
  },
  {
   "cell_type": "code",
   "execution_count": 142,
   "metadata": {},
   "outputs": [
    {
     "name": "stdout",
     "output_type": "stream",
     "text": [
      "{'Pos': 2523, 'Neg': 2477, 'TP': 2125, 'TN': 2269, 'FP': 208, 'FN': 398, 'Accuracy': 0.8788, 'Precision': 0.9108444063437634, 'Recall': 0.8422512881490289, 'desc': 'svc_test_c=.0000000001'}\n"
     ]
    }
   ],
   "source": [
    "svc_performance_test_6 = BinaryClassificationPerformance(svc6.predict(X_test), y_test, 'svc_test_c=.0000000001')\n",
    "svc_performance_test_6.compute_measures()\n",
    "print(svc_performance_test_6.performance_measures)"
   ]
  },
  {
   "cell_type": "markdown",
   "metadata": {},
   "source": [
    "### MODEL: LinearSVC C=.00000000001"
   ]
  },
  {
   "cell_type": "code",
   "execution_count": 143,
   "metadata": {},
   "outputs": [
    {
     "name": "stdout",
     "output_type": "stream",
     "text": [
      "{'Pos': 2523, 'Neg': 2477, 'TP': 2125, 'TN': 2269, 'FP': 208, 'FN': 398, 'Accuracy': 0.8788, 'Precision': 0.9108444063437634, 'Recall': 0.8422512881490289, 'desc': 'svc_test_c=.00000000001'}\n"
     ]
    }
   ],
   "source": [
    "svc_performance_test_7 = BinaryClassificationPerformance(svc7.predict(X_test), y_test, 'svc_test_c=.00000000001')\n",
    "svc_performance_test_7.compute_measures()\n",
    "print(svc_performance_test_7.performance_measures)"
   ]
  },
  {
   "cell_type": "markdown",
   "metadata": {},
   "source": [
    "### ROC plot to compare performance of various models and fits"
   ]
  },
  {
   "cell_type": "code",
   "execution_count": 155,
   "metadata": {},
   "outputs": [
    {
     "data": {
      "image/png": "[encoded data removed]",
      "text/plain": [
       "<Figure size 432x288 with 1 Axes>"
      ]
     },
     "metadata": {
      "needs_background": "light"
     },
     "output_type": "display_data"
    }
   ],
   "source": [
    "\n",
    "fits = [svc_performance_test_7, svc_performance_test_6, svc_performance_test_5, svc_performance_test_4, svc_performance_test_3, svc_performance_test_2, svc_performance_test_1]\n",
    "\n",
    "for fit in fits:\n",
    "#     print (fit.performance_measures)\n",
    "    plt.plot(fit.performance_measures['FP'] / fit.performance_measures['Neg'], \n",
    "             fit.performance_measures['TP'] / fit.performance_measures['Pos'], 'bo')\n",
    "    plt.text(fit.performance_measures['FP'] / fit.performance_measures['Neg'], \n",
    "             fit.performance_measures['TP'] / fit.performance_measures['Pos'], fit.desc)\n",
    "plt.axis([0, .4 , 0.7, 1])\n",
    "plt.title('ROC plot: test set')\n",
    "plt.xlabel('False positive rate')\n",
    "plt.ylabel('True positive rate')\n",
    "plt.show()"
   ]
  },
  {
   "cell_type": "markdown",
   "metadata": {},
   "source": [
    "---\n",
    "\n",
    "# <span style=\"color:red\">SUBMISSION</span>\n",
    "\n",
    "---"
   ]
  },
  {
   "cell_type": "code",
   "execution_count": 33,
   "metadata": {},
   "outputs": [
    {
     "name": "stdout",
     "output_type": "stream",
     "text": [
      "movie_data is: <class 'pandas.core.frame.DataFrame'>\n",
      "movie_data has 25000 rows and 2 columns \n",
      "\n",
      "the data types for each of the columns in movie_data:\n",
      "id        object\n",
      "review    object\n",
      "dtype: object \n",
      "\n",
      "the first 10 rows in movie_data:\n",
      "         id                                             review\n",
      "0  12311_10  Naturally in a film who's main themes are of m...\n",
      "1    8348_2  This movie is a disaster within a disaster fil...\n",
      "2    5828_4  All in all, this is a movie for kids. We saw i...\n",
      "3    7186_2  Afraid of the Dark left me with the impression...\n",
      "4   12128_7  A very accurate depiction of small time mob li...\n"
     ]
    },
    {
     "name": "stderr",
     "output_type": "stream",
     "text": [
      "[nltk_data] Downloading package stopwords to\n",
      "[nltk_data]     C:\\Users\\Molly\\AppData\\Roaming\\nltk_data...\n",
      "[nltk_data]   Package stopwords is already up-to-date!\n"
     ]
    },
    {
     "name": "stdout",
     "output_type": "stream",
     "text": [
      "Shape of CountVectorizer X:\n",
      "(25000, 1455074)\n",
      "Look at a few rows of the new quantitative features: \n",
      "   quotes_count  caps_count\n",
      "0             1           0\n",
      "1             1           0\n",
      "2             3           0\n",
      "3             1           0\n",
      "4             1           0\n",
      "5             1           0\n",
      "6             1           0\n",
      "7             1           0\n",
      "8             1           0\n",
      "9             3           0\n",
      "Size of combined bag of words and new quantitative variables matrix:\n",
      "(25000, 1455076)\n",
      "(25000, 1455076)\n",
      "Shape of X_test for submission:\n",
      "(25000, 1455076)\n",
      "SUCCESS!\n",
      "Number of rows in the submission test set (should be 25,000): \n"
     ]
    }
   ],
   "source": [
    "# read in test data for submission\n",
    "# CHANGE FILE PATH and my_random_seed number (any integer other than 74 will do): \n",
    "raw_data, X_test_submission = process_raw_data(fn='moviereviews_test.tsv', my_random_seed=25, test=True)\n",
    "\n",
    "print(\"Number of rows in the submission test set (should be 25,000): \")"
   ]
  },
  {
   "cell_type": "markdown",
   "metadata": {},
   "source": [
    "---\n",
    "\n",
    "Choose a <span style=\"color:red\">*single*</span> model for your submission. In this code, I am choosing the Ordinary Least Squares model fit, which is in the `ols` object. But you should choose the model that is performing the best for you! "
   ]
  },
  {
   "cell_type": "code",
   "execution_count": 35,
   "metadata": {},
   "outputs": [
    {
     "name": "stdout",
     "output_type": "stream",
     "text": [
      "0.49704\n"
     ]
    }
   ],
   "source": [
    "# store the id from the raw data\n",
    "my_submission = pd.DataFrame(raw_data[\"id\"])\n",
    "# concatenate predictions to the id\n",
    "my_submission[\"prediction\"] = rdg.predict(X_test_submission)\n",
    "# look at the proportion of positive predictions\n",
    "print(my_submission['prediction'].mean())"
   ]
  },
  {
   "cell_type": "code",
   "execution_count": 36,
   "metadata": {},
   "outputs": [
    {
     "data": {
      "text/html": [
       "<div>\n",
       "<style scoped>\n",
       "    .dataframe tbody tr th:only-of-type {\n",
       "        vertical-align: middle;\n",
       "    }\n",
       "\n",
       "    .dataframe tbody tr th {\n",
       "        vertical-align: top;\n",
       "    }\n",
       "\n",
       "    .dataframe thead th {\n",
       "        text-align: right;\n",
       "    }\n",
       "</style>\n",
       "<table border=\"1\" class=\"dataframe\">\n",
       "  <thead>\n",
       "    <tr style=\"text-align: right;\">\n",
       "      <th></th>\n",
       "      <th>id</th>\n",
       "      <th>review</th>\n",
       "      <th>quotes</th>\n",
       "      <th>word_count</th>\n",
       "      <th>exclaim_dbl</th>\n",
       "      <th>caps</th>\n",
       "      <th>questions</th>\n",
       "      <th>questions_2</th>\n",
       "      <th>exclaim</th>\n",
       "      <th>quotes_count</th>\n",
       "      <th>exclaim_count</th>\n",
       "      <th>question_count</th>\n",
       "      <th>caps_count</th>\n",
       "    </tr>\n",
       "  </thead>\n",
       "  <tbody>\n",
       "    <tr>\n",
       "      <th>0</th>\n",
       "      <td>12311_10</td>\n",
       "      <td>Naturally in a film who's main themes are of m...</td>\n",
       "      <td>0</td>\n",
       "      <td>131</td>\n",
       "      <td>770</td>\n",
       "      <td>0</td>\n",
       "      <td>0</td>\n",
       "      <td>0</td>\n",
       "      <td>0</td>\n",
       "      <td>1</td>\n",
       "      <td>1</td>\n",
       "      <td>1</td>\n",
       "      <td>0</td>\n",
       "    </tr>\n",
       "    <tr>\n",
       "      <th>1</th>\n",
       "      <td>8348_2</td>\n",
       "      <td>This movie is a disaster within a disaster fil...</td>\n",
       "      <td>0</td>\n",
       "      <td>169</td>\n",
       "      <td>897</td>\n",
       "      <td>0</td>\n",
       "      <td>0</td>\n",
       "      <td>0</td>\n",
       "      <td>0</td>\n",
       "      <td>1</td>\n",
       "      <td>2</td>\n",
       "      <td>1</td>\n",
       "      <td>0</td>\n",
       "    </tr>\n",
       "    <tr>\n",
       "      <th>2</th>\n",
       "      <td>5828_4</td>\n",
       "      <td>All in all, this is a movie for kids. We saw i...</td>\n",
       "      <td>2</td>\n",
       "      <td>176</td>\n",
       "      <td>989</td>\n",
       "      <td>0</td>\n",
       "      <td>0</td>\n",
       "      <td>0</td>\n",
       "      <td>0</td>\n",
       "      <td>3</td>\n",
       "      <td>1</td>\n",
       "      <td>1</td>\n",
       "      <td>0</td>\n",
       "    </tr>\n",
       "    <tr>\n",
       "      <th>3</th>\n",
       "      <td>7186_2</td>\n",
       "      <td>Afraid of the Dark left me with the impression...</td>\n",
       "      <td>0</td>\n",
       "      <td>112</td>\n",
       "      <td>658</td>\n",
       "      <td>0</td>\n",
       "      <td>0</td>\n",
       "      <td>0</td>\n",
       "      <td>0</td>\n",
       "      <td>1</td>\n",
       "      <td>1</td>\n",
       "      <td>1</td>\n",
       "      <td>0</td>\n",
       "    </tr>\n",
       "    <tr>\n",
       "      <th>4</th>\n",
       "      <td>12128_7</td>\n",
       "      <td>A very accurate depiction of small time mob li...</td>\n",
       "      <td>0</td>\n",
       "      <td>133</td>\n",
       "      <td>763</td>\n",
       "      <td>0</td>\n",
       "      <td>0</td>\n",
       "      <td>0</td>\n",
       "      <td>0</td>\n",
       "      <td>1</td>\n",
       "      <td>1</td>\n",
       "      <td>1</td>\n",
       "      <td>0</td>\n",
       "    </tr>\n",
       "  </tbody>\n",
       "</table>\n",
       "</div>"
      ],
      "text/plain": [
       "         id                                             review  quotes  \\\n",
       "0  12311_10  Naturally in a film who's main themes are of m...       0   \n",
       "1    8348_2  This movie is a disaster within a disaster fil...       0   \n",
       "2    5828_4  All in all, this is a movie for kids. We saw i...       2   \n",
       "3    7186_2  Afraid of the Dark left me with the impression...       0   \n",
       "4   12128_7  A very accurate depiction of small time mob li...       0   \n",
       "\n",
       "   word_count  exclaim_dbl  caps  questions  questions_2  exclaim  \\\n",
       "0         131          770     0          0            0        0   \n",
       "1         169          897     0          0            0        0   \n",
       "2         176          989     0          0            0        0   \n",
       "3         112          658     0          0            0        0   \n",
       "4         133          763     0          0            0        0   \n",
       "\n",
       "   quotes_count  exclaim_count  question_count  caps_count  \n",
       "0             1              1               1           0  \n",
       "1             1              2               1           0  \n",
       "2             3              1               1           0  \n",
       "3             1              1               1           0  \n",
       "4             1              1               1           0  "
      ]
     },
     "execution_count": 36,
     "metadata": {},
     "output_type": "execute_result"
    }
   ],
   "source": [
    "raw_data.head()"
   ]
  },
  {
   "cell_type": "code",
   "execution_count": 37,
   "metadata": {},
   "outputs": [
    {
     "data": {
      "text/html": [
       "<div>\n",
       "<style scoped>\n",
       "    .dataframe tbody tr th:only-of-type {\n",
       "        vertical-align: middle;\n",
       "    }\n",
       "\n",
       "    .dataframe tbody tr th {\n",
       "        vertical-align: top;\n",
       "    }\n",
       "\n",
       "    .dataframe thead th {\n",
       "        text-align: right;\n",
       "    }\n",
       "</style>\n",
       "<table border=\"1\" class=\"dataframe\">\n",
       "  <thead>\n",
       "    <tr style=\"text-align: right;\">\n",
       "      <th></th>\n",
       "      <th>id</th>\n",
       "      <th>prediction</th>\n",
       "    </tr>\n",
       "  </thead>\n",
       "  <tbody>\n",
       "    <tr>\n",
       "      <th>0</th>\n",
       "      <td>12311_10</td>\n",
       "      <td>1</td>\n",
       "    </tr>\n",
       "    <tr>\n",
       "      <th>1</th>\n",
       "      <td>8348_2</td>\n",
       "      <td>0</td>\n",
       "    </tr>\n",
       "    <tr>\n",
       "      <th>2</th>\n",
       "      <td>5828_4</td>\n",
       "      <td>1</td>\n",
       "    </tr>\n",
       "    <tr>\n",
       "      <th>3</th>\n",
       "      <td>7186_2</td>\n",
       "      <td>0</td>\n",
       "    </tr>\n",
       "    <tr>\n",
       "      <th>4</th>\n",
       "      <td>12128_7</td>\n",
       "      <td>1</td>\n",
       "    </tr>\n",
       "  </tbody>\n",
       "</table>\n",
       "</div>"
      ],
      "text/plain": [
       "         id  prediction\n",
       "0  12311_10           1\n",
       "1    8348_2           0\n",
       "2    5828_4           1\n",
       "3    7186_2           0\n",
       "4   12128_7           1"
      ]
     },
     "execution_count": 37,
     "metadata": {},
     "output_type": "execute_result"
    }
   ],
   "source": [
    "my_submission.head()"
   ]
  },
  {
   "cell_type": "code",
   "execution_count": 38,
   "metadata": {},
   "outputs": [
    {
     "data": {
      "text/plain": [
       "(25000, 2)"
      ]
     },
     "execution_count": 38,
     "metadata": {},
     "output_type": "execute_result"
    }
   ],
   "source": [
    "my_submission.shape"
   ]
  },
  {
   "cell_type": "code",
   "execution_count": 39,
   "metadata": {},
   "outputs": [],
   "source": [
    "# export submission file as pdf\n",
    "# CHANGE FILE PATH: \n",
    "my_submission.to_csv('moviereviews_submission_MollyCook.csv', index=False)"
   ]
  },
  {
   "cell_type": "markdown",
   "metadata": {},
   "source": [
    "# Submit to Canvas: 1) the CSV file that was written in the previous cell and 2) the url to the repository (GitHub or other) that contains your code and documentation"
   ]
  }
 ],
 "metadata": {
  "kernelspec": {
   "display_name": "Python 3 (ipykernel)",
   "language": "python",
   "name": "python3"
  },
  "language_info": {
   "codemirror_mode": {
    "name": "ipython",
    "version": 3
   },
   "file_extension": ".py",
   "mimetype": "text/x-python",
   "name": "python",
   "nbconvert_exporter": "python",
   "pygments_lexer": "ipython3",
   "version": "3.9.7"
  }
 },
 "nbformat": 4,
 "nbformat_minor": 2
}
