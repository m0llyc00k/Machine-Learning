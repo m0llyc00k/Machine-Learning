{
 "cells": [
  {
   "cell_type": "markdown",
   "metadata": {},
   "source": [
    "# Movie reviews\n",
    "\n",
    "This notebook takes you though a complete iteration of Machine Learning Assignment 1 - Movie reviews. The assignment details (including links to download the data) can be found [here](https://docs.google.com/document/d/1WGYw99e5q6j5V0Zrf2HveagU6URt_kVvdR8B9HYQ99E/edit?usp=sharing). "
   ]
  },
  {
   "cell_type": "code",
   "execution_count": 1076,
   "metadata": {},
   "outputs": [
    {
     "name": "stderr",
     "output_type": "stream",
     "text": [
      "[nltk_data] Downloading package punkt to\n",
      "[nltk_data]     C:\\Users\\Molly\\AppData\\Roaming\\nltk_data...\n",
      "[nltk_data]   Package punkt is already up-to-date!\n",
      "[nltk_data] Downloading package wordnet to\n",
      "[nltk_data]     C:\\Users\\Molly\\AppData\\Roaming\\nltk_data...\n",
      "[nltk_data]   Unzipping corpora\\wordnet.zip.\n"
     ]
    }
   ],
   "source": [
    "# all imports and magic commands\n",
    "import numpy as np\n",
    "import pandas as pd\n",
    "import re\n",
    "import nltk\n",
    "nltk.download('punkt')\n",
    "nltk.download('wordnet')\n",
    "from nltk import word_tokenize          \n",
    "from nltk.stem import WordNetLemmatizer\n",
    "import matplotlib.pyplot as plt\n",
    "from my_measures import BinaryClassificationPerformance\n",
    "from sklearn.feature_extraction.text import HashingVectorizer\n",
    "from sklearn.feature_extraction.text import TfidfTransformer\n",
    "from sklearn.feature_extraction.text import CountVectorizer\n",
    "from scipy.sparse import csr_matrix, hstack\n",
    "from sklearn.preprocessing import StandardScaler\n",
    "from sklearn.model_selection import train_test_split\n",
    "from sklearn.feature_extraction.text import TfidfVectorizer\n",
    "\n",
    "%matplotlib inline"
   ]
  },
  {
   "cell_type": "markdown",
   "metadata": {},
   "source": [
    "### IMPORTANT!!! Make sure you are using `BinaryClassificationPerformance` v1.02"
   ]
  },
  {
   "cell_type": "code",
   "execution_count": 1077,
   "metadata": {},
   "outputs": [
    {
     "name": "stdout",
     "output_type": "stream",
     "text": [
      "Help on class BinaryClassificationPerformance in module my_measures:\n",
      "\n",
      "class BinaryClassificationPerformance(builtins.object)\n",
      " |  BinaryClassificationPerformance(predictions, labels, desc, probabilities=None)\n",
      " |  \n",
      " |  Performance measures to evaluate the fit of a binary classification model, v1.02\n",
      " |  \n",
      " |  Methods defined here:\n",
      " |  \n",
      " |  __init__(self, predictions, labels, desc, probabilities=None)\n",
      " |      Initialize attributes: predictions-vector of predicted values for Y, labels-vector of labels for Y\n",
      " |  \n",
      " |  compute_measures(self)\n",
      " |      Compute performance measures defined by Flach p. 57\n",
      " |  \n",
      " |  img_indices(self)\n",
      " |      Get the indices of true and false positives to be able to locate the corresponding images in a list of image names\n",
      " |  \n",
      " |  ----------------------------------------------------------------------\n",
      " |  Data descriptors defined here:\n",
      " |  \n",
      " |  __dict__\n",
      " |      dictionary for instance variables (if defined)\n",
      " |  \n",
      " |  __weakref__\n",
      " |      list of weak references to the object (if defined)\n",
      "\n"
     ]
    }
   ],
   "source": [
    "help(BinaryClassificationPerformance)"
   ]
  },
  {
   "cell_type": "markdown",
   "metadata": {},
   "source": [
    "# Function for feature building and extraction on natural language data"
   ]
  },
  {
   "cell_type": "code",
   "execution_count": 1138,
   "metadata": {},
   "outputs": [],
   "source": [
    "# function that takes raw data and completes all preprocessing required before model fits\n",
    "def process_raw_data(fn, my_random_seed, test=False):\n",
    "    # read and summarize data\n",
    "    movie_data = pd.read_csv(fn, sep='\\t')\n",
    "    print(\"movie_data is:\", type(movie_data))\n",
    "    print(\"movie_data has\", movie_data.shape[0], \"rows and\", movie_data.shape[1], \"columns\", \"\\n\")\n",
    "    print(\"the data types for each of the columns in movie_data:\")\n",
    "    print(movie_data.dtypes, \"\\n\")\n",
    "    print(\"the first 10 rows in movie_data:\")\n",
    "    print(movie_data.head(5))\n",
    "    if (not test):\n",
    "        print(\"The rate of 'good' movie reviews in the dataset: \")\n",
    "        print(movie_data['sentiment'].mean())\n",
    "\n",
    "    # vectorize Bag of Words from review text; as sparse matrix\n",
    "#     if (not test): # fit_transform()\n",
    "#         hv = HashingVectorizer(n_features=2 ** 17, alternate_sign=False)\n",
    "#         X_hv = hv.fit_transform(movie_data.review)\n",
    "#         fitted_transformations.append(hv)\n",
    "#         print(\"Shape of HashingVectorizer X:\")\n",
    "#         print(X_hv.shape)\n",
    "#     else: # transform() \n",
    "#         X_hv = fitted_transformations[0].transform(movie_data.review)\n",
    "#         print(\"Shape of HashingVectorizer X:\")\n",
    "#         print(X_hv.shape)\n",
    "\n",
    "    nltk.download('stopwords')\n",
    "    stop_words = set(nltk.corpus.stopwords.words('english'))\n",
    "    \n",
    "#     class LemmaTokenizer:\n",
    "#         def __init__(self):\n",
    "#             self.wnl = WordNetLemmatizer()\n",
    "#         def __call__(self, doc):\n",
    "#             return [self.wnl.lemmatize(t) for t in word_tokenize(doc)]\n",
    "    \n",
    "#     vect = CountVectorizer(tokenizer=LemmaTokenizer())  \n",
    "\n",
    "    if (not test): # fit_transform()\n",
    "        cv = CountVectorizer(ngram_range=(1, 2),token_pattern=r'\\b\\w+\\b', min_df=1)\n",
    "        X_cv = cv.fit_transform(movie_data.review)\n",
    "        fitted_transformations.append(cv)\n",
    "        print(\"Shape of CountVectorizer X:\")\n",
    "        print(X_cv.shape)\n",
    "    else: # transform() \n",
    "        X_cv = fitted_transformations[0].transform(movie_data.review)\n",
    "        print(\"Shape of CountVectorizer X:\")\n",
    "        print(X_cv.shape)\n",
    "    \n",
    "    # http://scikit-learn.org/stable/modules/generated/sklearn.feature_extraction.text.TfidfTransformer.html\n",
    "    if (not test):\n",
    "        transformer = TfidfTransformer()\n",
    "        X_tfidf = transformer.fit_transform(X_cv)\n",
    "        fitted_transformations.append(transformer)\n",
    "    else:\n",
    "        X_tfidf = fitted_transformations[1].transform(X_cv)\n",
    "        \n",
    " \n",
    "    \n",
    "    # create additional quantitative features\n",
    "    # features from Amazon.csv to add to feature set\n",
    "   \n",
    "    caps_re = '([A-Z]){2,}'\n",
    "    \n",
    "    movie_data['quotes'] = movie_data['review'].str.count('\\\"')\n",
    "    movie_data['word_count'] = movie_data['review'].str.split(' ').str.len()\n",
    "    movie_data['exclaim_dbl'] = movie_data['review'].str.count(\"\\!?\")\n",
    "    movie_data['caps'] = movie_data['review'].str.count('([A-Z]){5,}')\n",
    "    movie_data['questions'] = movie_data['review'].str.count('(\\?)')\n",
    "    movie_data['questions_2'] = len(re.findall('(\\?){3,}', str(movie_data['review'])))\n",
    "    movie_data['exclaim'] = len(re.findall('(\\!){3,}', str(movie_data['review'])))\n",
    "    movie_data['quotes_count'] = movie_data['review'].str.split('\\\"').str.len()\n",
    "    movie_data['exclaim_count'] = movie_data['review'].str.split('\\!').str.len()\n",
    "    movie_data['question_count'] = movie_data['review'].str.split('\\?').str.len()\n",
    "    movie_data['caps_count'] = len(re.findall(caps_re, str(movie_data['review'])))\n",
    "\n",
    "    \n",
    "\n",
    "\n",
    "    X_quant_features = movie_data[[\"quotes_count\", \"caps_count\"]]\n",
    "    print(\"Look at a few rows of the new quantitative features: \")\n",
    "    print(X_quant_features.head(10))\n",
    "    \n",
    "    # Combine all quantitative features into a single sparse matrix\n",
    "    X_quant_features_csr = csr_matrix(X_quant_features)\n",
    "    X_combined = hstack([X_tfidf, X_quant_features_csr])\n",
    "    X_matrix = csr_matrix(X_combined) # convert to sparse matrix\n",
    "    print(\"Size of combined bag of words and new quantitative variables matrix:\")\n",
    "    print(X_matrix.shape)\n",
    "    \n",
    "    # Create `X`, scaled matrix of features\n",
    "    # feature scaling\n",
    "    if (not test):\n",
    "        sc = StandardScaler(with_mean=False)\n",
    "        X = sc.fit_transform(X_matrix)\n",
    "        fitted_transformations.append(sc)\n",
    "        print(X.shape)\n",
    "        y = movie_data['sentiment']\n",
    "    else:\n",
    "        X = fitted_transformations[2].transform(X_matrix)\n",
    "        print(X.shape)\n",
    "    \n",
    "    # Create Training and Test Sets\n",
    "    # enter an integer for the random_state parameter; any integer will work\n",
    "    if (test):\n",
    "        X_submission_test = X\n",
    "        print(\"Shape of X_test for submission:\")\n",
    "        print(X_submission_test.shape)\n",
    "        print('SUCCESS!')\n",
    "        return(movie_data, X_submission_test)\n",
    "    else: \n",
    "        X_train, X_test, y_train, y_test, X_raw_train, X_raw_test = train_test_split(X, y, movie_data, test_size=0.2, random_state=my_random_seed)\n",
    "        print(\"Shape of X_train and X_test:\")\n",
    "        print(X_train.shape)\n",
    "        print(X_test.shape)\n",
    "        print(\"Shape of y_train and y_test:\")\n",
    "        print(y_train.shape)\n",
    "        print(y_test.shape)\n",
    "        print(\"Shape of X_raw_train and X_raw_test:\")\n",
    "        print(X_raw_train.shape)\n",
    "        print(X_raw_test.shape)\n",
    "        print('SUCCESS!')\n",
    "        return(X_train, X_test, y_train, y_test, X_raw_train, X_raw_test)"
   ]
  },
  {
   "cell_type": "markdown",
   "metadata": {},
   "source": [
    "# Create training and test sets from function"
   ]
  },
  {
   "cell_type": "code",
   "execution_count": 1139,
   "metadata": {},
   "outputs": [
    {
     "name": "stdout",
     "output_type": "stream",
     "text": [
      "movie_data is: <class 'pandas.core.frame.DataFrame'>\n",
      "movie_data has 25000 rows and 3 columns \n",
      "\n",
      "the data types for each of the columns in movie_data:\n",
      "id           object\n",
      "sentiment     int64\n",
      "review       object\n",
      "dtype: object \n",
      "\n",
      "the first 10 rows in movie_data:\n",
      "       id  sentiment                                             review\n",
      "0  5814_8          1  With all this stuff going down at the moment w...\n",
      "1  2381_9          1  \\The Classic War of the Worlds\\\" by Timothy Hi...\n",
      "2  7759_3          0  The film starts with a manager (Nicholas Bell)...\n",
      "3  3630_4          0  It must be assumed that those who praised this...\n",
      "4  9495_8          1  Superbly trashy and wondrously unpretentious 8...\n",
      "The rate of 'good' movie reviews in the dataset: \n",
      "0.5\n"
     ]
    },
    {
     "name": "stderr",
     "output_type": "stream",
     "text": [
      "[nltk_data] Downloading package stopwords to\n",
      "[nltk_data]     C:\\Users\\Molly\\AppData\\Roaming\\nltk_data...\n",
      "[nltk_data]   Package stopwords is already up-to-date!\n"
     ]
    },
    {
     "name": "stdout",
     "output_type": "stream",
     "text": [
      "Shape of CountVectorizer X:\n",
      "(25000, 1455074)\n",
      "Look at a few rows of the new quantitative features: \n",
      "   quotes_count  caps_count\n",
      "0             1           0\n",
      "1             9           0\n",
      "2             1           0\n",
      "3             7           0\n",
      "4             7           0\n",
      "5             1           0\n",
      "6             1           0\n",
      "7             1           0\n",
      "8             1           0\n",
      "9             5           0\n",
      "Size of combined bag of words and new quantitative variables matrix:\n",
      "(25000, 1455076)\n",
      "(25000, 1455076)\n",
      "Shape of X_train and X_test:\n",
      "(20000, 1455076)\n",
      "(5000, 1455076)\n",
      "Shape of y_train and y_test:\n",
      "(20000,)\n",
      "(5000,)\n",
      "Shape of X_raw_train and X_raw_test:\n",
      "(20000, 14)\n",
      "(5000, 14)\n",
      "SUCCESS!\n",
      "Number of fits stored in `fitted_transformations` list: \n",
      "3\n"
     ]
    }
   ],
   "source": [
    "# create an empty list to store any use of fit_transform() to transform() later\n",
    "# it is a global list to store model and feature extraction fits\n",
    "fitted_transformations = []\n",
    "\n",
    "# CHANGE FILE PATH and my_random_seed number (any integer other than 74 will do): \n",
    "X_train, X_test, y_train, y_test, X_raw_train, X_raw_test = process_raw_data(fn='moviereviews_train.tsv', my_random_seed=25)\n",
    "\n",
    "print(\"Number of fits stored in `fitted_transformations` list: \")\n",
    "print(len(fitted_transformations))"
   ]
  },
  {
   "cell_type": "markdown",
   "metadata": {},
   "source": [
    "# Fit (and tune) Various Models"
   ]
  },
  {
   "cell_type": "markdown",
   "metadata": {},
   "source": [
    "### MODEL: ordinary least squares"
   ]
  },
  {
   "cell_type": "code",
   "execution_count": 1140,
   "metadata": {},
   "outputs": [
    {
     "name": "stdout",
     "output_type": "stream",
     "text": [
      "{'Pos': 9977, 'Neg': 10023, 'TP': 2783, 'TN': 7642, 'FP': 2381, 'FN': 7194, 'Accuracy': 0.52125, 'Precision': 0.5389233152594888, 'Recall': 0.278941565600882, 'desc': 'ols_train'}\n"
     ]
    }
   ],
   "source": [
    "from sklearn import linear_model\n",
    "ols = linear_model.SGDClassifier(loss=\"squared_loss\")\n",
    "ols.fit(X_train, y_train)\n",
    "\n",
    "ols_performance_train = BinaryClassificationPerformance(ols.predict(X_train), y_train, 'ols_train')\n",
    "ols_performance_train.compute_measures()\n",
    "print(ols_performance_train.performance_measures)"
   ]
  },
  {
   "cell_type": "markdown",
   "metadata": {},
   "source": [
    "### MODEL: SVM, linear"
   ]
  },
  {
   "cell_type": "code",
   "execution_count": 1141,
   "metadata": {},
   "outputs": [
    {
     "name": "stdout",
     "output_type": "stream",
     "text": [
      "{'Pos': 9977, 'Neg': 10023, 'TP': 9977, 'TN': 10023, 'FP': 0, 'FN': 0, 'Accuracy': 1.0, 'Precision': 1.0, 'Recall': 1.0, 'desc': 'svm_train'}\n"
     ]
    }
   ],
   "source": [
    "from sklearn import linear_model\n",
    "svm = linear_model.SGDClassifier()\n",
    "svm.fit(X_train, y_train)\n",
    "\n",
    "svm_performance_train = BinaryClassificationPerformance(svm.predict(X_train), y_train, 'svm_train')\n",
    "svm_performance_train.compute_measures()\n",
    "print(svm_performance_train.performance_measures)"
   ]
  },
  {
   "cell_type": "markdown",
   "metadata": {},
   "source": [
    "### MODEL: logistic regression"
   ]
  },
  {
   "cell_type": "code",
   "execution_count": 1142,
   "metadata": {},
   "outputs": [
    {
     "name": "stdout",
     "output_type": "stream",
     "text": [
      "{'Pos': 9977, 'Neg': 10023, 'TP': 9977, 'TN': 10023, 'FP': 0, 'FN': 0, 'Accuracy': 1.0, 'Precision': 1.0, 'Recall': 1.0, 'desc': 'lgs_train'}\n"
     ]
    }
   ],
   "source": [
    "from sklearn import linear_model\n",
    "lgs = linear_model.SGDClassifier(loss='log')\n",
    "lgs.fit(X_train, y_train)\n",
    "\n",
    "lgs_performance_train = BinaryClassificationPerformance(lgs.predict(X_train), y_train, 'lgs_train')\n",
    "lgs_performance_train.compute_measures()\n",
    "print(lgs_performance_train.performance_measures)"
   ]
  },
  {
   "cell_type": "markdown",
   "metadata": {},
   "source": [
    "### MODEL: Naive Bayes"
   ]
  },
  {
   "cell_type": "code",
   "execution_count": 1143,
   "metadata": {},
   "outputs": [
    {
     "name": "stdout",
     "output_type": "stream",
     "text": [
      "{'Pos': 9977, 'Neg': 10023, 'TP': 9977, 'TN': 10023, 'FP': 0, 'FN': 0, 'Accuracy': 1.0, 'Precision': 1.0, 'Recall': 1.0, 'desc': 'nbs_train'}\n"
     ]
    }
   ],
   "source": [
    "from sklearn.naive_bayes import MultinomialNB\n",
    "nbs = MultinomialNB()\n",
    "nbs.fit(X_train, y_train)\n",
    "\n",
    "nbs_performance_train = BinaryClassificationPerformance(nbs.predict(X_train), y_train, 'nbs_train')\n",
    "nbs_performance_train.compute_measures()\n",
    "print(nbs_performance_train.performance_measures)"
   ]
  },
  {
   "cell_type": "markdown",
   "metadata": {},
   "source": [
    "### MODEL: Perceptron"
   ]
  },
  {
   "cell_type": "code",
   "execution_count": 1144,
   "metadata": {},
   "outputs": [
    {
     "name": "stdout",
     "output_type": "stream",
     "text": [
      "{'Pos': 9977, 'Neg': 10023, 'TP': 9977, 'TN': 10023, 'FP': 0, 'FN': 0, 'Accuracy': 1.0, 'Precision': 1.0, 'Recall': 1.0, 'desc': 'prc_train'}\n"
     ]
    }
   ],
   "source": [
    "from sklearn import linear_model\n",
    "prc = linear_model.SGDClassifier(loss='perceptron')\n",
    "prc.fit(X_train, y_train)\n",
    "\n",
    "prc_performance_train = BinaryClassificationPerformance(prc.predict(X_train), y_train, 'prc_train')\n",
    "prc_performance_train.compute_measures()\n",
    "print(prc_performance_train.performance_measures)"
   ]
  },
  {
   "cell_type": "markdown",
   "metadata": {},
   "source": [
    "### MODEL: Ridge Regression Classifier"
   ]
  },
  {
   "cell_type": "code",
   "execution_count": 1145,
   "metadata": {},
   "outputs": [
    {
     "name": "stdout",
     "output_type": "stream",
     "text": [
      "{'Pos': 9977, 'Neg': 10023, 'TP': 9977, 'TN': 10023, 'FP': 0, 'FN': 0, 'Accuracy': 1.0, 'Precision': 1.0, 'Recall': 1.0, 'desc': 'rdg_train'}\n"
     ]
    }
   ],
   "source": [
    "from sklearn import linear_model\n",
    "rdg = linear_model.RidgeClassifier()\n",
    "rdg.fit(X_train, y_train)\n",
    "\n",
    "rdg_performance_train = BinaryClassificationPerformance(rdg.predict(X_train), y_train, 'rdg_train')\n",
    "rdg_performance_train.compute_measures()\n",
    "print(rdg_performance_train.performance_measures)"
   ]
  },
  {
   "cell_type": "markdown",
   "metadata": {},
   "source": [
    "### MODEL: Random Forest Classifier"
   ]
  },
  {
   "cell_type": "code",
   "execution_count": 1146,
   "metadata": {},
   "outputs": [
    {
     "name": "stdout",
     "output_type": "stream",
     "text": [
      "{'Pos': 9977, 'Neg': 10023, 'TP': 7974, 'TN': 7574, 'FP': 2449, 'FN': 2003, 'Accuracy': 0.7774, 'Precision': 0.7650388563753238, 'Recall': 0.7992382479703317, 'desc': 'rdf_train'}\n"
     ]
    }
   ],
   "source": [
    "from sklearn.ensemble import RandomForestClassifier\n",
    "rdf = RandomForestClassifier(max_depth=2, random_state=0)\n",
    "rdf.fit(X_train, y_train)\n",
    "\n",
    "rdf_performance_train = BinaryClassificationPerformance(rdf.predict(X_train), y_train, 'rdf_train')\n",
    "rdf_performance_train.compute_measures()\n",
    "print(rdf_performance_train.performance_measures)"
   ]
  },
  {
   "cell_type": "markdown",
   "metadata": {},
   "source": [
    "### ROC plot to compare performance of various models and fits"
   ]
  },
  {
   "cell_type": "code",
   "execution_count": 1147,
   "metadata": {
    "scrolled": false
   },
   "outputs": [
    {
     "data": {
      "image/png": "[encoded data removed]",
      "text/plain": [
       "<Figure size 432x288 with 1 Axes>"
      ]
     },
     "metadata": {
      "needs_background": "light"
     },
     "output_type": "display_data"
    }
   ],
   "source": [
    "fits = [ols_performance_train, svm_performance_train, lgs_performance_train, nbs_performance_train, prc_performance_train, rdg_performance_train, rdf_performance_train]\n",
    "\n",
    "for fit in fits:\n",
    "    plt.plot(fit.performance_measures['FP'] / fit.performance_measures['Neg'], \n",
    "             fit.performance_measures['TP'] / fit.performance_measures['Pos'], 'bo')\n",
    "    plt.text(fit.performance_measures['FP'] / fit.performance_measures['Neg'], \n",
    "             fit.performance_measures['TP'] / fit.performance_measures['Pos'], fit.desc)\n",
    "plt.axis([0, 1, 0, 1])\n",
    "plt.title('ROC plot: test set')\n",
    "plt.xlabel('False positive rate')\n",
    "plt.ylabel('True positive rate')\n",
    "plt.show()"
   ]
  },
  {
   "cell_type": "markdown",
   "metadata": {},
   "source": [
    "### looking at reviews based on their classification\n",
    "\n",
    "Let's say we decide that Ordinary Least Squares (OLS) Regression is the best model for generalization. Let's take a look at some of the reviews and try to make a (subjective) determination of whether it's generalizing well. "
   ]
  },
  {
   "cell_type": "code",
   "execution_count": 1148,
   "metadata": {},
   "outputs": [],
   "source": [
    "ols_predictions = ols.predict(X_train)"
   ]
  },
  {
   "cell_type": "markdown",
   "metadata": {},
   "source": [
    "### let's look at some false positives:"
   ]
  },
  {
   "cell_type": "code",
   "execution_count": 1149,
   "metadata": {},
   "outputs": [
    {
     "name": "stdout",
     "output_type": "stream",
     "text": [
      "Examples of false positives:\n",
      "94\n",
      "This is the kind of movie which shows the paucity of French cinema when it comes to making thrillers.The director's desire to \\sound American\\\" is so glaring that you will not be fooled a minute,unless you have not seen a serial killer movie since \\\"Peeping Tom\\\".<br /><br />Two male cops (or one and a half,more like,as you will see),horrible murders,a plot more complicated than complex.Charles Berling is not lucky with the genre(see the astoundlingly dumb \\\"l'inconnu de Strasbourg\\\" a couple of years ago).The scenes with his pregnant wife -which are supposed to be a counterpart for the otherwise noir atmosphere of the rest of the plot-are among the worst ever filmed.Add a steamy love scene between them and a gory autopsy to get a PG 12 and thus to attract the huge adolescent audience.A violent and absurd conclusion,followed by a silent epilogue who could make a nice commercial for the côte d'azur,it's really the silence of the lame.\"\n",
      "* * * * * * * * * \n",
      "333\n",
      "Start of with the good bit: several times Swayze talks Zulu to his friends or that language is heard among the tribes. That's a great plus, as normally USA & UK movie audiences think all people on this planet speak English (just in case you're one of them: no they don't).<br /><br />But the acting is 'tenenkrommend' as we say in The Netherlands (it makes your toes curl -and not in a good way). I like Swayze but in this he's awful. The muscles in his jaws make overtime and he's frowning the whole movie -some one must have told him it looks butch. No Patrick: it looks silly and is compensation for lack of character. Alison Doody (Elizabeth) has opted for a style of acting that does not meet the style of her co-workers. Her acting is só relaxed that this movie could have been set in the current days. And it's not. Your frock was a clue, Alison.<br /><br />The best acting came from the people from the African Continent and Sided Onyulo as Umbopa I liked best. Clear, warm and in character, his performance is a joy to watch. <br /><br />General: it is mwah-entertaining on a rainy day. Pity. Could have been better. Sack the director.\n",
      "* * * * * * * * * \n",
      "627\n",
      "I'm sure that the folks on the Texas/Louisiana border must have had a a good laugh or two when Paramount's B picture unit inflicted this one on the war time public. Very simply the area along the Sabine River where the film opens is cotton country just like the rest of the Deep South or at least the Deep South was post Civl War. No big cattle empires there, they're much farther west in Texas, farther than Richard Dix and Preston Foster could ride to set up their empire.<br /><br />The film begins with the two of them partners in a riverboat and when Leo Carrillo tries a theft of their services by not paying them for hauling his cattle, they keep the cattle. And that's the beginning of the big Ponderosa like ranch they start.<br /><br />Along the way Foster marries Dix's sister played by Frances Gifford and feuds with his much smaller neighbors. They also have some further run ins with Leo Carrillo.<br /><br />Anyway, us easterners who like westerns usually don't bother with geographical trifles and it's still a good western from the production mill of Harry Sherman who produced all those Hopalong Cassidy westerns for Paramount. The climax is a blazing, and I mean that literally, gun battle that should have maybe been used on an A production.<br /><br />But I wouldn't have any but western fans look at it.\n",
      "* * * * * * * * * \n",
      "983\n",
      "Men, do I love police movies filled with action, shooting, chases etcetera.<br /><br />Boy, was I let down after watching this short and unsatisfying movie. We've seen it all before, the hostages, the bank, the surrounding... Yet, 2 bad guys that shoot down multiple officers and innocent people who simply stay in the line of fire - without getting hit due to some Kevlar.<br /><br />Not just a few shots, no, hundreds of shots. Going back into the bank, where the dumb hostages didn't lock the safe or doors when the bad guys went out. How stupid did the director think we'd be.<br /><br />Okay, the shots in between that fake a documentary were good, but after seeing the film I only got the thought: why didn't the police get a decent shooting course? And why where there so many cops and was SWAT on a real long break. Truly bad.\n",
      "* * * * * * * * * \n",
      "1004\n",
      "We gave up at the point where George Clooney's character has his finger-nails extracted. We were not squeamish - having sat through an hour of this drivel we just knew what it felt like. To say this film was incomprehensible, boring, pretentious twaddle would be to over-praise it! How did people manage to sit through this confusing, slow, depressing pseud's corner of a film, let alone nominate it for an Oscar? Clooney looked as ill as we felt watching him. What was he thinking? Oh .. and what was with those subtitles? - did we just have a dud DVD or was the original film done like that - sentences left hanging in mid-air? The film was hard enough to follow without that as well. I pity the cast, who obviously did their best with the material available.\n",
      "* * * * * * * * * \n",
      "1023\n",
      "This movie is awful. At the end of it you will realize that several hours have been stolen from your life that you can't get back. The \\twist\\\" ending is very contrived. The character development leading up to this ending is not consistent with their final actions at the conclusion. Ninety minutes of preparation-- with the premise that the Rob Lowe character will die on Christmas Eve-- is explained away in literally ninety seconds of \\\"No we were just tricking you.\\\" Then the Rob Lowe character is not even upset about it! \\\"I will forgive you if you can forgive me,\\\" is as upset as he gets. If someone took weeks to convince me I was about to die and then said \\\"No, sorry , just fooling you\\\" I would raise some serious hell. I don't feel bad about giving away the spoiler because I might be able to save some of you out there from watching. Please save yourself and DON'T WATCH THIS MOVIE.\"\n",
      "* * * * * * * * * \n",
      "1310\n",
      "The episodic version of Robert Heinlein's Starship Troopers plays out at a deathly slow pace, following Johnny Rico leaving his parents, the (not very attractive) girl he lusts for, and joining the mobile infantry. The aliens in the show are nothing like the barbaric bugs from the film, instead being squid-like monsters that shoot lasers out of their mouths.<br /><br />Throughout watching this version, I was continually amazed at just how fruity they've managed to make the whole thing. The show is concerned mostly with the relationships between the recruits, and the aching, prolonged gazes they give each other through their battle armour visors, with 80s synth pop sometimes arriving *during* the sparse battle sequences which at last turning up in the final few episodes. In terms of construction, it owes a debt to Top Gun, sharing much in terms of pacing and content (and all that implies).\n",
      "* * * * * * * * * \n",
      "1561\n",
      "So 'Thinner'... Yep.. This Steven Bachman (read Steven King) yarn about a man who gets his just desserts from a Gypsy Elder who he just killed, The story itself is there, no doubt about it, but I don't know why I didn't enjoy it more than I could have. I guess what really distracted me was the actors. I mean, who's the lead? Robert John Burke? Who's he? And fer crying out loud, can someone please stop hiring Joseph Mantegna for every Italian Mafioso role there ever is? And while we're at it, does every Mafioso have to have a pasta cooking Italian mother? The only good acting job done here is under 10 pounds of makeup, Michael Constantine as the Gypsy elder. He's pretty good. But the rest, I make you all, \\better actors...\\\"\"\n",
      "* * * * * * * * * \n",
      "1573\n",
      "I wonder who, how and more importantly why the decision to call Richard Attenborough to direct the most singular sensation to hit Broadway in many many years? He's an Academy Award winning director. Yes, he won for Ghandi you moron! Jeremy Irons is an Academy winning actor do you want to see him play Rocky Balboa? He has experience with musicals. Really? \\Oh what a lovely war\\\" have you forgotten? To answer your question, yes! The film is a disappointment, clear and simple. Not an ounce of the live energy survived the heavy handedness of the proceedings. Every character danced beautifully they were charming but their projection was theatrical. I felt nothing. But when I saw it on stage I felt everything. The film should have been cast with stars, unknown, newcomers but stars with compelling unforgettable faces even the most invisible of the group. Great actors who could dance beautifully. Well Michael Douglas was in it. True I forgot I'm absolutely wrong and you are absolutely right. Nothing like a Richard Attenborough Michael Douglas musical.\"\n",
      "* * * * * * * * * \n",
      "1678\n",
      "Suffice to say that - despite the odd ludicrous panegyric to his soi disant \\abilities\\\" posted here - the director of this inept, odious tosh hasn't made a film since. Well that is excellent news as far as I'm concerned.<br /><br />Dead Babies has all of the bile of its creator, but lacks the wit and technical proficiency that make Martin Amis the novelist readable.<br /><br />When will the British film industry wake up and realise that if it wants to regain the status it once had it should stop producing rubbish like this and make something real people will actually want to watch?<br /><br />Avoid like the plague.\"\n",
      "* * * * * * * * * \n",
      "1831\n",
      "this is the worst movie i've ever seen. i'm not kidding. the next time it comes on, i will just continually run my head into a wall. it would me more enjoyable to sit in an emergency room trying to explain to a doctor why my brain is swollen than attempting to make it through this movie again.<br /><br />i hope that black and stiller never work together on a project this bad again. they are both good comedians, so i was shocked this was so awkward.<br /><br />if they had to do it all over again, i'm pretty sure that they would decide to not do it. the folks that fronted the money, must have lost a ton. not really- because the special effects (all 2 of them) were terrible.\n",
      "* * * * * * * * * \n",
      "1858\n",
      "I'm glad that I saw this film after Mr.Sandler became famous.<br /><br />It is bad....bad,bad,bad. There is no plot. It's like watching a painfully dull home movie.<br /><br />I really enjoy his other films......but if you're a fan like me....stay away from this one. It may change your thoughts on Adam. You may never recover from the horror that is this film....I've had a better time watching old folks play scrabble in a home.......\n",
      "* * * * * * * * * \n",
      "2177\n",
      "I used to review videos for Joe Bob Briggs' legendary \\We Are The Weird\\\" newsletter. I saw a lot of stinkers, but this by far was the worst, and the years have not been kind - it remains the most indecent crime against cinema I have ever witnessed. Don't get me wrong - CAGED TERROR is nominally more technically competent than, say, MONSTER-A-GO-GO or THE GUY FROM HARLEM or something of that ilk. What solidifies its claim as Worst Movie Of All Time for me is its unique blend of bare proficiency with crippling pretension. Is it a Vietnam commentary? An ecological protest? An incitement to race riot? A study of man's inhumanity to man? A novel exercise in padding nature footage out to (nearly) feature length? In short: a hep young urban professional (possibly the most loathesome screen character ever) somehow seduces a nubile Asian-American associate into camping in the woods with him. After brow-beating her with quasi-philosophical clap for the better part of an hour, they run across two wandering veterans, the unforgettable Jarvis (a righteous brother) and the Troubadour (guitar-toting Manson Family reject). Hey, a plot twist! Tension! Action! Suspense! Well, no, just a climactic getting-locked-in-a-makeshift-wire-chicken-coop-and-lightly-belittled scene. The victim in question stares listlessly at the captors and mutters, \\\"No... no... please... don't...\\\" Meanwhile, Jarvis addresses the Troubadour as \\\"Trouby\\\" once every two minutes, bringing to mind nothing so much as the alien star of Juan Picquer's POD PEOPLE. That's about all that happens in CAGED TERROR, and such a synopsis perhaps makes it seem almost tolerable. But trust me, I've seen thousands of movies in my life, and this one has remained, for the past eight years since I first saw it, the absolute worst. (I pop it in the old VCR once every two years or so just to reassure myself, and reassure myself I certainly do.) I think the element which makes CAGED TERROR so particularly hateful is this: very little happens, and although what little does happen happens quite poorly and quite slowly, what truly makes it compulsively unwatchable is the suffocating sense that the filmmakers REALLY, REALLY WANT to shove some kind of message down your throat. But because CAGED TERROR is so incompetent and ineffectual, what was intended as a civics lesson becomes a crash course in intense viewing discomfort. This film is 75 minutes long and feels like three and a half hours. It's terrible, truly truly terrible. Folks, trust me, I saw GHOSTS THAT STILL WALK and this one is worse. Go see it! You'll thank me. And curse me. Just for the record, my favorite line: (In CAGED TERROR but perhaps EVER) \\\"Yeah, well, you probably think the Song of Solomon was an allegory for Christ's love for the church...!\\\" (NOTE: Must be delivered in a tone of concerted condecension.)\"\n",
      "* * * * * * * * * \n",
      "2525\n",
      "Prom Night is about a girl named Donna (Brittany Snow) who is being chased by a psycho killer trying to kill her at her prom night. And by doing so killing her family, friends, and her enemies. <br /><br />Now before I begin let me say have you been tired of PG-13 horror movies that haven't been scary lately. Are you tired of stupid girl dialog 'Oh my god' and talking about girlish things. And are you really tired of girls in relationships and then crying. And the last thing are you tired of the US remaking Asian, Japanese, and Chinese films. That pretty much sums up Prom night but I'm still not done with the review.<br /><br />The only reason to see 'Prom night' is to crack a laugh at the kills. If not, don't see Prom night. You never see the kills an only hear screaming and you see some blood on the wall. And by the way the deaths are repeating like 24/7. So not only aren't they scary but it's obnoxious. By the time I met the cast I think I was ready to hurl. Too much girl talk, too much guy talk, and lots of 'Oh my gosh. It's our prom'. I understand it's fun but seriously is it too much to ask not to concentrate. <br /><br />If I were to put Prom Night on the list of worst films of 2008 without seeing the other films I'd be the first one too. I'm not going to be surprised if it gets released on DVD for cheap and quick. Seriously don't spend your money or the time for dull acting, cheap scares, and a 'Night to die for' when watching the film.<br /><br />1 star out of 10. (P.S. If I could give the film zero stars I would).\n",
      "* * * * * * * * * \n",
      "2678\n",
      "\\Scary Movie 2\\\" is a let down to the Scary Movie Franchise. Scary Movie 1, 3 and 4 were all good but this one was kind of boring and not very funny. Luckily they picked their act up after this one and made two more great Scary Movies.<br /><br />This film is about a group of teens who get tricked by their Professor into going to a haunted mansion for a night. Things start to go wrong and then they realize they have to escape.<br /><br />This movie isn't horrible but they could have improved quite a few things. It is a bit of fun and if you liked the other movies in the Scary Movie franchise then give this a watch - but I don't think you will like it nearly as much.\"\n",
      "* * * * * * * * * \n",
      "2850\n",
      "WOW! Why would anybody make a sequel to an already rancid film? Half Past Dead was a bad movie but at least at had an idea of what it wanted to be. HPD2 has no clue of what it wants to be. It just exists on screen for reasons I cant explain. Spoiler: The whole movie is this: Twitch(played by Kurupt of Tha Dogg Pound) gets transferred to another jail where there might be a box filled with gold bricks buried. In the jail, a riot breaks out between rival inmates, one of them gets shot by a guy named Cortez and Cortez plans his escape. During a conjugal visit, Twitch's fiancée and Burke's(played by Bill Goldberg)daughter get kidnapped by Cortez and are held in an execution room. Burke reluctantly befriends Twitch and they end up getting into trouble with the idiotic inmates while finding out that Cortez has their loved ones.<br /><br />Opinion: This is the most unnecessary sequel since Universal Soldier: The Return. The script is terrible, the acting is horrendous, the dialog is a joke and everybody in this movie is a caricature. Look, I know it was low budget film but that is not an excuse for these guys to not put effort into what they do. Nobody in this \\movie\\\" believes in the characters they play. Nobody in this \\\"movie can be taken seriously as an actor. Kurupt should be ashamed of himself. His character \\\"Twitch\\\" is pretty much a spineless minstrel puppet who spends most of his time posing while getting jacked up by Burke or the other inmates. Bill Goldberg spends most of his time sulking throughout the movie as if he had to take a PHD(pretty huge dump). The fight scenes are poorly choreographed and pathetic and for an action movie HPD2 is pretty boring even when action is happening! Don't let anybody tell you that this movie is somewhat decent. It stinks and is a prime reason why people despise Follywood.\"\n",
      "* * * * * * * * * \n",
      "3259\n",
      "Production line collection of fart jokes that pretends 'Babe' was never made; the writers clearly hoped that the gimmick of seeing animals talk would be enough to keep the movie going. It's not. Eddie Murphy sells out yet again as a doctor who rediscovers his forgotten childhood gift for understanding the incessant and witless chatter of guinea pigs, tigers, rats, dogs and pigeons. The voice cast is impressive (Albert Brooks, Julie Kavner, Reni Santoni, John Leguizamo, Garry Shandling, Ellen DeGeneres, Paul Reubens, Brian Doyle-Murray) but the script is so unimaginative, charmless and depressingly unfunny that the whole thing rattles down the bin chute pretty quickly.\n",
      "* * * * * * * * * \n",
      "3558\n",
      "May contain spoilers.<br /><br />I say that, but anyone savvy enough to be reading this can probably figure out every plot turn right from the start.<br /><br />This is not a movie that I liked. I didn't hate it in the way of some movies that insult your intelligence, but it all felt too predictable on its trudge to the requisite happy ending. There were funny bits along the way to be sure, but few were original. At least it didn't go for the gutter.<br /><br />Christina Applegate looks fresh, and Ben Affleck works hard. Their scenes together are actually the only redeeming feature. Everyone else is a cardboard cutout, including, surprisingly, James Gandolfini, who must have made this as a favor to someone.<br /><br />All in all, it's a harmless, but not inspiring, 90 minutes.\n",
      "* * * * * * * * * \n",
      "3628\n",
      "If you watched this movie you know why I said \\Jesus, Jesus, Jesus\\\". Hehehe!!! Every time they said \\\"Jesus, Jesus, Jesus\\\"... I laughed thinking \\\"Jesus, Jesus, Jesus, why did I rent this movie\\\"? I cannot believe how Oscar winners like Freeman and Spacey appeared here in the background while Timberlake and LL Cool J grabbed the screen. WTF is Timberlake? Dreaful acting! I think someone like Joshua Jackson could have done a much better job! This job was perfect for Joshua Jackson and believe me I am not a big fun of him... but I really prefer an actor, not this android called Timberlake. And his girlfriend was shallow, hollow and annoying as hell. I was happy when they both were popped in the street.<br /><br />The story was OK and I think Dylan Mc Dermott did his bad guy role very well. The movie was entertaining but I think Timberlake ruined it all. It would have been much enjoyable without him.<br /><br />By the way, the music was OK, but suddenly every time the music appeared the movie turned into a MTV video clip with flashes, low motion and things like that. Something misplaced for this cops movie I thought. Maybe they wanted to make a MTV video clip for Timberlake.\"\n",
      "* * * * * * * * * \n",
      "3872\n",
      "This film was positively the worst film I have ever watched. I couldn't sit through the whole thing. I also think writer must have some weird fetish for women peeing puking and crapping... I mean what was that all about! I cant believe this was even made and am disgusted at have #ingwasted a £4 rental fee. The quality both picture and sound are terrible, the acting... well doesn't exist . It was a poor excuse for a film and the scenes of pee, crap and puke were reminiscent of 2 girls 1 cup. Urghh....... AVOID AT ALL COST! The girls looked like they had been picked off the street and only got the part cos they'd be willing to take their tops off... While these girls have nice bodies it certainly didn't make up for the fact their shrieking was awful unconvincing and a pain to my ears.<br /><br />This was like (possibly worse) than an ammateur school production without any proper direction and hey there is no need for a set as it all seems to revolve around a car?! <br /><br />Definatey not one to buy folks. Sorry if my first comment is terribly negative but I could not find anything positive to say and I would like to think I may save someone else wasting their money like I have.\n",
      "* * * * * * * * * \n",
      "4084\n",
      "I cannot see why filmmakers remade this movie. <br /><br />The 1972 movie with McQueen and McGraw is almost a classic. Steve McQueen was an outstanding actor and Baldwin is only an inadequate actor. He has no passion in his play.Also the action in the original \\Getaway\\\" was fantastic. But the remake has no action! It is almost boring despite the fact that the film-making in 1972 was more difficult than in 1994. <br /><br />I don't understand the way that Baldwin imprisoned from Mexico. I think this is a mistake in the story.<br /><br />So i think that there was no need to remake it, or if they decided to remake a classic, they must choose an excellent actor for the first role, like Johnny Depp or Brad Pitt...\"\n",
      "* * * * * * * * * \n",
      "4096\n",
      "Warner Bros. made many potboilers in the 1930s and most of them are fast paced, economical and very entertaining. I really love how the studio exploited the less glamorous elements of our daily life. This is one of Warner's few hard-edged melodramas that simply doesn't work. Edward G. Robinson plays a ruthless editor of newspaper who resurrects the 20-year old story of a murderess with tragic consequences. Robinson gives a lively performance but he is surrounded by actors that don't cut the mustard. H.B. Warner, Aline MacMahon and Boris Karloff are good, but the bad acting of Frances Starr and Anthony Bushell in the second leads really hurts the movie. Starr is particularly bad during her big dramatic scene near the end of the movie. In addition, the moralistic tone of the film seems ridiculous in the context of pre-code Hollywood. LeRoy's direction is full of innovative visual touches but he cannot overcome the bad acting and the unintentionally funny situations. Sol Polito's camera work is strong. Somehow, this piece of dreck got an Oscar nomination for Best Picture (in a year that gave us \\M,\\\" \\\"Dracula\\\" and \\\"Frankenstein\\\").\"\n",
      "* * * * * * * * * \n",
      "4308\n",
      "Yikes did this movie blow. The characters were weak, the plot weaker. I figured this couldn't be too bad because it has Christoper Walken, oops. He must have done this because he was bored and needed the money. The characters were supposed to be Irish but noone had an Irish accent. I am desperately trying to find something nice about this, I can't except Walken did a fine job with a wooden character. Find something to read, or watch discovery, don't ever see this movie.\n",
      "* * * * * * * * * \n",
      "5171\n",
      "I don't know why this has the fans it does and I don't know why I have even given it the score I have. This is preposterous. There are many a giallo where one has to suspend disbelief, let the picture roll and catch up with it somewhere before it becomes delirious and some poor police officer has to eventually explain what we have seen. But, this has very little going for it and has overlong sequences where nothing happens and have no relevance to anything while we have to listen to a most repetitive soundtrack, even by Italian standards. Not a giallo, this is a complete mish mash of horror ideas featuring Klaus Kinski in one his most blatant 'phoned in' performances. I reckon he turned up, did a day's work and cleared off leaving Mr D'Amato to get others to fill in. Ewa is of course pretty but no it is not enough, and in the end we have seen far too much of her popping up all over the place, long after we have completely lost interest in this mindless and pretentious twaddle. Maybe I just wasn't in the right mood!\n",
      "* * * * * * * * * \n",
      "5183\n",
      "Blazing saddles! It's a fight between two estranged brothers (Dennis Quaid and Arliss Howard), both of whom can ignite fires mentally; they square off over childhood differences, with dippy love-interest Debra Winger caught in the middle. Director Glenn Gordon Caron (the TV whiz-kid behind \\Moonlighting\\\") smothers the darkly-textured comedy in Vince Gilligan's screenplay with a presentation so slick, the movie resembles an entry from an over-enthusiastic film student on a fifteen million-dollar grant. It has the prickly energy of a big commercial feature, but a shapeless style which brings out nothing from the characters except their kooky eccentricities. These aren't even characters, they're plot functions. Barely-released to theaters, the film is a disaster, although strictly as an example of style over substance it does look good. Winger is the only stand-out in a cast which looks truly perplexed. *1/2 from ****\"\n",
      "* * * * * * * * * \n",
      "5474\n",
      "Woman (Miriam Hopkins as Virginia) chases Man (Joel McCrea as Kenneth) for father (Charles Winninger as B.J.). Woman wants to get Man to invest some of deceased mother's money in father's business venture; but, father is notorious for losing money on hair-brained schemes. Little does anyone know, but real evil schemers are posing as Man's best friends in order to steal his fortune...<br /><br />The production looks engaging, but the story fails to engage. The players don't play drunk well. Notable as Broderick Crawford's first appearance - as gopher \\Hunk\\\"; other than running errands, Mr. Crawford gets pinned to the floor by Mr. McCrea. <br /><br />*** Woman Chases Man (4/28/37) John G. Blystone ~ Miriam Hopkins, Joel McCrea, Charles Winninger, Broderick Crawford\"\n",
      "* * * * * * * * * \n",
      "5690\n",
      "Why on earth is Colin Firth in this pointless film? Has he really been that strapped for cash?<br /><br />The film isn't clear on what it wants to be about, grief?, exotic places?, ghosts?, a vehicle for Mr Darcy? It's a muddled, muddy mess.<br /><br />There seems to be some sort of idea that Italy must be good, in itself, and that Italian has something to offer as a language - but in the end the girls just want to go back to yankland.<br /><br />There are pointless episodes on the beach, in churches, on busy roads - but what it is all about, or why anybody should care simply isn't clear.<br /><br />There was also a yank woman in the film. It wasn't clear what here job was, but she seemed only to be there to make vapid, inappropriate and maudlin comments to the girl. Was it supposed to be about paedophillia??<br /><br />A pretty dreadful mess, all in all. I gave it 2 rather than 1 because it doesn't have the charm of an utterly ghastly film.\n",
      "* * * * * * * * * \n",
      "6013\n",
      "i'm ask... what a f*** are whit the real-TV never i see some b******* in my life is: a******, dirty, f****** bad and other a******* things but anything more is just a piece of American s*** all time Britney saying ''oh s***, i wanna see his cock, i wanna f***, and stuck his d***'' and he thinking ''oh like i gone to still her money'' it's just another show of s*** any one more the only good are what Britney sell in interior clothes but noting special noting it's just like i say another s*** show in this s*** sill out the money pure sex all f******* time, i just see for i sleep on the before show for this i wanna my f****** money\n",
      "* * * * * * * * * \n",
      "6046\n",
      "Autobiography of founder of zoo in NYC starts out by being very cute and would be great family movie if it stayed there. however we get more and more involved with reality as gorilla grows up to be a wild thing not easily amenable to his \\mother's\\\" wishes - this might scare younger children, esp. scenes where Buddy tries to injure Gertrude. rather quick resolution at the end. below average.\"\n",
      "* * * * * * * * * \n",
      "6081\n",
      "There's a lot of good that can be said for this cartoon; the backgrounds are rich, lushly colored and full of nicely done art deco details. The animation is up to the usual studio standards of the time, which are unquestionably higher than those of the present day. However, I find it tedious for a number of reasons.<br /><br />The Music: It's definitely not up to Scott Bradley's usual standards. Although it's probably supposed to be evocative of a \\Great Gatsby\\\" setting, it ends up being dreary, sleepy, repetitious AND monotonous (repetitious and monotonous are not the same, as Beethoven's 5th Symphony attests). Since most people (including me) tend to close their eyes when they yawn, there's a lot of the visual part of the cartoon that will be missed by the average viewer.<br /><br />The Storyline: I'm not giving away any secrets that aren't already in the plot summary - country good, city bad. This is a common theme in films, both animated and live, from this era. It's a misplaced nostalgia for a nonexistent rural idyll, which, in the present day, is reflected in a similar nostalgia for \\\"values\\\" that never were.\"\n",
      "* * * * * * * * * \n",
      "6195\n",
      "Let's see. In the \\St. Elsewhere\\\" finale we found out that there was no hospital and that every thing had been in the mind of an autistic child. \\\"Newhart\\\" ended by telling us that it had all been a dream. And \\\"Roseanne\\\" ended by telling us that it all had taken place in her mind. Very \\\"creative\\\". Annoying was more like it. Yes, it was just a TV show and wasn't at all reality. It's just that when you get caught up in a great movie or TV show you end up at least wanting to believe that it's all \\\"real\\\". At least as far as the reality it portrays on screen. This type of series finale had been done twice before and was old hat, frustrating and simply not fun to watch. Now \\\"Newhart\\\" being all a dream? At least done in a creative way that far exceeded the expectations of anyone who loved the show. The idea itself was not too engaging but it was so brilliantly done that its arguably the Best Series Finale Ever. Roseanne left me feeling cheated after being such a loyal fan.\"\n",
      "* * * * * * * * * \n",
      "6229\n",
      "Now I myself am a lover of the B movie genre but this piece of trash insults me to no end. First of all the movie is starring Lizzy McGuire's brother as the annoying little kid that goes looking for his lost 3 legged dog. Now please what kind of dumb ass mistakes a three-legged dog for a god damn mutated crocodile please I ask you? And heres another point for pondering, why do they show the Dinocroc on the back of the movie box being enormous and actually in the water? I believe if memory serves the thing spent about 2.6 minutes in the water and was just shy of 6 feet tall, that was a heart breaker. But redeeming qualities to this movie were that it was so bad that i almost died laughing because believe me the bad acting made me wish for death. But the fact remains that once again this thing is created by another military testing site to train super crocodiles for military combat or something like that from the source of all things evil E.V.I.L Corporation. And let's not forget the characters let's see we have jerk off #1 as the male lead and half way decent chick (who doesn't know how to act) as the female lead to that I say WOW! The only thing worse then the acting was the end of course the heroes spend about what seems like 2 hours talking and planning some long elaborate way of killing the dinocroc only to have it fail and kill it in an ordinary way that could have taken about 15 seconds to come up with. All in all this movie was beyond gay with its random opera music in the background and the fact that it was probably the gayest of all CGI monsters ever made along with the fact it of course was impervious to bullets and bombs (otherwise it wouldn't have been made for the military DUH!). By far the best scene was when Lizzy McGuire's brother runs into the shack and the dinocroc eats him causing his head to pop clean off with a popping noise i might add. I believe that you would be better off shooting yourself between the eyes then to watch Dinocroc. And as for the director I believe that we should get a bunch of people to hang him by a noose and all take turns kicking him in the crotch for wasting an hour and a half of our lives until he finally dies and then I can go on living.\n",
      "* * * * * * * * * \n",
      "6483\n",
      "I wanted to watch this movie because of Eliza Dushku, but she only has a smaller part in it, and her character isn't very likable. However, the main character, played by Melissa Sagemiller, is extremely beautiful and a perfect delight to look at throughout the movie. This is really nothing but a showcase for her looks and talent. She does a very good job.<br /><br />The story itself is, on the face of it, pretty nonsensical. After a car crash, some friends are possibly dead, but keeps on living their previous lives, while all sorts of mysterious things happen. Some bad guys are after them, but we never really find out who they are (possibly they were the ones in the other car, but we certainly don't hear anything about why they are after them). The final scenes especially seem filmically ambitious, but I can't get anything coherent out of it. The opening scene, where the bad guys (who wear some strange masks) cut a blond girl's wrist and gather up some of her blood is never explained or followed up on. Unless the bad guys are supposed to be a representation of the surgeons who're trying to pull Cassie (Sagemiller) back from the dead... but no, that doesn't seem to work. The bad guys are just bad guys; they really just mess up a story that might otherwise have been interesting. In a supernatural story about death and love and sacrifice, who the hell needs bad guys?<br /><br />3 out of 10.\n",
      "* * * * * * * * * \n",
      "6707\n",
      "It was the Sixties, and anyone with long hair and a hip, distant attitude could get money to make a movie. That's how Michael Sarne, director of this colossal flop, was able to get the job. Sarne is one of the most supremely untalented people ever given a dollar to make a movie. In fact, the whole studio must have been tricked into agreeing to hire a guy who had made exactly one previous film, a terribly precious 60's-hip black and white featurette called Joanna. That film starred the similarly talentless actress/waif Genevieve Waite who could barely speak an entire line without breaking into some inappropriate facial expression or bat-like twitter. Sarne, who was probably incapable of directing a cartoon, never mind a big-budget Hollywood film, was in way over his head. David Giler's book is the best place to go to find out how the faux-infant terrible Sarne was able to pull the wool over everyone's eyes. If there is ever an historical marker which indicates the superficiality and shallowness of an era, Myra Breckinridge provides that marker. It embodies the emptiness and mindless excess of a decade which is more often remembered for a great sea-change in the body politic. Breckinridge is a touchstone of another, equally important vein. Watch this movie and you'll get a different perspective on the less-often mentioned vacuity of spirit which so often passed for talent during those years.<br /><br />Many reviewers have spoken about the inter-cutting of footage from other films, especially older ones. Some actually liked these clunky \\comments\\\" on what was taking place in the movie, others found them senseless, annoying, and obtrusive, though since the film is so bad itself any intrusion would have to be an improvement. <br /><br />In my opinion, the real reason Michael Sarne put so many film clips into Myra Brekinridge was to paper over the bottomless insufficiency of wit and imagination that he possessed. That is to say, Sarne was so imagination-challenged that he just threw these clips in to fill space and take up time. They weren't inspiration, they were desperation. His writing skills were nonexistent, and David Giler had wisely stepped away from the project as one might from a ticking bomb, so Sarne was left to actually try and make a movie, and he couldn't. It was beyond his slim capabilities. Hence the introduction of what seems like one half of an entire film's worth of clips. The ghosts of writers and directors - many long since passed on - were called upon to fix this calamitous flopperoo because Sarne sure as heck wasn't able to. This was what he came up with on those days he sat on the set and thought for eight hours while the entire cast and crew (not to mention the producers and the accountants) cooled their heels and waited for something, some great spark of imagination, a hint of originality, a soupcon of wit, to crackle forth from the brow of Zeus. Um, oops. No Zeus + no imagination + no sparks = millions of little dollar bills with tiny wings - each made from the hundreds of licensing agreements required to use the clips - flying out the window. Bye-bye. <br /><br />As for myself, I hated the film clips. They denigrated Sarne's many betters, poked fun at people whose talents - even those whose skills were not great - far outstripped the abilities of the director and so ultimately served to show how lacking he was in inspiration, originality - and even of plain competency - compared to even the cheesiest of them.\"\n",
      "* * * * * * * * * \n",
      "6765\n",
      "This movie is not as horrible as most Sci-Fi Channel movies. I am used to seeing the gray CGI blobs and the amateurish special effects such as close-ups of fake blood that make it very obvious that the blood is strawberry syrup or some other syrup variation. However, I had thought that I had seen all the possible lows that the Sci-Fi Channel could hit. Then I saw this movie.<br /><br />Imagine a hand inside a rubberized sock that is glazed with syrup? Those are the main Alien Vampires in this movie. You can clearly see the fingers inside the rubbery sock puppets. A talking hand comes out of the guts of victims, and the Vampire who is on the Vampire Hunter's team can talk to these Rubber Sock puppets in Transylvanian. How did Alien Vampires learn Transylvanian? And isn't Transylvania in Romania? So shouldn't they be talking Romanian? Why would some little town have their own language? If you can suspend your gag reflex and get past the talking rubber socks with the fingers clearly moving inside the Aliens' heads; then you have to deal with the other alien vampires. There are the \\Leatherfaces\\\" who like to wear the faces of their victims. Then there are the just plain ugly ones that all seem to have a lot of facial scars. Then there are the annoying Valley Girls and their boyfriends who are human traitors and sneak into space colonies so that they can sabotage the Defense Systems so that these Space Vampires can attack.<br /><br />Finally, if you think all of the above is funny and worth a laugh, you have to deal with the third rate cast of Network TV rejects that make up this team of stereotypical angry heroes which are constantly fighting among themselves. Why does almost every Sci-Fi Channel movie have to use lead characters that are annoying, abrasive, crude, or just totally unsympathetic? I found myself hoping the talking rubber socks would win.\"\n",
      "* * * * * * * * * \n",
      "6806\n",
      "This is one of the worst movies I have ever seen! I saw it at the Toronto film festival and totally regret wasting my time. Completely unwatchable with no redeeming qualities whatsoever.<br /><br />Steer clear.\n",
      "* * * * * * * * * \n",
      "7146\n",
      "I am, as many are, a fan of Tony Scott films. When this movie came out I had high hopes that it would be like 'Man On Fire'. To find out that the movie it's the furthest thing from it! The story was treading water from the get go, and the choice of Mickey Rourke was not such such a good idea. And the whole 'arm'scene was too gratuitous! <br /><br />The movie is centered around Kiera Kinghtly, and this movie reveals that she'll never become a movie star! The movie brought some of the worst acting ever.<br /><br />I like Tony Scott's direction 'n all, but this takes the whole friggin cake! Sorry Ton, 1 out of 10!\n",
      "* * * * * * * * * \n",
      "7281\n",
      "...and Ethel Merman buffs, too, will love her loud, bossy vocals as the wicked witch Mombi, but this cartoon sequel to \\The Wizard Of Oz\\\" is bereft of real imagination, substituting fantasy and excitement with noisy action (and cheaply repeating its footage like a bad music video). Little Dorothy is whisked back to Oz, which has gone to ruin, and meets old and new friends. The inelegant animation is stuck somewhere between the weakest Walt Disney and the less-inspired shows from Hanna-Barbera, however many of the songs are good, particularly Dorothy's sweet lament \\\"It's a Far Away Land\\\", superbly performed by Liza Minnelli. You can count on Minnelli for energy, which is why the movie perks up whenever Dorothy is around. Much of it is unmemorable, and I'm not even sure baby-boomers will get a charge from it since it has been out of circulation for so long. As a curiosity item, just fair. ** from ****\"\n",
      "* * * * * * * * * \n",
      "7387\n",
      "S.I.C.K. really stands for So Incredibly Crappy i Killed myself. There was absolutely no acting to speak of. The best part of the whole production was the art work on the cover of the box.The budgeting of this movie was sufficient. The filming was sub sesame street. The production looks like that of the underground filming for mob hits. The props used in this movie were stolen from a clothing store. The ending was so predictable you should fast forward to the last 5 minutes and laugh. If there is a book out there for this movie I'm sure it's better. I would avoid this at all costs. I did enjoy the intimate scenes they made the whole movie worth it. just kidding.\n",
      "* * * * * * * * * \n",
      "7441\n",
      "Serum is about a crazy doctor that finds a serum that is supposed to cure all diseases through the power of the mind. Instead it creates some kind of monster that needs to eat human flesh and brains. The mad doc creates some zombies out of cadavers and has some problems. There is a very long lead into all the action with many scenes getting you acquainted with the characters. The mad doctor's nephew gets into a car accident and the mad doc tries to use his new serum on the boy. The results are not good. This is a class C film with OK acting but some troubles directing and some continuity errors. There isn't much zombie action in this one and the effects, while adequate, are nothing special. You can fast forward through the slow parts and get some enjoyment out of the action scenes. Watch out for some nudity and bad language.\n",
      "* * * * * * * * * \n",
      "7665\n",
      "Nothing like a movie about a group of friends who not only all dislike each other to the point of loathing, but they have little to no redeeming qualities to make an *audience* like or empathize with any of the characters either. There are movies so bad they are good (a la Ed Wood or Tod Slaughter films), and there's just plain bad (like 99% of Uwe Boll's \\work\\\"). This film is barely tolerable even if you are a brilliantly talented MSTie riffer (e.g., Mystery Science Theatre 3000). Thankfully while I am rather talented in that regard (it's how my mind works All The Time), for those who are not so naturally talented in MSTie riffing, eventually into *this* film you'll just want to pull your own head off, painfully aware the movie \\\"Taboo\\\" robs you of about an hour and twenty minutes you'll never get back. Even my MSTie talents were barely a match for this slow paced, boring waste of time. The most puzzling aspect of this film is that *someone* green-lit and/or funded it... I rented \\\"Taboo\\\" solely for the normally talented Amber Benson, who clearly must have been blackmailed into doing this film. I've another lesser known film of hers in my rental queue, the reviews to which I'd better read first. Ironically the best aspect of the film was its impressive labyrinthine mansion for its interior location.\"\n",
      "* * * * * * * * * \n",
      "7796\n",
      "This (extremely)low-budget movie is compared to the great classic \\Silent Night Deadly Night\\\", since it is labeled as a Slasher Flick. First let me say that I think that even \\\"Silent Night Part 2\\\" is better than this (that one was filled with flashbacks of the original for more than half of the movie). \\\"Christmas Evil\\\" tries to get psychological by introducing the main character as someone who goes insane,(a strong word), slowly (very slowly). He is irritated by people who do not get the true meaning of Christmas and at work he can't stand how the fabricated toys are made with such lack of quality and love. Dressed up as Santa he finally goes on a killing spree. Also a strong word, since only 3 people are killed without the real need for special effects. No tension, no thrills, no gore, no cast. For one exception that is: Jeffrey DeMunn is in it. He is best known for playing aside Tom Hanks as one of the guards in the classic \\\"The Green Mile\\\". He still must be kicking himself these days for ever accepting the role. He truly is the only one who really can act, his supporting role is better than the main lead. (who also isn't that bad, but if you're overshadowed by a little supporting character, you're not great either.). And what about that strange ending ? (you have to see it, to believe it). \\\"Christmas Evil\\\" is downright boring, nothing happens and the artwork is just misleading. This is not a slasher. You wanna see a real Christmas slasher, check out the all time greatest: \\\"Silent Night, Deadly Night\\\".\"\n",
      "* * * * * * * * * \n",
      "7863\n",
      "Did anyone who was making this movie, particularly the director, spare a thought for the logic of the story-line? These are not mere plot-holes, but plot graves, that become ever deeper as we lose any sympathy for the main character and his plight. That is, if you are kind enough a viewer to valiantly ignore the fact for most of the movie that the characters are either servants to the grave-hole plot, or boring and unlikeable. Or, in the case of Downey's & Hannah's characters, apparently superfluous. In pondering the reason for existence of Downey's character's significant screen-time in the movie, I decided that either the director had liked his character and unnecessarily increased his screen-time (unlikley, as the director didn't change anything else about the script he actually needed to) or that his character was going to be sacrificed on the altar of bad plotting. I'll leave you to guess which one it was to be.<br /><br />I had to keep checking the cover of the DVD to confirm that this really was made by credible talents. I cannot understand why Robert Altman would take this job. Surely he has some power to pick and chose. Actually, I can't understand why anyone would take this script on, except a first-time director looking for the experience.<br /><br />I suppose Robert Downey Jr. needed the money for his habit. I suppose Kenneth Branagh wanted to try a southern accent. I suppose Robert Duvall was only given a few pages of the script and thought the role in isolation sounded intriguing. These are the only motivations I can see that would coerce good actors to take on roles in this movie. As for Robert Altman, plenty of effort has gone in on his part to making the movie look fantastic. I found myself noticing how he had framed such and such a scene, or used the bright orange float vests in another scene to draw the eye's movements, or imposed a beautiful filter to create a particular mood. I do not typically notice such things in movies, since most movies I bother to watch to the end actually engage me for reasons of good story-telling and interesting characters with understandable motives. I watched this to the end only because some ridiculous element of optimism in myself kept looking at that DVD cover and being convinced that, due to the talent involved, there had to be some redeeming factor in this movie.<br /><br />Nice direction. But that's not why I watch movies.\n",
      "* * * * * * * * * \n",
      "7869\n",
      "Where is it written that sequels must suck? Scream 2 didn't! Others didn't! But this one sure did... problems include horrible actors (only Christopher Walken could act in the entire film), bad writing (you will never understand what's going on and I even have done research on the idea of Nephilim before), and just horrible choices for casting. Eric Roberts makes the stupidest Archangel Michael that I have ever seen in my life!<br /><br />Avoid it like the plague unless you are desperate to see Christopher Walken. In that case just fast-forward to the parts where he is in the film, and avoid the others.<br /><br />Yech!!!\n",
      "* * * * * * * * * \n",
      "8047\n",
      "Who was George C. Scott? George C. Scott was a renowned actor. Practically any movie that he's been in is the better off for it. Now ol' George had absolutely NOTHING to do with this movie..., but he once said something that describes said movie to a T.<br /><br />I don't recall his exact words, but he basically said that Great Writing can Save Bad Acting, But Great Acting CanNOT save Bad Writing. Never has this little observation been truer than in \\The All New Adventures of Laurel & Hardy: For Love or Mummy\\\".<br /><br />The casting of the two leads was absolutely perfect. Bronson Pinchot (Laurel) and Gailard Sartain (Hardy) not only look the parts, but they do an exceptionally good job at mimicking the real deal (mannerisms and all). This movie should stand as a lasting testament to their talents. That said, this movie falls flat on its face when it comes to (you guessed it) WRITING.<br /><br />Aside from the opening dialogue between Pinchot and Sartain (which was very \\\"in character\\\") and a brief gag involving a taxi, this movie is an absolute chore to sit through.<br /><br />PROBLEM # 1: Too much time and effort went into the plot.<br /><br />I don't want to know why the mummy wants to kidnap the pretty British lady. What I WANT is to see Stan and Ollie (or at least, their stand-ins). Way too much screen time was devoted to explaining the plot or to the not-very-funny secondary characters that said plot revolved around.<br /><br />However, even if this movie had been all jokes, that would still leave us with...<br /><br />...PROBLEM # 2: Most of the jokes are what I would call \\\"watered-down\\\" slapstick. <br /><br />What do I mean by \\\"watered down\\\"?<br /><br />In slapstick, a character gets hurt in an exaggerated way for comedic effect (ala Looney Tunes, 3 Stooges...,or how about Laurel & Hardy?).<br /><br />In \\\"watered-down\\\" slapstick (as I define it), a character gets mildly hurt or inconvenienced, and the filmmakers play that up for comedic effect.<br /><br />Maybe an illustration would help:<br /><br />In Looney Tunes, Daffy Duck gets shot by Elmer Fudd. His bill falls off and he puts it back on. That is classic slapstick.<br /><br />In this \\\"gem\\\", Ollie accidentally bumps into some people. They turn around, tell him to be careful, and continue on their merry way. That's not slapstick. That's not even funny. That's just...boring...and this movie is full of these kinds of jokes. It's as though they're this movie's bread and butter. The writers and directors just take these dull moments and act like they're supposed to be funny. Granted, the example I just gave is the most extreme case, but I can only cut it so much slack.<br /><br />Long story short: The film just doesn't work because the script fails to capitalize on Pinchot's and Sartain's abilities to impersonate Stan and Ollie. Instead, the script capitalizes on plot exposition and lame jokes. Watching this movie is basically watching two excellent impersonators who were given no real material to work with.<br /><br />Not a good movie, but an incredible sleeping aid.<br /><br />I say give this one a miss and stick with the real deal (just so long as you steer clear of \\\"Atoll K\\\" and \\\"Be Big\\\").\"\n",
      "* * * * * * * * * \n",
      "8127\n",
      "This was a quite brutal movie. There were huge implausibilities, and a silly script, bad acting, etc.<br /><br />The only reason to watch this movie is that from time to time some quite impressive sets of breasts were exposed.\n",
      "* * * * * * * * * \n",
      "8574\n",
      "This film had no huge stars in it, but did have a very good cast filled with excellent supporting actors AND Gene Tierney before she became a big star. With George Sanders, Reginald Gardner, Harry Carey, Bruce Cabot, Jospeh Calleia and Cederic Hardwicke, you'd expect more from the film than it actually delivered. Most of this, I suspect, is because of a second-rate script, as director Henry Hathaway was a competent and well-established man at the helm.<br /><br />The film is set in East Africa during WWII--just before the Americans entered the war. The Brits are trying to control their African colonies while subversive Nazi elements are trying to stir up trouble among the locals. One of the white men in the film is a double-dealer--working for the destruction of the British Empire! But, lovely Tierney, playing a sultan's daughter(!), is out to help save the day for good ol' Britain.<br /><br />American film makers have long sided with the Empire and the 1930s and 40s saw a plethora of pro-empire films. Nowadays, with changed sensibilities, the notion of seeing the happy black natives dying for Queen and country seems ridiculous--and it would be hard to root for either side! Still, in its day, this propaganda piece was effective in drumming up support for the British--though when seen today, the film suffers from a long-winded script and silly casting. The one bright moment in the film is the final showdown between George Sanders and the enemy agent. Too bad after such a potent scene the film just seemed to talk and talk--losing some of its punch.\n",
      "* * * * * * * * * \n",
      "8822\n",
      "This is one of those movies that apparently was trying to ride the martial arts wave craze. Kind of like Billy Jack I guess. However, whereas Billy Jack did have one notable martial arts scene there are none in this one unless you consider some gentlemanly grappling and roughhousing as such. We are introduced to the star who is described as having learned Judo in the marines. I was in the marines and while they are pretty established in boxing, I really don't remember any emphasis on Judo. As a result the antagonist, James Macarthur, makes reference to the Judo when he offers an excuse for why he, a state champion wrestler was so easily defeated. Lame.\n",
      "* * * * * * * * * \n",
      "8878\n",
      "This is yet another depressing and boring film about AIDS and tragedy. It begins very uneventful and predictable and continues throughout the movie. I kept waiting for it to pick-up, but unfortunately it never did. The acting is fair, but the script needs A LOT of work. And if you're looking for the nudity, don't waste your time with these not so hot actors. Due to the poor sound quality and lack of captions, I missed 1/8 of the movie. If you have never seen over five gay films, or have recently come to terms with being gay, you may find this film interesting, otherwise it's your run-of-the-mill low budget movie. It ranks as one of the worst gay films I have ever seen.\n",
      "* * * * * * * * * \n",
      "9540\n",
      "The movie is about two brothers that are supposed to be alike - but are not in any way expect for being smart - one is a surgeon and they other is able to write a computer code. Geniuses as they like to call themselves which sounds very exaggerated if you compare it to personal characteristics can you perceive from the material of the title.<br /><br />I honestly didn't like the style of the movie. I believe that anxiety, confusion and deep blues it brings are there for a purpose, but what I don't get is why there is so much of it. The movie is cheap on scenes and tells the story basically with no human aspect in it at all. It gives the comic book like experience. However it's visually numbing the viewer, it somehow brings him inside the blues with brief dialogs, monotonic scenes, dynamic cut, music and abrupt noises.<br /><br />The movie's storyline is very simple, most of what's going on is being dramatically pictured for long minutes, mostly in confusing delirium simulating effects of drug use and dynamic cuts.<br /><br />I will say openly that this movie didn't meet my expetations a tiny bit.\n",
      "* * * * * * * * * \n",
      "10235\n",
      "One more of extremely unprofessional movies about computer programmers.<br /><br />Looks authors of that movie don't know real specific of programmers world.<br /><br />20 top programmers in the world, program which have own satellites (for what?), program which using satellite freq., somebody kill somebody to steal the codes (why?) and much more of stupid moments at this movie.<br /><br />Peoples who not programmers not will see something awful at that movie, because not professionals on this. But peoples will see not real things.<br /><br />Programmers will find that movie odd and awful - because lots of moments inside movie is not RELATED real life (why movie not scifi in this case?).\n",
      "* * * * * * * * * \n",
      "10327\n",
      "...because this was simply awful. 101 Dalamatians was funny even if formulaic, but this is nothing more than puerile drivel. The same plot except with the story excised from it; the world's most intelligent and horribly annoying macaw; Tim McInnerny proving that he really can't do comedy (everone remembers Percy in Blackadder but that was his high spot - it's all been downhill since then); direction so poor that if a group of college students had made this you'd throw it in the bin and tell them to do it again - properly this time. Ieuan Grufford better go back to Hornblower sharpish, whilst Glenn Close and Gerard Diepardieu ought to go into hiding for several years.<br /><br />Perhaps I could be too harsh; after all I didn't manage to sit through the whole film. It gets 1/10; only because I can't give it 0.\n",
      "* * * * * * * * * \n",
      "10704\n",
      "This seemed to be a good movie, I thought it would be a good movie, and throughout the movie I was hoping it would be a meaningful use of my time, and yes, I have to admit that the acting talent of Dimple Kapadia and Deepti Naval where truly commendable, but despite the best effort this movie falls short of effectively conveying a meaningful message, which it seems is it seemed was what Somnath Sen is trying to do. The final point comes short and the ending seemed kind of unsatisfactory after all that happens; a bit like real life in that respect but movies unlike real life ends in about 2hrs and the ending should leave the audience satisfied, if indeed that was the director's intention. This falls short in that respect and that is what disappoints me the most.<br /><br />Another aspect that concerned me was the national stereo-typing of the American characters - they all seem to be carved out of the same block. Seems to me that most American characters in Indian English movies are based upon how common Indians themselves perceive Americans to be like and it is clear that no effort has been made to bring any sense of depth or complexity to any American in the movie.<br /><br />These two aspects put together they make for a disappointing story.\n",
      "* * * * * * * * * \n",
      "10821\n",
      "The super sexy B movie actress has another bit part as future \\Goodfellas\\\" star Ray Liotta's girlfriend in this box office bomb. She plays Marion, has only one line of dialog, well, one WORD of dialog actually. She shouts out \\\"Joe!\\\" as Ray's character is violating poor Pia Zadora with a plastic garden hose sprinkler. This movie is so bad though it becomes funny, hilarious at times. The guys at Mystery Science Theater 3000 would love this! Check out the hysterical scene at the end where Pia has a nervous breakdown and all the cheesy editing and effects they do to try and show how badly Pia's character is freaking out. Pia plays an aspiring Hollywood screenwriter in this. Pia Zadora as a screenwriter? Yeah, right. Pia can barely talk, let alone write! Pia is utterly and absolutely miscast in this dumb role. But who cares? The real star is the hot and fresh Glory Annen in her bit part in this cat's opinion! Rock on Glory!\"\n",
      "* * * * * * * * * \n",
      "11031\n",
      "Tara Reid as an intellectual, Christian Slater(usually great) as a dollar store Constantine and Stephen Dorff as...well it's STEPHEN DORFF FOR Christ SAKE!!!! I personally just want to thank those brilliant casting directors for the hard work and effort. You guys are on. Heres an idea, just my humble lowly opinion as the movie going public but it follows directly with your previous choices,a movie about the most brilliant neuro-physicist in history invent one pill to cure all diseases ever known to man and get this, heres the clincher they have to be played by Jessica Simpson and Paris Hilton. I knew you guys would love that. Seriously though you owe me $7.50.\n",
      "* * * * * * * * * \n",
      "11142\n",
      "What an empty and lack lustre rendition of the classic novel. I do wish people would stop messing about with classics when they clearly have no idea of the real intention or point of the original. This version is no different. I felt that the Ralph Fiennes version is much worse though as the casting of Juliette brioche as Kathy has got to be the worst casting decision EVER...anyway back to this version. It aims to make the story relevant to a contemporary setting and in a musical style. It succeeds in both but high art it is nit. Throwaway viewing for a rainy day maybe...The direction was average and the editing abysmal. Worse than the old Quincy. Deepak Verma does a great turn as Hindley and is in fact one of Britains wasted talents. The part of Heath was played with great charm and belief and I think that the casting is the strongest point of this project. Although a more talented director would have made better use of the facilities he had. Its clear that he was a director for hire and didn't instill the project with the passion that it deserved.\n",
      "* * * * * * * * * \n",
      "11149\n",
      "Sometimes a film comes along that is unique. The Nostril Picker is one such film, The Nostril Picker is like no other film I have ever seen, unfortunately for The Nostril Picker & myself it's unique for different reasons than what the filmmakers had originally intended. Read on & all shall hopefully become clear... The Nostril Picker, as it's commonly know although it was apparently filmed under the title The Changer, starts with some extremely dull shots of an American town somewhere, streets & factory's that sort of thing, as the opening credits play. When The Nostril Picker begins proper we, the viewer that is, are introduced to a real loser named Joe Bukowski (Carl Zschering) who is in his 40's, he lives on his own in a crappy little apartment where he watches T.V., eats beef flavoured dog food & listens to old vinyl records as he dances with a blow up rubber sex doll. Joe likes teenage girls, he has various porn magazines but enjoys the real thing even more. However, being an ugly git Joe can't tempt any young ladies to go out with him, or do anything else with him for that matter. One fateful day an old homeless Vietnam vet (Horace Grimm) sees the agony & pain that Joe has to go through (actually he sees Joe being spoken to by the cops for hassling a teenage girl) & decides to help him out. He tells Joe about an incantation that he learned from the 'gooks' in Vietnam that will transform Joe's appearance into whatever he likes. A process he calls morphosynthesis, but at the same time he warns Joe that 'it makes you crazy if you do it too much'. That night Joe decides to give it a try, in a public place on a podium for some reason. Joe says a few words, does an extremely silly dance & starts yodelling. Joe finishes off by whistling London Bridge is Falling Down, listen yeah, I ain't making this up either. At first Joe is visibly disappointed when nothing significant happens. To console himself Joe tries to buy a porn mag but is shocked when the clerk (Kevin Devoy) refuses to sell it to an underage girl. Joe, the bright spark that he is, realises what has happened & talks his/her way out of it by claiming his/her dad had sent him/her to buy it. Joe, who now calls his alter-ego Josephine (Ann Flood), senses the possibilities & heads straight for the local high school. Joe befriends four teenage girls, Jennifer Armstrong (Laura Cummings), Crisi Stroud (Gail Didia), Tracy Harper (Heidi M. Gregg) & Brenda Kearn (Aimee Molinaro) while under his disguise, oh & Joe manages to become a pupil at the school simply by asking the sports teacher Miss Van Dyke (Vicki Hollis). At first Joe seems harmless enough, he just likes to hang around the girls toilets & stuff like that. But things soon change as Joe brutally murders Brenda. Jennifer's dad, Vince Armstrong (Edward Tanner) is a detective so along with his partner Ed Simpson (Clyde Surrell) & Walt Spencer (Bruce Alden) the pathologist is determined to catch the sicko responsible for killing his daughter's friends, but will they succeed before Joe strikes again? The IMDb listing for The Nostril Picker is wrong, I watched it mere hours ago & it clearly states that it's directed by Mark Nowicki who was also a co-producer & definitely not Patrick J. Matthews who was credited as a co-producer & the cinematographer, not that it makes much difference & I'd have though that Nowicki would have been more than happy for Matthews to take the 'credit' for making this piece of crap. No one involved in the making of The Nostril Picker should be allowed to go anywhere near a camera again, ever. The Nostril Picker is easily one of the worst films I've ever seen, & that's saying something. It's absolutely terrible in every possible way imaginable. The script by Steven Hodge is atrocious, there's no narrative structure, excitement, tension, drama, character development & the things that do happen are so mind numbingly dumb it's untrue. The plot devices & chain of events in The Nostril Picker are totally incomprehensible. The scene where Joe finds out the prostitute (Steven Andrews) he hired is in fact a man & Joe starts to chase him around his apartment with two squirting dildo's is simply jaw dropping stuff. The subsequent scene when the transvestite reports the incident to the police is hilariously written & had me psychically laughing at the dialogue. I hated the ending as well, not only was it predictable but it leaves the door open for a sequel, I psychically shudder at the mere thought! On a technical level The Nostril Picker is awful, point & hope photography, bland & inappropriate music, forgettable locations, poorly edited (Brenda is killed in the kitchen yet her blood splashes on the T.V. screen that was clearly in the opposite room), some of the worst acting I've sat through & very unimpressive special effects which consist of a few cut off rubber fingers, a slit throat & a quick scene where Joe eats some flesh. It comes as no surprise that the cast & crew who worked on The Nostril Picker have virtually no IMDb credits for anything before or after. Even at 76 odd minutes The Nostril Picker is far to long & really boring to sit through. I could go on & on all day long about how bad The Nostril Picker is, I really could. One thing I can't quite work out is was all this intentional by the filmmakers? The Nostril Picker is indeed a unique film, unique in it's awfulness & incompetence. In the the case of The Nostril Picker I hope it remains unique too, having said that it's still not the worst film I've ever seen but it comes close that's for sure. Definitely one to avoid.\n",
      "* * * * * * * * * \n",
      "11162\n",
      "This really was a waste of time...the movie has a weak plot, the story is fragmented and ends very abruptly with many loopholes....though the animation is top notch. <br /><br />Once the movie started, I tried to give it the benefit of the doubt by telling myself that it might get interesting in the later stage, but it was never unique. This same plot has been played over and over again, but what made it worse was that the major plot hole was the whole story on how to kill the baddies...The writer could have done so much more with the entire concept, but seemed that he or she did not have their heart in it and wanted to close the movie as soon as it started.<br /><br />Overall, too much hype but not able to deliver.\n",
      "* * * * * * * * * \n",
      "11164\n",
      "\\Houseboat Horror\\\" is often regarded as the worst Australian film ever made and described as a typical slasher film,which carried the promotion 'See the movie that can't get an Academy Award'.An underground disco band members begins to die slashed to death by burned maniac as they are attempting to shoot a music video on a remote lake in the Australian outback.Badly acted and written slasher flick with zero suspense and annoying characters.It certainly delivers the gore:heads are split in half with a machete,throats are cut and a woman is killed with a horseshoe.If you like cheesy slasher movies you can give this one a try,but you have been warned.At least it's better than Swedish \\\"The Bleeder\\\".4 out of 10.\"\n",
      "* * * * * * * * * \n",
      "11460\n",
      "Yesterday I saw the movie Flyboys and my girlfriend told me it was the worst movie she's ever seen... Since I thought it was pretty awful as well it got me thinking - which film was the worst film I had ever seen and this was the only film that came to mind.<br /><br />Unfortunately it was a couple of years since I've seen it but I remember the horribly miscast Dean Cain as cocky military man (pretty boy Cain doesn't do cocky very well). The strange deal with the CGI-helicopter when it would probably be cheaper to rent a chopper than to hire some CGI-guys to make it, but my guess is that they found the chopper as a free sample for some CGI program or the producer's son liked to play with his new computer. And how did it look?? Awful. And when the dragon charges through the corridors of the complex then reuse the same shots over and over - looks VERY cheap.<br /><br />Avoid this movie - it is truly awful...\n",
      "* * * * * * * * * \n",
      "11481\n",
      "*** Warning - this review contains \\plot spoilers,\\\" though nothing could \\\"spoil\\\" this movie any more than it already is. It really IS that bad. ***<br /><br />Before I begin, I'd like to let everyone know that this definitely is one of those so-incredibly-bad-that-you-fall-over-laughing movies. If you're in a lighthearted mood and need a very hearty laugh, this is the movie for you. Now without further ado, my review:<br /><br />This movie was found in a bargain bin at Wal-Mart. That should be the first clue as to how good of a movie it is. Secondly, it stars the lame action-star Dolph Lundgren. That should be the second clue as to how good of a movie it is. I'm still shocked that it was even put on DVD (who would waste their money doing such a thing?), though as you might imagine, there aren't any extras or bonus footage on the DVD. In fact, there's not even a menu; the movie just starts playing.<br /><br />First, the writer for this movie deserves to be tortured and killed. It has one of the worst scripts ever written and is plagued with terrible one-liners; remarkably unbelievable, fake dialogue; and inappropriate comments (like Lee's comment on Lundgren's. err. manhood, which I'll mention later). There isn't one single sincere sounding line in the entire movie. The dialogue and plot go hand-in-hand, as the script and plot both progress in an entirely nonsensical fashion. The two cops hate each other for no apparent reason at the beginning, and then for again no reason at all, Lee's character pulls over to the side of the road, runs around to the other side of the car, and says `I'm not going to let you go alone, 'cause despite myself, I like you! And I don't want to see you get killed!' . or something to that extent, anyhow. There are disgusting one-liners, mostly said by Lee. For instance, when duking it out with a bad guy, Lee says `You have the right to remain silent . You have the right to be dead!' Lastly, I'll mention the entirely inappropriate and nonsensical comment that Lee makes about Lundgren's nether-regions. When bad guys start to attack after a seemingly random love scene between Lundgren and Carrere, and Lundgren decides to fight them off in his underwear, Lee says to him: `Incase we die, I just wanted to let you know that you have the biggest dick I've ever seen on a guy.' . Yes, he actually says that. It makes no sense and isn't even possible (Lee never actually sees Lundgren naked, so how would he know?), but the writer threw it in the script anyway. The entire movie looks like some kind of action video game, and Lee even admits it. After Lee and the underwear-only Lundgren defeat all of those bad guys, Lee makes a comment that is also truly beautiful: `Wow, this is sort of like a video game; we just defeated the first wave!'<br /><br />Second, the plot of this movie is despicable. It suffers, in my opinion, mainly from the fact that it just doesn't exist. The trailer for this movie - which IMDb has available for viewing, by the way - makes it sound like the movie is about two cops trying to stop the Japanese Yakuza from taking over Lost Angeles. This is extremely misleading, however, since the movie has practically nothing to do with that at all. They make very brief, vague references to the Yakuza trying to start up a methamphetamine business with local drug dealers, but the entire movie ACTUALLY revolves around a poorly-written attempt for Kenner (Lundgren's character) to revenge the death of his parents, whom the Yakuza leader (named Yoshida) killed when he was only 9 years old. The entire plot can basically be summed up like this: Yoshida wants Kenner dead, Kenner wants Yoshida dead, and the two try two kill each other. And of course all the while Kenner's sarcastic sidekick (named Johnny and played by Brandon Lee) acts like an ignorant idiot, and Tia Carrere gets naked. twice.<br /><br />The acting is one of the worst parts of the entire movie. The dialogue is so unrealistic, and their entirely insincere portrayal of it emphasizes this even more. You'd expect poor acting from action stars anyway, but this movie highlights some of the most unimaginably bad acting ever recorded.<br /><br />Finally we get to the heart of the movie's baseness: the flagrantly bad action. There are so many astoundingly bad, unrealistic action sequences in this movie, it's just downright impressive they managed to fit them all in. Although Lee has his fair share of bad scenes as well, most of the truly terrible action involves Lundgren. For instance, Lundgren nonchalantly takes on four or five kung fu bad guys one-handed, without spilling his tea. Then, when surprised by an oncoming speeding car, Lundgren casually leaps over it. Or how about when he reaches THROUGH a closed door, grabs the villain on the other side, pulls him back through the door, and beats him up? Or when he picks up Tia Carrere, gently walks (not runs) backward through a glass door that shatters around him, and leaps down a one-story height with Tia still in arm, only to then lift up an entire car without the slightest effort and uses it as a barricade to shield them from bullets? All of the shameless gunfights are terrible as well, with Lundgren and Lee killing every bad guy instantaneously, while the rain of bullets from their fifty attackers never seem to hit either of them. That is, of course, until the final fight scene of the movie. Lundgren gets shot point blank in his bare chest in a region that even if it did manage to miss his heart, would still immediately begin to fill lungs with blood and kill him within a matter of seconds. Despite this, Lundgren remains in top-notch condition and manages to duke it out in the middle of a parade with Yoshida, the evil super villain. And of course the passing people in the parade dressed as samurai are carrying REAL, fully sharpened katanas, which the two use to sword fight. Now in addition to his bullet wound, Lundgren gets several deep slices in his chest and arms. Does this stop him? No, of course not! In fact, a few seconds later after easily killing the evil Yoshida (who gets pinned to a dartboard-like wheel and then bursts into flames for no reason), Lundgren casually walks off with Tia and Lee as if he wasn't injured at all. God, it's terrible.<br /><br />All of these factors are then mixed up with an entirely unnecessary, gratuitous nude scene every five minutes, including topless women at a party, the beheading of a topless woman, women at a strip club, nude women at a Japanese spa, and the pointless hot tub and love scene with Tia. Not to mention the trip to the bizarre sushi bar, at which rich Japanese men are eating sushi off of naked women. Which, by the way, prompts Lee to say with much fake enthusiasm that after defeating the bad guys he and Lundgren will `go eat fish off those naked chicks!' Which, of course, is followed by a disturbing high five. And we can't forget the terrible editing either, like when the villains are crushing a man trapped in a car at a junk yard, and the editors left in a really obvious glimpse of a prop dummy. The credits also list an enormous list of stunt workers, which implies that a lot of the action probably wasn't done by the movie stars after all.<br /><br />In the end, this movie repeatedly outdoes it self with brazen badness. It is illogical and impossible, and as a result, remarkably entertaining. If you're looking for any kind of thoughtful cinema, this movie will make you want to die. If you're looking for a good laugh and a good time mocking bad movie making, this movie will delight you. As an actual movie, I'll merit this movie a 0.5 out of 10. As an entertaining way to waste an hour and eighteen minutes, however, this beauty takes the cake.\"\n",
      "* * * * * * * * * \n",
      "11837\n",
      "I went to see this movie with my 17 y.o. daughter. I insisted we go the matinée showing, not because I'm a tightwad, but just feeling I had. In the NASCAR spirit, this is a sponser's dream. SO much blatant advertising, it almost qualifies as an info-mercial, if it weren't for the so-called acting. Keeping with tradition, the Herbie franchise continues with its cheesy story lines, the car is only a 'vehicle' (no pun intended)for this cornball of a motion picture. Earlier Herbie installments (although cheesy as well) were produced during more serious times, making them a little easier to digest. Ms. Lohan, Disney's reigning drama queen, has little acting ability. I was surprised that Mr. Keaton and Mr. Dillon would get involved in such a project. Only the snack bar, was a bigger ripoff!\n",
      "* * * * * * * * * \n",
      "11858\n",
      "This is one of the worst movies I have ever seen. Robin Williams fit into the part like a rhino would fit into a tutu, even so his performance was still pitiful. Kurt Russell was more believable but still was awful. The plot left much to be desired and the rest of the acting was also terrible. The only thing this movie had going for it was the trailer, which suckered me in to wasting 90 minutes of my life which could have been better spent trying to lick the back of my head.<br /><br />Do yourself a favor and burn this movie if you have it. If not, just be happy you don't.\n",
      "* * * * * * * * * \n",
      "11942\n",
      "What the F*@# was this I just watched? Steven STOP!! Please! This movie is insatiably bad and silly. In a bizarre departure from action and adventure, Mr. Seagal is now fighting (obviously) wish-they-were-vampire 'like' creatures with super human strength.? OK? Oh, and their eyes blink sideways in an inhuman way? Wow! Even still in this movie however, to quell Seagals have-to-have-the-last-punch-and-no-one-can-kick-my-a$$ ego, HE is somehow stronger than they are. However all of the average humans are getting crushed all around him. Come on, I can understand the big mouth neighborhood bully or drug dealer, but these are super human strength people. Oh and get this, Seagal goes through a brief sting of identity issues, because apparently he and his cohorts in the film think he is Wolverine! Oh My GO... And worst than all of that! Yes, there is a worse than that. He has a voice over even changing voice in mid sentence while we are looking at his face. They obviously sound nothing like him and I believe it may be one of the other actors in the film. It was pure madness. Although I wanted to turn it off I always watch a movie to he end. This is an all time low even for your direct to video movies Steven. Awful! Awful! Awful! Two thumbs down! Redemeption qualities? Well I guess so, I will be fair in that aspect. At least some of the special effects were OK, and I like the choice of wardrobe for the actors and actresses. The women all were quite attractive IMO. Still, and I said STILL, it does not make up for the blatant X-Men, Underworld, (insert your favorite zombie, vampire movie here) rip off! The director, writer, producer, ALL should be bansihed & exile from the movie business. I think I feel the way that most people feel about Blood Rayne (and just about all other Uwe Boll pictures) about this film. That's my whole $1.00 on this film. View if you dare.\n",
      "* * * * * * * * * \n",
      "12087\n",
      "Rounding out the 1929-30 all-talkie \\Our Gang\\\" release schedule, \\\"A Tough Winter\\\" features two storylines. First, Wheezer and Mary Ann, home alone on a wintry day, decide to make some taffy. Little Wheezer relays the directions to Mary Ann from a radio cooking show. The problem: Wheezer relays information from different shows and Mary Ann ends up putting soap in the mix! Funny moments occur when the rest of the Gang shows up to pull the taffy - and end up getting it all over the house!<br /><br />The second storyline deals with Stepin Fetchit, a neighbor/handyman of the Gang, and his interactions with the Gang.<br /><br />\\\"A Tough Winter,\\\" to my knowledge, has never been shown on television, although it is available on home video. The reason for this is the Stepin Fetchit characterization which shows a shifty, sly, and slow-moving character. \\\"Our Gang\\\" producer Hal Roach called Fetchit a \\\"skilled comic\\\" and used this \\\"Our Gang\\\" entry as a pilot for a Fetchit comedy series that never saw the light of day. Understandably, Fetchit's characterization is offensive to many people today, which explains why the film has been shelved.<br /><br />Although there are some funny moments both with Fetchit and the taffy, \\\"A Tough Winter\\\" is a plodding and meandering effort. If one positive came out of this film, it was that the Hal Roach Studios grew confident and experienced in making talkies. The sound in the film is good, and some of the sound effects used are very funny. For this reason, this film in part paved the way for the excellent 1930-31 \\\"Our Gang\\\" films.<br /><br />3 out of 10.\"\n",
      "* * * * * * * * * \n",
      "12186\n",
      "If Mr Cranky had rated this, I'd be tempted just to copy his review and paste it here. But as he hasn't, I'll have to give it a go myself.<br /><br />The only thing giving this movie a 1 instead of a 0 is that Malcolm McDowall's acting is excellent. However not even he can save this film from disaster. The director must have been really distracted when he worked on this one because it is just a conglomeration of scenes that were thrown together with very little continuity - reminiscent of bad '70's movies. Even worse, both the actors and director appeared to be making it up as they went along which probably showed how bad the original script was.<br /><br />It's not even worth discussing the story line although it revolves around a futuristic corporation called the Proxate Corporation who put together a crew of dispensable people to carry a dangerous cargo on an old container/slave ship to Nigeria. This ship's computer is a baby kept in a glass jar and wired into one of the crew via USB 12 or something. The company should have been called the Prostate Corporation as the entertainment value of this movie is on a par with an examination of the same name.<br /><br />I honestly can't find one scene that I could say was well made and made any real sense in the context of the movie. I only watched it to the end as I had a touch of the bird flu and this movie reminded me that there were people out there who were actually worse off than me - Malcolm McDowall in particular. I won't hold this against him as he's a great actor and every great actor is entitled to one bad movie in their career and this one is a doosie.<br /><br />So, unless this is the only movie your shop hires out or you're male and you're doctor isn't doing prostate examinations this week and you somehow feel this is a bad thing then give this one a really wide berth unless of course if you're really community minded, buy a copy to support Malcolm and then use it as a drink coaster.\n",
      "* * * * * * * * * \n",
      "12253\n",
      "\\The Dream Child\\\" of 1989 is the fifth film in the (generally overrated) \\\"Nightmare\\\" series, and at the latest from this point on, the series became total garbage. The only good films in the series were Wes Craven's 1984 original, and the third part, \\\"The Dream Warriors\\\" of 1987. The second part was disappointing and boring, and it was the fourth part in which the formerly scary madman Freddy Krueger began to annoy with constant idiotic jokes. This fifth entry to the series has hardly anything to recommend except for (admittedly great) visuals, and one creepy scene, a flashback sequence to how Freddy Krueger came into existence. The rest of the film consists mainly of our razor-clawed maniac-turned-jokester yelling stupid one-liners, and the old formula of a bunch of teenage jackasses, who desperately try to avoid falling asleep, because good old Freddy awaits them in their dreams. Lisa Wilcox is back in the role of Alice Johnson, and a bunch of uninteresting crap, such as a super-dumb 'eerie' children's rhyme is added for no other reason than to have some sort of justification for making this superfluous and boring sequel... In Short: No originality, just a decline of the old formula, and an over-load of painfully annoying jokes. My (generous) rating of 3/10 is due to the great visuals, and especially to emphasize the difference to the terrible next sequel, \\\"Freddy's Dead\\\", which is awful beyond belief. In case you're not a hardcore Freddy Krueger enthusiast, \\\"The Dream Child\\\" should be avoided, and even if you are, this is more than likely to disappoint.\"\n",
      "* * * * * * * * * \n",
      "12445\n",
      "I am a huge horror/splatter fan, I even enjoy horror films some people consider as stupid. I also like gore. The more the merrier as long as it has a point.<br /><br />After reading the other people's reviews on the site I was sure this film was going to be a little gem. But much to my disappointment it proved to be one of the most pointless films I've ever watched.<br /><br />The acting was terrible, the dialogs were stupid, the plot was pointless, the special effects were useless and the editing was probably done by someone who has been dead for the past 2 years. Usually i find that all these characteristics make a great b horror movie . But not in this case.<br /><br />I waisted 11 EUR to get this DVD. <br /><br />Unless you actually enjoy pointless gore ( for example the \\violent sh*t\\\" films) avoid at any cost!\"\n",
      "* * * * * * * * * \n",
      "12509\n",
      "I want so badly to give this piece of GARBAGE a zero, unfortunately, there isn't, so, I had to give it a 1 just to warn you about how stupidly terrible this imposter of a familiar cartoon really is! The characters look like they were drawn by pre-schoolers, no, wait, I've seen pre-schoolers do better! I prefer \\Misadventures of Flapjack\\\" to this terrible excuse for a cartoon! I'm probably saying what others have said, two words: RIP OFF!! Remember that episode of Dexter's Lab when they raced go-karts down that volcano? yeah, Mister Fellows even cashed in on that idea and failed! They even ripped off Shadow Lugia in that one episode that parodied Pokemon!(he even cashed in on that franchise!) That one character is a cheap rip off of Mandark from Dexter's Lab! Mister Fellows needs to be sued for statutory infringement for this piece of crap!! Everyone has their own opinion, but those of you who like Johnny (RIP-OFF) Test, your'e just lying to yourselves. Do yourself a favor, change the channel when this rip off tries to disgrace your screen!\"\n",
      "* * * * * * * * * \n",
      "12535\n",
      "I have a high tolerance for the weird, but frankly some movies go way, way beyond weird--so far that they make your brain hurt. This is such a film. Trying to understand it or even explain it is impossible and I think the film is best understood while taking drugs--it's that incomprehensible.<br /><br />The film begins with some very cute Japanese animation involving a cat. However, out of the blue, tons of twisted and occasionally disturbing things occur--making me wonder if I am losing something in the translation. However, even if this is so, why did we need to be treated to images of a magic trick involving dismembering a lady with a clever, defecation, puking, lighting animals on fire, etc.. All this really seemed random and pretty awful. Oddly, and I don't know why, some see this as a work of genius. I just don't get that.\n",
      "* * * * * * * * * \n",
      "12885\n",
      "This film was made in Saskatchewan and Manitoba Parks and returned the world eye again to what little of the \\Wild Western Canada\\\" is left. When Archie began to write his stories for the papers; the thought of the day was to tame the wilderness and convert/absorb the First Nation Peoples.<br /><br />The film puts forward and asks the question; why would a well-educated, obviously talented Englishman become an Indian?<br /><br /> Archie, as an English boy dreams about becoming something but grasping the full meaning of that dream is unique and priceless - no mater what it is. Sounds like a famous puppet story doesn't it.<br /><br /> In my opinion, I saw Archie become my living image of the \\\"Cigar store Indian\\\" a very wooden character and not real at all - very well done acting on the part of Mr. Brosnan. He also portrayed the wild Indian in the dance scene for the tourist. The fullness and or reality of it weren't realized till he met and married his wife, Annie.<br /><br /> Annie pushed Archie in a direction that would bring him to the forefront of the Englishman's world stage, not as himself but Grey Owl -an Canadian Native of the wilderness frontier.<br /><br /> This is the closest Archie get to becoming the noble savage prototype.<br /><br /> Mr. Brosnan's interpretation as well as the directors is both well done. I have watched documentaries on Grey Owl and I think this is a good big screen movie to add to my collection.<br /><br />Spoiler - I thought the final scenes with Archie going to meet the Grand Council of Chiefs was a great a great moment in the film.<br /><br /> Very beautiful Canadian lake scenery and real \\\"Grey Owl\\\" locations.<br /><br />\"\n",
      "* * * * * * * * * \n",
      "13231\n",
      "This video guide was the masterpiece of the year 1995. Beautifully done! Matthew Perry and Jennifer Aniston have major on-screen chemistry when they talk about what the Start button does. I'm waiting for Microsoft to release a Special Edition DVD complete with deleted scenes, Bill Gates commentary, a documentary of how Windows 95 compares to Windows XP, and more!<br /><br />Overall: 10/10 (Should have won at least a Golden Globe)\n",
      "* * * * * * * * * \n",
      "13281\n",
      "Della Myers (Kim Basinger) is an upper-class housewife that lives in a private condominium in the suburbs with her twin children and her abusive husband Kenneth (Craig Sheffer). Della gives all the attention to the twins, neglecting their house and her appearance and upsetting Kenneth. On the Christmas Eve, she drives to the local mall in the night to buy wrapping paper for the gifts, and she does not find any parking space available. When she sees an old car parked on two spots, she leaves a message to the owner calling him \\selfish jerk\\\". When the mall closes, Della's car is hold by the driver of the old car and she is threatened by four punks  Chuckie (Lukas Haas), the Afro-American Huey (Jamie Starr), the Chinese-American Vingh (Leonard Wu) and the Latin Tomás (Luis Chávez). When the security guard of the mall protects her, he is shot on the head by Chuckie, Della speeds up her car trying to escape from the criminals. However she crashes her truck nearby a forest while chased by the gang. She takes the toolbox and hides in the wood, fighting against the gang to survive.<br /><br />A couple of days ago, I saw the trailer of \\\"While She Was Out\\\" and I was anxious to watch the DVD. Unfortunately the trailer is better than the movie, and I am totally disappointed with this dull and implausible collection of clichés. Della Myers is presented as an insecure and neglectful housewife and inexistent as wife; the motherhood is her only interest in her concept of family. She is chased by four mean criminals but she defeats them with a toolbox that seems to be the Batman's utility belt. Therefore, the plot is so absurd that irritates. The gang of criminals is formed by the favorite cliché of American movies, with an Afro-American, a Chinese-American and a Latin together with an American lord to be politically correct. Kim Basinger has a decent acting, but their children are too young for a fifty-five year-old woman. My vote is four.<br /><br />Title (Brazil): \\\"Enquanto Ela Está Fora\\\" (\\\"While She Was Out\\\")\"\n",
      "* * * * * * * * * \n",
      "13403\n",
      "There can be no questions of spoilers for this movie, the director beat us all too and spoiled this movie in oh so many ways.<br /><br />A blatant rip-off of stuff like Critters and Gremlins, this movie fails on so many levels to recapture the humour and horror of those better made films. It ends up a sleazy waste of time, where bad actors deliver bad dialogue in front of an idiot director, who occasionally tosses stuffed toys at them. They wrestle with said toys in much the same manner as old Tarzan films used to use rubber crocodiles, shaking them whilst screaming and trying their best to make it look slightly threatening. It's painful to watch, and not helped by the mental 80's fashions worn by the cast.<br /><br />Basically, some crazy little aliens who have been trapped by an aging security guard in a film lot finally get free after umpteen years confinement, and begin to telepathically screw around with peoples minds. The guards new recruit, the idiot who let them out despite repeated warnings, gets his gang of 80's friends together and they go off and have minor adventures together while trying to recapture the Grem... Hobgoblins.<br /><br />All life is here, with the gang consisting of a knucklehead jock, his 80's slut girlfriend, the 'hero's frigid and prissy girlfriend, and the young hero, lacking in confidence and wishing his girlfriend would put out anyway.<br /><br />First off comes the infamous rake fighting scene, where the ex-military jock shows how he was trained in the army to be a bully, poking the nerdy hero with the wrong end of a rake for what seems like hours. Then there's some running around, terminating in a real pie-fight style ending in a scuzzy nightclub with comedy hand-grenades blowing up everything except the people standing right next to them. Then the film sorta ends, and alls well that ends well.<br /><br />It's not. This is like watching a train wreck, you cant take your eyes off it, it's so bad. Perfect fare for Mystery Science Theater, but god-awful should you try to watch it alone and uncut. The Fashion Police still have a number of outstanding warrants for the cast, and I dare anyone not to laugh in outright derision at the rake fight. This scores 2 out of 10 at most, on a good day.\n",
      "* * * * * * * * * \n",
      "14329\n",
      "This movie sucked. It really was a waste of my life. The acting was atrocious, the plot completely implausible. Long, long story short, these people get \\terrorized\\\" by this pathetic \\\"crazed killer\\\", but completely fail to fight back in any manner. And this is after they take a raft on a camping trip, with no gear, and show up at a campsite that is already assembled and completely stocked with food and clothes and the daughters headphones. Additionally, after their boat goes missing, they panic that they're stuck in the woods, but then the daughters boyfriend just shows up and they apparently never consider that they could just hike out of the woods like he did to get to them. Like I said, this movie sucks. A complete joke. Don't let your girlfriend talk you into watching it.\"\n",
      "* * * * * * * * * \n",
      "14396\n",
      "I was fully amped up to see this film. I had been waiting a year for it to be cleared down here in New Zealand. I shouldn't have built myself up so much because it was so disappointing and is without a doubt Clark's worst film There is so much wrong with this film. First off, some of the acting is great, in particular Nick Stahl as 'The Bully', and the girl with the curly brown hair (I can't recall her name), but most of it was so out of touch and incredibly unbelievable, especially Leo Fitzpatrick. He's a veteran of Clark's films now and he was so brilliant in 'Kids', but in 'Bully' he invests his lines with such solemnity as to turn his scenes into a parody virtually. The screenplay felt like it had been written by a first year film student. No sorry, a high school student...one who has never seen a movie before. And I couldn't fathom Clark's intentions. Was he trying to point out the meaningless of these kids' existence? It sure as hell didn't stop him getting in a damn good perv. I'm no prude but I didn't need to see teenage breasts and buttocks every 5 minutes. I still maintain that Clark's best film is 'Another Day in Paradise'. It's fantastic and I don't think he'll ever top it.\n",
      "* * * * * * * * * \n",
      "14528\n",
      "Really. Does any week go by that Oprah doesn't remind us that she was abused as child?<br /><br />She makes herself the focus of every interview.<br /><br />Oprah cannot resist commenting on the answer to every question she asks. She often interrupts guests before an answer is finished to interject her own aside or anecdote. Directors are obviously instructed to focus on her closeup reaction rather than guest's faces because that's what counts - what Oprah feels, what Oprah says.<br /><br />Oprah, Oprah, Oprah. It's always all about Oprah.<br /><br />Oprah says - Feel sorry for me, I was so poor. Feel the pain of my battle with my weight. Feel my hurt when I'm turned away from a fancy store after they've already closed. Feel good for buying my magazines and books. Feel good for my success. Feel good when you give to my charity to make me look good. Feel good for making me rich beyond belief.<br /><br />My interpretation of her point of view: YOU VIEWERS ARE ALL DEEPLY FLAWED AND YOU NEED MY DAILY ADVICE. I have all the answers for your life though I have nothing in common with you plebes. I have never been married nor do I want to be. I have never had to raise a family - but I know all about it. I have little respect for men or marriage. I clearly prefer people like me over others - witness \\Legends Ball 2006\\\". Gayle is my best friend but we are not gay.<br /><br />As of 7/31/2006, the heading on her website actually reads : \\\"Oprah.com is your leading source for information about love, life, self, relationships, food, home, spirit and health.\\\" How presumptive and obnoxious is that ? <br /><br />In June 2006, she crashed two private wedding receptions in Oklahoma to gather footage for her September 2006 shows. She keeps promising to quit TV but her yapfest drags on with no end in sight.<br /><br />Contrary to what she thinks, Oprah is neither a queen nor a goddess nor on a personal mission from God. She's just one very lucky, overweight, black woman who copied Phil Donahue's style and called it her own. She happened to be in the right place at the right time and knew exactly how to suck up to the right demographic. <br /><br />Oprah is the P.T. Barnum of this age and it amazes me that people cannot see through her facade. <br /><br />So ladies and gentlemen, boys and girls and you too Oprah if you can fit that inflated ego through the door - This way now to the great egress ...\"\n",
      "* * * * * * * * * \n",
      "14601\n",
      "Creepshow 2 had a lot of potential, they just didn't put enough time in perfecting it. The stories were pretty cool and creepy enough, but it was lacking. It's a good movie, but after you've seen it once, you might want to see it again. This movie could of been better.\n",
      "* * * * * * * * * \n",
      "14611\n",
      "If you've ever seen this movie, you'd know that it! If you haven't, and want to see a classic BAD movie, I suggest you see this movie, because it ranks right down with the worst. So, if you're REALLY bored, go rent it. If you want to know what it's like, here's my little summary: Adam Sandler is hired to work on a giant cruise ship with some Ms Universe models and five other people. Adam doesn't like how one passenger is getting all the babes, and he tries to take over with the cheezy jokes. BUT WAIT! It only gets worse! You'll have to rent the movie yourself to see how bad it truly is.\n",
      "* * * * * * * * * \n",
      "14668\n",
      "I bought Unhinged because I got suckered by the gory picture on the cover. If you want to see all the good parts of the movie just look on the back of the box. All the kills are shown and I can honestly tell you that they look much better in the still frames than they do in the movie.<br /><br />Having said that, let's look at the plot. A group of college girls driving to a rock concert (by way of the deep, dark woods in one of the longest driving sequences ever captured on celluloid) slide off the road. No visible damage is done to the car but apparently it was enough to put one of the characters in a comatose state for the rest of the film (or perhaps she read the script and was already in a coma before filming began).<br /><br />The two remaining girls wake up in a big, isolated house. The house, by the way, is fabulous and manages more drama just by its presence than any of the actors in the film. For some reason, though, this house has no roads going to it. The only way you can get to the main road is by hiking five miles through the woods. The girls spend the rest of Unhinged sitting around listening to weird conversations between an old rich bitch (who looks like George Washington in drag) and her equally homely, sexually repressed daughter. The girls apparently were in no hurry to get back from that concert anyway being that they packed more clothes than the cast of Gilligan's Island for that three hour tour.<br /><br />By the time we, the viewers, get to the kill scenes, we no longer care. We wish that someone would kill us just to end our suffering . Unhinged finally wraps up with a quite shocking ending that deserved to be in a much better film. It's almost as though the ending, the one good idea in the film, was written first and then the writers tried to make a movie leading up to it.<br /><br />Unhinged is ultimately a boring film with bad acting, inept directing, and a plot with more holes than a leper in a porno film (sorry. I'm not sure where that came from). You will get an idea of how bad this movie is during the opening credits when, for some reason that is never explained, the screen goes black for about two minutes while the characters talk about nothing worth remembering. Don't waste your time. You'll just feel Unhinged and want your time and money back.\n",
      "* * * * * * * * * \n",
      "14710\n",
      "Dolph Lundgren stars as a former cop/boxer who searches Boston's kinky scene to find out who killed his brother,who was well thought of in the community, however along the way he learns how his brother enjoyed kinky sex and that a serial killer is to blame. Dolph Lundgren is very good in this movie, in fact on the basis of his performance here, one would forget Lundgren's rise to fame involved action roles. That said the material gives Lundgren nothing to work with, in fact, Lundgren is completely left out to dry in a dreary thriller which is both predictable and incomprehensible. Co-Star Danielle Brett is also good, in fact the film works best when it centers around the chemistry of Lundgren and Brett, indeed had the film taken the time to explore their relationship the film would've been fairly decent. However the movie is lackluster, the action is non-existent, the plot not given enough exploration (Too much boring B.S around Lundgren's investigation of his brother's employer) and the film is needlessly gory and ridiculous. Once again, Lundgren is actually really good (As is newcomer Danielle Brett) but the film just lumbers from one sequence to the next, which makes this movie particularly disappointing. If anything else though, it shows how underrated Lundgren is, as an actor.<br /><br />*1/2 Out Of 4-(Poor)\n",
      "* * * * * * * * * \n",
      "14931\n",
      "As a Turkish man now living in Sweden I must confess I often watch Scandinavian movies. Most if them I never understand. I think actors from Scandinavia work best in Hollywood. Last week I watched a film called \\The Polish Wedding\\\" together with a polish friend of mine and we both said it was the worst movie we ever watched. Unfortunately I was wrong this movie \\\" House of Angels\\\" is even worse. None of the actors can act, absolutely not the female so called star Helen Bergstrom. The plot is so silly nobody can believe it.I think the whole thing is a mess from the start. lots of bad acting except from Selldal and Wollter. Ahmed Sellam\"\n",
      "* * * * * * * * * \n",
      "15011\n",
      "I thought this was a very clunky, uninvolving version of a famous Australian story. Heath Ledger and Orlando Bloom were very good in their roles, and gave their characters some personality; but the whole thing felt forced and mechanical.<br /><br />The beginning could have been a lot more involving; perhaps starting with a shootout, and then flashing back for a recap of how they got there or that sort of thing. And I felt like every scene was routinely predictable and signposted, like a very bad tv soap.<br /><br />I was really looking forward to this movie, and hoping for something a lot better. The only thing I can say in its favour is that it beats the Mick Jagger version, but not by much.\n",
      "* * * * * * * * * \n",
      "15050\n",
      "A bum gives a Secret Serviceman a tip about a Secret Service man in the presidential detail who plans to kill the president. Baloney. How did the bum know? The script then turns to a most detailed examination of how the Secret Service works, but who cares. Most of this just slows down the movie. All the chases that follow are this film's version of the tiresome car chases of many movies. Then, after a lot of impossible athleticism in which our hero outruns and out-guns all his buddies, we have a shootout in the Toronto City Hall. The Canadians are clearly marked with maple leafs, but how did they get into this? Finally, all is worked out. But it still makes no sense.\n",
      "* * * * * * * * * \n",
      "15092\n",
      "The entire thing is very beautiful to look at..the European location shooting was a good idea. The lead actors are attractive. The score is servicable.<br /><br />BUT THEN THEY SPOKE! And the non-plot developed! And it was all downhill from there. Pacino is sleepwalking and Keller keeps talking about how bored she is..hello, dear, you're not alone. When he does a Mae West imitation, you might have to hide your face, its that painful to watch.<br /><br />I can't imagine how either actor or director Sydney Pollack got involved with this, or a better question, why it ended up stinking so bad?<br /><br />Since death is represented in almost every scene, one way or another, maybe you're supposed to have low enjoyment here. Maybe its supposed to feel as empty and cold as death. But I still can't recommend it.\n",
      "* * * * * * * * * \n",
      "15286\n",
      "Charlotte's deadly beauty and lethal kicks make the movie cooler than it'd be otherwise.The story is so poor and Charlotte's character dies in such a foolish way, that you wonder if this's the ending they had thought of for this movie. I wish somebody could tell that an alternative ending exists, but I fear it doesn't. As for the rest of the cst, well I'd say they simply didn't act very well; although the blame should be put on the poor script.This movie reminds me of Rush Hour 2 where Zhang Ziyi dies in absurd way, since she had been the only one who had stolen the show during the whole movie. I could give this movie 2/5\n",
      "* * * * * * * * * \n",
      "15445\n",
      "I'm in awe! Wow, prepare to be blown away by the uncanny ways of the ninja. Watch them as they pounce, crawl along the ground (on their backs or stomachs) like a caterpillar, fly through the sky, climb buildings, hide and spring from trees, throw about ninja stars, role out blue welcome mats, disappear in smoke bombs, make a lot of swoosh noises with their blades and quickly sneaking or trotting about on their toes. What a sight! Really I could go on about the many traditional actions, but I'll be here all day. Oh not to forget we even get the legendary Chuck Connors popping up now and again, and watch him dispatch some ninjas with his shotgun with little ease. What class! What a badass! Anyhow the ultra-cheap 'Sakura Killers' is some stupid, but cheesy ninja action fun that only fanatics of the genre would get anything out of this shonky b-grade debacle.<br /><br />A genetic lab in America has a very important video that's stolen by a couple of ninjas. Two Americans are sent to Japan by the Colonel (Chuck Connors) to retrieve it.<br /><br />The opening of the feature sets it up nicely. Get ready for the laughs! Afterwards it slows down, but soon after the two main protagonists learns about the ninja and goes through the training it gets a head of steam as they break in costumes and fled after the stolen beta tape that contains a very important formula. This is when the violently swift action and aerobic marital arts really come in to play. It's not too shoddy either, (like the moronic script and daft performances). The final climatic showdown is very well done.<br /><br />In the slow stretches it has the two Americans (Mike Kelly and George Nicholas) looking in to the case, sharing brainless conversations and encountering some minor problems. What made me laugh was how the ninjas were put off by how brave and clever these two were. These were supposed to be professional killers? Director Dusty Nelson ('Effects (1989)') does an earnest job with what he had and plays it for what it is. He centres the on-screen activities around striking Taiwan locations. The score is a chintzy arrangement.\n",
      "* * * * * * * * * \n",
      "15747\n",
      "\\Steve\\\"(Chris Hoffman)gathers a group from high school for a reunion at the cabin location where his twin brother Wes went missing. While they are there, a reptilian creature in the shape of a man(reminded me a lot of the Gillman from CREATURE FROM THE BLACK LAGOON)awaits in the wilderness choosing the right time to pick them apart one by one. A biker, Ellen Ripley-type time female bad-ass, Kat(Chase Masterson)has an underground military bunker she practices experiments in, while it also serves as a place of safety from the thing on the bloody rampage. Kat knows more than she's telling(she also suffered the loss of a child), but there's another novelty twist most of the group have no idea of. This creature might just be more human than they realize..and it's former identity might shed some light on a deception only one other person has been hiding since Wes' death. Kat holds the key to many of the mysteries that unlock as the group remains near the cabin.<br /><br />Thankfully, a large portion of the film stays away from the creature which leaps in the air while we also see a hazy screen when we look through it's eyes. The film has Dawson's Creek-type melodramatics which often hinder any real tension that needs to build in a little monster movie. The direction is very bland leading to a relatively dull experience instead of eliciting scares. The cast is rather life-less and uninteresting. Pretty Maggie Grace(THE FOG remake) might be the only draw for this film.\"\n",
      "* * * * * * * * * \n",
      "15925\n",
      "This is the most saccharine romance I ever sat through. The perfect film for an idle housewife in kerchief, housedress, and ostrich-trimmed high-heeled mules to watch in the afternoon, lying on the couch eating bonbons. In fact, bonbons play a prominent role in the movie.<br /><br />The only reason I was able to watch to the end, is that I finally was able to gaze at Keanu Reeves' dreamy face in almost every scene. In most of his films, he moves too fast to get a good look. The only rapid action in this show is Giancarlo Giannini waving his hands with Latin emotionality - more Italian than Mexican, really. <br /><br />The dialog is as stiff as wood. Unfortunately, no bodices are ripped - the hero is disgracefully perfect-mannered and mild. The aristocratic warm-blooded old-world family cliche is as old as the hills. What does it matter if they are Irish or Italian or Mexican? This is a fairy story.<br /><br />I knew before the titles finished running that this would not be the movie I hoped for. The glowing grapes looked like the paragon of all food ads in Women's Day Magazine. I didn't see his name listed, but the art director surely was Thomas Kinkade, who paints the million dollar canvases of Irish cottages snuggled in fuchsias. This film was literally seen through rose-colored glasses. If you like dreamy pink and blue sky, this film is for you! (The bonbons looked really good, too!)\n",
      "* * * * * * * * * \n",
      "16946\n",
      "A terrible movie as everyone has said. What made me laugh was the cameo appearance by Scott McNealy, giving an award to one of the murdered programmers in front of a wall of SUN logos. McNealy is the CEO of SUN Microsystem, a company that practically defines itself by its hatred of Microsoft. They have been instrumental in filing antitrust complaints against Microsoft. So, were they silly enough to think this bad movie would add fuel to that fire?<br /><br />There's no public record I see of SUN's involvement, but clearly the makers of this movie know Scott McNealy. An interesting mystery.\n",
      "* * * * * * * * * \n",
      "17235\n",
      "First of all, as a long time student of the Titanic disaster and member of several Titanic clubs, I feel entitled to comment on the film. I don't really care how many awards and accolades the film won, but to me it is still an absolutely awful film. Cameron had the resources to make a 'proper' semi-documentary film of the disaster but unfortunately chose to turn it into a po-faced romantic mush. The fact that so many people around the world fell for it only shows, to my mind, the sad state of taste and common sense that movie critics and audiences have these days. Whoever said that all movies should have a hero and heroine falling in love? In fact most real events are anything but romantic and the Titanic disaster certainly was not one. I feel that it needed a better script and director with a semi-documentary approach and as little artistic license as possible. I almost threw up in the last sequence where the 'dead' lovers meet among the other lost passengers and crew who break out in applause. Is this an intelligent film? Ask yourself.\n",
      "* * * * * * * * * \n",
      "17343\n",
      "Really it's a dreadful cheat of a film. Its 70-minute running time is very well padded with stock footage. The rest are non descript exteriors and drab interiors scenes. The plot exposition is very poorly rendered. They are all just perfunctory scenes sort of strung together. There is no attempt at drama in scene selection but rather drama is communicated by the intensity of the actors. Please don't ask.<br /><br />The plot concerns a rocket radiating a million degree heat orbiting earth five miles up threatening to destroy the earth. It's a real time menace that must be diverted if a custom built H-bomb can be fashioned and placed in an experimental rocket within an hour. Nothing very much here to report except for a mad speech by a scientist against the project because there might be some sort of life aboard and think of the scientific possibilities but this speech made by the obligatory idiot liberal was pretty much passé by then.<br /><br />What saves this film, somewhat uniquely, IS the stock footage. I've never seen a larger selection of fifties jet fighter aircraft in any other film. This is by no means a complete list but just some of the aircraft I managed to see. There's a brief interception by a pilot flying, in alternate shots, an F-89 Scorpion and an F-86. First to scramble interceptors is the Royal Canadian Air Force in Hawker Hunters and F-86 Sabre Jets (or Canadian built CF-13s) and even a pair of CF-100 Clunks.<br /><br />Then for some reason there are B-52s, B-47s and even B36s are seen taking off. More padding.<br /><br />\\These Canadian jets are moving at 1200 miles an hour\\\". I don't think so since one of them appears to be a WW2 era Gloster Meteor, the rest F-80s. The Meteors press the attack and one turns into a late F-84F with a flight of early straight wing F-84s attacking in formation.<br /><br />There's a strange tandem cockpit version of the F-80 that doesn't seem to be the T-33 training type but some sort of interim all-weather interceptor variant with radar in the nose. These are scrambled in a snowstorm.<br /><br />An angled deck aircraft carrier is seen from about 500 meters. It launches F-8U Crusaders, F-11F Tigers, A-5 Vigilantes and A-3 Skywarriors. The Air Force scrambles F-86s and F-84s and more F-89s then you've ever seen in your life as well as F-100 Super Sabres and F-102 Delta Daggers.<br /><br />The F-100s press their attack with sooooo much padding. The F-89's unload their rockets in their wingtip pods in slo mo. The F-86s fire, an F-102 lets loose a Falcon, even some F-80s (F-94s?) with mid-wing rocket pods let loose. There is a very strange shot of a late model F-84 (prototype?) with a straight wing early model F-85 above it in a turn, obviously a manufacturer's (Republic Aviation) advertising film showing the differences between the old and the new improved models of the F-84 ThunderJet. How it strayed into here is anybodies guess.<br /><br />There is other great stock footage of Ottawa in the old days when the capital of Canada was a wide spot in the road and especially wonderful footage of New York City's Times Square during one of the Civil Defense Drills in the early 50s. <br /><br />I think we also have to deal with the notion that this was filmed in Canada with the possible exception of the auto chase seen late in the picture as the Pacific seems to be in the background. The use of a Jowett Jupiter is somewhat mind-boggling and there is a nice TR 3 to be seen also. Canada must have been cheap and it is rather gratuitously used a lot in the background.<br /><br />As far as the actual narrative of the film there is little to recommend it other than the mystery of just who Ellen Parker is giving the finger to at the end of the picture. And she most definitely is flipping someone off. Could it be, R as in Robert Loggia? The director who dies before this film was released? Her career as this was her last credit?<br /><br />Its like the newspaper the gift came wrapped in was more valuable than the gift.\"\n",
      "* * * * * * * * * \n",
      "17603\n",
      "Julia (Kristina Copeland) travels with her husband Steven Harris (Steven Man) and their baby son Alex to spend a couple of days with her family in Savage Island, an island of their own. The couple expects to resolve their issues along the weekend in the remote island. While waiting for the boat, Julia and Steven meet two weird men in the harbor, and when her brother Peter (Brendan Beiser) arrives, he explains that a family of hillbilly squatters is living in the island. The reckless Peter smoke pot while driving the truck in the night and turns the headlight off to show off; however, he accidentally runs over the young son of the Savage's family, but in the dark he believes he has hit an animal. Later, the Savage family claims Alex as a compensation for their lost son. The Young family does not accept the trade, and they initiate a deadly war between families.<br /><br />\\Savage Island\\\" is a very low-budget movie, with a stupid screenplay, amateurish cinematography but surprisingly good acting. The flawed story is totally absurd, and there are many unbelievable situations. For example, how could two men leave two women with the baby alone in the road during the night with the menace of the deranged family? The logical procedure would be going immediately to the continent and bringing police force to rescue Peter. Then the Young family vanishes; Julia and Steven leave their car in the continent and their house and friends, and nobody chases them? Peter calls his sister Julia of Alex when he arrives with the boat in the beginning. There are so many flaws in this flick that I could spend many lines writing about this subject. I believe this film was filmed with a home video camera so awful the images are. The good cast deserved a better material to work. My vote is four.<br /><br />Title (Brazil): \\\"Ilha de Sangue\\\" (\\\"Island of Blood\\\")\"\n",
      "* * * * * * * * * \n",
      "18124\n",
      "What I found so curious about this film--I saw the full 4 hour roadshow version, is how oddly dispassionate it is. For a film about 2 very charismatic men--Castro and Che, engaged in a gargantuan political struggle, it's almost totally devoid of emotional fire. The scenes between Benicio Del Toro and Demian Bichir (who is at best a second level actor,with a slightly high pitched voice) have no drama or depth and basically come down to Castro telling Che: go here, go there, do this and that, with no explanation as to what effect or use this action will result in. Odder still is there is an actor in the cast who has the requisite power to play Castro--Joaquim de Almeida, but he's shunted aside in a minor part in the second half. Without the tension or passion that you would expect to fire these men and their followers, the film becomes a dullish epic-length film about hairy, bearded men running through various jungles shouting and shooting to no particular purpose or end. Several of the reviews I've read showered praise on the work of director Steven Soderbergh while ignoring the actors almost completely. (One in fact spent more time talking about Soderbergh's new digital film camera than the plot or actors or the fact that it's entirely in Spanish with English subtitles.)This is an odd, odd thing to do since a) Soderbergh was only a hired gun on the film and b) it's no more than a competent job of work, with an unremarked upon nod to Oliver Stone's JFK in the black and white cut up camera-work when Che visits New York. If you can imagine Reds directed by Andrew McLaglen instead of Warren Beatty, you'd get an idea of the dull competency of this movie.\n",
      "* * * * * * * * * \n",
      "18286\n",
      "If you are having a bad day,or bad week. If you are looking for a film that will make you laugh and forget about your troubles. I don't think Role Models is that movie for you.<br /><br />The film centers around Danny(Paul Rudd) and Wheeler(Seann William Scott) Two juice promoters, who go to schools promoting the product, telling kids to stay off drugs, and more juice. But Danny is having the worst week ever, and crashes his company car, with Wheeler in the seat next to him. His soon to be ex girlfriend Beth(Elizabeth Banks) who is a lawyer, manages to avoid getting them jail time, by doing hours of community service, volunteering at a big brother place called Sturdy Wings led by Gayle(Jane Lynch). Wheeler is assigned to Ronnie(Bobb'e J Thompson) who is 10 years old, and has a foul mouth like he's Chris Rock. Danny is assigned to Augie(McLovins, Christopher Mintz-Plasse) who likes to dress like a knight, and fight like he is in medieval times. But will this be good for Danny and Wheeler, or will they be better off in jail?<br /><br />Okay I'm not gonna beat around the bush, this movie was very unpleasant in many ways. Namely the Ronnie character, hearing those bad words coming out of a kid that young, was very shocking. If he was a little bit older, it would not have mater'd as much. I mean what where his parents thinking, when they sign'd him on to this. Elizabeth Banks character is so unwatchable, maybe I was supposed to feel bad for her character, but I felt nothing, because she is annoyingly predictably portrayed as a female who would be played in these types of comedies. And Jane Lynch, who's the worst of the worst. She delivers the most overacting performance ever. Playing a former drug addict, who acts like she still is on drugs. Listening to her give all that annoying dialog, made me want to throw my head up against the wall. Seann William Scott once again playing another Stifler like character, he should really try to separate himself, and this film won't do it. And the more Scott tries to hard to be funny, is what keeps him from being funny.<br /><br />Now Paul Rudd on the other hand, I'm gonna separate from the others in the film, cause he manages to deliver a solid performance, although he does not get higher laughs, but he is the most interesting character from the rest. Cause Rudd does not overact, and does not try so hard. The scenes with him and Mintz-Plasse are watchable. But the rest of the film is so stupid, it picks up at times. But it becomes so predictable and uninteresting. It is a reminder that these types of comedies try nothing new, there all the same, they take no chances. Role Models is an example of that.\n",
      "* * * * * * * * * \n",
      "18338\n",
      "The first half hour or so of this movie I liked. The obvious budding romance between Ingrid Bergman and Mel Ferrer was cute to watch and I wanted to see the inevitable happen between them. However, once the action switched to the home of Ingrid's fiancé, it all completely fell apart. Instead of romance and charm, we see some excruciatingly dopey parallel characters emerge who ruin the film. The fiancé's boorish son and the military attaché's vying for the maid's attention looked stupid--sort of like a subplot from an old Love Boat episode. How the charm and elegance of the first portion of the film can give way to dopiness is beyond me. This film is an obvious attempt by Renoir to recapture the success he had with THE RULES OF THE GAME, as the movie is very similar once the action switches to the country estate (just as in the other film). I was not a huge fan of THE RULES OF THE GAME, but ELENA AND HER MEN had me appreciating the artistry and nuances of the original film.\n",
      "* * * * * * * * * \n",
      "18417\n",
      "i am a big fan of karishma Kapoor and Govinda. I watched this film after i had seen Fiza, which was absolutley brilliant.<br /><br />There are films that are bad, and there are films that are cr*p. but this film just takes the biscuit.<br /><br />We were so annoyed that we were conned out of paying our money expecting a decent film.<br /><br />avoid at all cost, dont even rent it.<br /><br />1/10\n",
      "* * * * * * * * * \n",
      "18500\n",
      "This is a review of The Wizard, not to be confused with The Wiz, or Mr. Wizard. The Wizard is a late-eighties film about a seriously silent boy's ability to play video games and walk during the entire opening credits. The Wiz is an unnecessary update of The Wizard of Oz, and Mr. Wizard is that guy that attached 100 straws together and had some kid drink tang out of it.<br /><br />Now that we've gotten all that out of the way, let me say this: there's really no reason to see this movie. It's simply a 100 minute Nintendo commercial designed to capitalize on the Powerglove, the Legend of Zelda and Super Mario Brothers 3. I use the word \\designed\\\" in the loosest sense possible, because it seems like this movie was written over a weekend by a crack team of people who had never played Nintendo, and directed by a man with less sense of style than my grandmother. Maybe if the writer and director sat down and actually played some games together, they'd realize that they were about to film total rubbish and instead go to vocational school to learn how to install car stereos.<br /><br />I hope that this has been an enlightening experience for you. It sure hasn't been for me. In fact, I think I might have lost a few braincells in the act of watching this movie and writing about it. Next time you're at the video store and you see the The Wiz, The Wizard and The Wizard of Oz all sitting there on the shelf in a pretty little row, give them all a miss and play Duck Hunt instead.\"\n",
      "* * * * * * * * * \n",
      "18855\n",
      "Or listening to, for that matter. Even the soundtrack is a bore. <br /><br />Honestly, this isn't the worst gay movie I've seen (that would be Regarding Billy), but it's down there very close to the bottom of the barrel.<br /><br />This thing drags and drags and drags. It's not that the plot is inane--in the hands of a good writer it might have worked . . . it certainly could have been much more entertaining. There's not one plot point you can't see coming for ten miles down the road. The dialog is flat. The jokes are old. To add insult to injury, it's full of one-dimensional, stereotypical gays. <br /><br />Nothing in this movie convinced me that the situation or the relationship of the two leads was possible, much less real. There was no chemistry, no dynamic, in fact no evidence of why the leads love each other . . . we're just told they're in love. Hard to figure when they have nothing in common and aren't compatible sexually. They like the same book? Huh?<br /><br />The acting is not totally bad, but the pacing is excruciatingly slow. I mean, almost Jarmusch- slow, but without Jarmusch quality. In fact, that would be a good barometer for you. If you like Jarmusch films, avoid this one.\n",
      "* * * * * * * * * \n",
      "19300\n",
      "I watched this movie for its two hours and have absolutely no idea what it's about. Somebody got murdered or maybe they didn't and maybe somebody did it or maybe they didn't. This brought back memories of the good old days (bad old days?) when all CBC Canadian movies were stinkers. Lately stinkers have been the exception but this confused hodge podge of trendy feminism, mind reeling flash backs and mumbled dialogue makes up for lost time. I've never found Margaret Atwood's books easy to read. This movie continues that fine Canadian tradition. It isn't easy to watch. Maybe the trendy folks at the chi chi Toronto cocktail parties will pretend they liked it. Us folks in the boonies are a little less pretentious.\n",
      "* * * * * * * * * \n",
      "19329\n",
      "The movie was disappointing. The book was powerful. The views and the learning of Little Tree were powerfully portrayed in the book. The movie just coasted along and finally dribbled away. Still a nice tale for kids.\n",
      "* * * * * * * * * \n",
      "19407\n",
      "What exactly was going on during World War 11 in New Zealand when American forces were there?<br /><br />This awful story of 4 sisters was really pathetic to view. Can you imagine casting Joan Fontaine as the older sister to Sandra Dee? Fontaine looked more like her mother. Even funnier was that Fontaine becomes pregnant in the film.<br /><br />Piper Laurie and Paul Newman who showed such great on screen chemistry 4 years later in \\The Hustler,\\\" have no scenes together in this film. Laurie plays another sister who goes off to Wellington to tramp around there, despite the fact that she is married. Woe to her when her husband comes back from the war.<br /><br />Jean Simmons is widowed and finds romance with a much subdued Paul Newman. There is even romance for the young Miss Dee here.<br /><br />The picture has little to no meaning. Are they trying to say that all is fair in love and war? If they are, they did a poor job in selling this.<br /><br />The conflict of interest with Newman and Simmons is quickly disposed of. That is what should have been quickly done to this terribly disappointing film of 1957.\"\n",
      "* * * * * * * * * \n",
      "19685\n",
      "The movie began well enough. It had a fellow get hit by a glowing green meteorite, getting superpowers (telekinesis, x-ray vision, invulnerability, flight, the ability to speak to dogs, superspeed, heat vision, and the ability to make plants grow large and quickly), and fighting crime. From there on it's all downhill.<br /><br />Meteor Man gets a costume from his mom, fights with the resident gangs, and has many aborted encounters with the gang leaders which serves to set you up for the disappointing, overlong, and stupefying ending.<br /><br />It wouldn't be so remarkably bad if it weren't like watching a boxing match where the two fighters pretend to hit each other while the audience stands looking onward while the fighters just continue to dance.<br /><br />Despite all of this nonsense the movie has good points. It states clearly that if you try to take on a gang alone then they'll come back to your home and hurt you. It states that gangs & communities need to see their real enemies (the big bosses that use them for their own ends to crush honest people into a ghetto existence). It also states that people do not need superheroes if they are willing to work as a community do destroy the predators that harm them. The only message it really lacks is that the voters should ensure their elected officials (Rudolph Giuliani, Marion Barry, Ronald Reagan, George W. Bush, & George H.W. Bush) aren't crooks too.<br /><br />\n",
      "* * * * * * * * * \n"
     ]
    }
   ],
   "source": [
    "# false positives\n",
    "\n",
    "print(\"Examples of false positives:\")\n",
    "\n",
    "import random, time\n",
    "\n",
    "for i in range(0, len(ols_predictions)):\n",
    "    if (ols_predictions[i] == 1):\n",
    "        if (X_raw_train.iloc[i]['sentiment'] == 0):\n",
    "            if (random.uniform(0, 1) < 0.05): # to print only 5% of the false positives\n",
    "                print(i)\n",
    "                print(X_raw_train.iloc[i]['review'])\n",
    "                print('* * * * * * * * * ')\n"
   ]
  },
  {
   "cell_type": "markdown",
   "metadata": {},
   "source": [
    "---\n",
    "\n",
    "# <span style=\"color:red\">WARNING: Don't look at test set performance too much!</span>\n",
    "\n",
    "---\n",
    "\n",
    "The following cells show performance on your test set. Do not look at this too often! "
   ]
  },
  {
   "cell_type": "markdown",
   "metadata": {},
   "source": [
    "# Look at performance on the test set"
   ]
  },
  {
   "cell_type": "markdown",
   "metadata": {},
   "source": [
    "### MODEL: ordinary least squares"
   ]
  },
  {
   "cell_type": "code",
   "execution_count": 1150,
   "metadata": {},
   "outputs": [
    {
     "name": "stdout",
     "output_type": "stream",
     "text": [
      "{'Pos': 2523, 'Neg': 2477, 'TP': 684, 'TN': 1883, 'FP': 594, 'FN': 1839, 'Accuracy': 0.5134, 'Precision': 0.5352112676056338, 'Recall': 0.27110582639714625, 'desc': 'ols_test'}\n"
     ]
    }
   ],
   "source": [
    "ols_performance_test = BinaryClassificationPerformance(ols.predict(X_test), y_test, 'ols_test')\n",
    "ols_performance_test.compute_measures()\n",
    "print(ols_performance_test.performance_measures)"
   ]
  },
  {
   "cell_type": "markdown",
   "metadata": {},
   "source": [
    "### MODEL: SVM, linear"
   ]
  },
  {
   "cell_type": "code",
   "execution_count": 1151,
   "metadata": {},
   "outputs": [
    {
     "name": "stdout",
     "output_type": "stream",
     "text": [
      "{'Pos': 2523, 'Neg': 2477, 'TP': 2152, 'TN': 2122, 'FP': 355, 'FN': 371, 'Accuracy': 0.8548, 'Precision': 0.8583964898284803, 'Recall': 0.8529528339278637, 'desc': 'svm_test'}\n"
     ]
    }
   ],
   "source": [
    "svm_performance_test = BinaryClassificationPerformance(svm.predict(X_test), y_test, 'svm_test')\n",
    "svm_performance_test.compute_measures()\n",
    "print(svm_performance_test.performance_measures)"
   ]
  },
  {
   "cell_type": "markdown",
   "metadata": {},
   "source": [
    "### MODEL: logistic regression"
   ]
  },
  {
   "cell_type": "code",
   "execution_count": 1152,
   "metadata": {},
   "outputs": [
    {
     "name": "stdout",
     "output_type": "stream",
     "text": [
      "{'Pos': 2523, 'Neg': 2477, 'TP': 2148, 'TN': 2136, 'FP': 341, 'FN': 375, 'Accuracy': 0.8568, 'Precision': 0.8629971876255524, 'Recall': 0.8513674197384067, 'desc': 'lgs_test'}\n"
     ]
    }
   ],
   "source": [
    "lgs_performance_test = BinaryClassificationPerformance(lgs.predict(X_test), y_test, 'lgs_test')\n",
    "lgs_performance_test.compute_measures()\n",
    "print(lgs_performance_test.performance_measures)"
   ]
  },
  {
   "cell_type": "markdown",
   "metadata": {},
   "source": [
    "### MODEL: Naive Bayes"
   ]
  },
  {
   "cell_type": "code",
   "execution_count": 1153,
   "metadata": {},
   "outputs": [
    {
     "name": "stdout",
     "output_type": "stream",
     "text": [
      "{'Pos': 2523, 'Neg': 2477, 'TP': 2037, 'TN': 2124, 'FP': 353, 'FN': 486, 'Accuracy': 0.8322, 'Precision': 0.8523012552301256, 'Recall': 0.807372175980975, 'desc': 'nbs_test'}\n"
     ]
    }
   ],
   "source": [
    "nbs_performance_test = BinaryClassificationPerformance(nbs.predict(X_test), y_test, 'nbs_test')\n",
    "nbs_performance_test.compute_measures()\n",
    "print(nbs_performance_test.performance_measures)"
   ]
  },
  {
   "cell_type": "markdown",
   "metadata": {},
   "source": [
    "### MODEL: Perceptron"
   ]
  },
  {
   "cell_type": "code",
   "execution_count": 1154,
   "metadata": {},
   "outputs": [
    {
     "name": "stdout",
     "output_type": "stream",
     "text": [
      "{'Pos': 2523, 'Neg': 2477, 'TP': 2179, 'TN': 2110, 'FP': 367, 'FN': 344, 'Accuracy': 0.8578, 'Precision': 0.8558523173605656, 'Recall': 0.8636543797066983, 'desc': 'prc_test'}\n"
     ]
    }
   ],
   "source": [
    "prc_performance_test = BinaryClassificationPerformance(prc.predict(X_test), y_test, 'prc_test')\n",
    "prc_performance_test.compute_measures()\n",
    "print(prc_performance_test.performance_measures)"
   ]
  },
  {
   "cell_type": "markdown",
   "metadata": {},
   "source": [
    "### MODEL: Ridge Regression Classifier"
   ]
  },
  {
   "cell_type": "code",
   "execution_count": 1155,
   "metadata": {},
   "outputs": [
    {
     "name": "stdout",
     "output_type": "stream",
     "text": [
      "{'Pos': 2523, 'Neg': 2477, 'TP': 2328, 'TN': 2216, 'FP': 261, 'FN': 195, 'Accuracy': 0.9088, 'Precision': 0.899188876013905, 'Recall': 0.9227110582639715, 'desc': 'rdg_test'}\n"
     ]
    }
   ],
   "source": [
    "rdg_performance_test = BinaryClassificationPerformance(rdg.predict(X_test), y_test, 'rdg_test')\n",
    "rdg_performance_test.compute_measures()\n",
    "print(rdg_performance_test.performance_measures)"
   ]
  },
  {
   "cell_type": "markdown",
   "metadata": {},
   "source": [
    "### MODEL: Random Forest Classifier"
   ]
  },
  {
   "cell_type": "code",
   "execution_count": 1156,
   "metadata": {},
   "outputs": [
    {
     "name": "stdout",
     "output_type": "stream",
     "text": [
      "{'Pos': 2523, 'Neg': 2477, 'TP': 1979, 'TN': 1862, 'FP': 615, 'FN': 544, 'Accuracy': 0.7682, 'Precision': 0.7629144178874325, 'Recall': 0.7843836702338486, 'desc': 'rdf_test'}\n"
     ]
    }
   ],
   "source": [
    "rdf_performance_test = BinaryClassificationPerformance(rdf.predict(X_test), y_test, 'rdf_test')\n",
    "rdf_performance_test.compute_measures()\n",
    "print(rdf_performance_test.performance_measures)"
   ]
  },
  {
   "cell_type": "markdown",
   "metadata": {},
   "source": [
    "### ROC plot to compare performance of various models and fits"
   ]
  },
  {
   "cell_type": "code",
   "execution_count": 1157,
   "metadata": {},
   "outputs": [
    {
     "data": {
      "image/png": "[encoded data removed]",
      "text/plain": [
       "<Figure size 432x288 with 1 Axes>"
      ]
     },
     "metadata": {
      "needs_background": "light"
     },
     "output_type": "display_data"
    }
   ],
   "source": [
    "fits = [ols_performance_test, svm_performance_test, lgs_performance_test, nbs_performance_test, prc_performance_test, rdg_performance_test, rdf_performance_test]\n",
    "\n",
    "for fit in fits:\n",
    "    plt.plot(fit.performance_measures['FP'] / fit.performance_measures['Neg'], \n",
    "             fit.performance_measures['TP'] / fit.performance_measures['Pos'], 'bo')\n",
    "    plt.text(fit.performance_measures['FP'] / fit.performance_measures['Neg'], \n",
    "             fit.performance_measures['TP'] / fit.performance_measures['Pos'], fit.desc)\n",
    "plt.axis([0, 1, 0, 1])\n",
    "plt.title('ROC plot: test set')\n",
    "plt.xlabel('False positive rate')\n",
    "plt.ylabel('True positive rate')\n",
    "plt.show()"
   ]
  },
  {
   "cell_type": "markdown",
   "metadata": {},
   "source": [
    "---\n",
    "\n",
    "# <span style=\"color:red\">SUBMISSION</span>\n",
    "\n",
    "---"
   ]
  },
  {
   "cell_type": "code",
   "execution_count": 23,
   "metadata": {},
   "outputs": [
    {
     "name": "stdout",
     "output_type": "stream",
     "text": [
      "movie_data is: <class 'pandas.core.frame.DataFrame'>\n",
      "movie_data has 25000 rows and 2 columns \n",
      "\n",
      "the data types for each of the columns in movie_data:\n",
      "id        object\n",
      "review    object\n",
      "dtype: object \n",
      "\n",
      "the first 10 rows in movie_data:\n",
      "         id                                             review\n",
      "0  12311_10  Naturally in a film who's main themes are of m...\n",
      "1    8348_2  This movie is a disaster within a disaster fil...\n",
      "2    5828_4  All in all, this is a movie for kids. We saw i...\n",
      "3    7186_2  Afraid of the Dark left me with the impression...\n",
      "4   12128_7  A very accurate depiction of small time mob li...\n",
      "Shape of HashingVectorizer X:\n",
      "(25000, 131072)\n",
      "Look at a few rows of the new quantitative features: \n",
      "   word_count  punc_count\n",
      "0         131           5\n",
      "1         169          15\n",
      "2         176          18\n",
      "3         112           5\n",
      "4         133           8\n",
      "5         331          20\n",
      "6         121          18\n",
      "7         230          22\n",
      "8          59           3\n",
      "9         224          14\n",
      "Size of combined bag of words and new quantitative variables matrix:\n",
      "(25000, 131074)\n",
      "(25000, 131074)\n",
      "Shape of X_test for submission:\n",
      "(25000, 131074)\n",
      "SUCCESS!\n",
      "Number of rows in the submission test set (should be 25,000): \n"
     ]
    }
   ],
   "source": [
    "# read in test data for submission\n",
    "# CHANGE FILE PATH and my_random_seed number (any integer other than 74 will do): \n",
    "raw_data, X_test_submission = process_raw_data(fn='/home/ec2-user/data/moviereviews_test.tsv', my_random_seed=74, test=True)\n",
    "print(\"Number of rows in the submission test set (should be 25,000): \")"
   ]
  },
  {
   "cell_type": "markdown",
   "metadata": {},
   "source": [
    "---\n",
    "\n",
    "Choose a <span style=\"color:red\">*single*</span> model for your submission. In this code, I am choosing the Ordinary Least Squares model fit, which is in the `ols` object. But you should choose the model that is performing the best for you! "
   ]
  },
  {
   "cell_type": "code",
   "execution_count": 24,
   "metadata": {},
   "outputs": [
    {
     "name": "stdout",
     "output_type": "stream",
     "text": [
      "0.5596\n"
     ]
    }
   ],
   "source": [
    "# store the id from the raw data\n",
    "my_submission = pd.DataFrame(raw_data[\"id\"])\n",
    "# concatenate predictions to the id\n",
    "my_submission[\"prediction\"] = ols.predict(X_test_submission)\n",
    "# look at the proportion of positive predictions\n",
    "print(my_submission['prediction'].mean())"
   ]
  },
  {
   "cell_type": "code",
   "execution_count": 25,
   "metadata": {},
   "outputs": [
    {
     "data": {
      "text/html": [
       "<div>\n",
       "<style scoped>\n",
       "    .dataframe tbody tr th:only-of-type {\n",
       "        vertical-align: middle;\n",
       "    }\n",
       "\n",
       "    .dataframe tbody tr th {\n",
       "        vertical-align: top;\n",
       "    }\n",
       "\n",
       "    .dataframe thead th {\n",
       "        text-align: right;\n",
       "    }\n",
       "</style>\n",
       "<table border=\"1\" class=\"dataframe\">\n",
       "  <thead>\n",
       "    <tr style=\"text-align: right;\">\n",
       "      <th></th>\n",
       "      <th>id</th>\n",
       "      <th>review</th>\n",
       "      <th>word_count</th>\n",
       "      <th>punc_count</th>\n",
       "    </tr>\n",
       "  </thead>\n",
       "  <tbody>\n",
       "    <tr>\n",
       "      <td>0</td>\n",
       "      <td>12311_10</td>\n",
       "      <td>Naturally in a film who's main themes are of m...</td>\n",
       "      <td>131</td>\n",
       "      <td>5</td>\n",
       "    </tr>\n",
       "    <tr>\n",
       "      <td>1</td>\n",
       "      <td>8348_2</td>\n",
       "      <td>This movie is a disaster within a disaster fil...</td>\n",
       "      <td>169</td>\n",
       "      <td>15</td>\n",
       "    </tr>\n",
       "    <tr>\n",
       "      <td>2</td>\n",
       "      <td>5828_4</td>\n",
       "      <td>All in all, this is a movie for kids. We saw i...</td>\n",
       "      <td>176</td>\n",
       "      <td>18</td>\n",
       "    </tr>\n",
       "    <tr>\n",
       "      <td>3</td>\n",
       "      <td>7186_2</td>\n",
       "      <td>Afraid of the Dark left me with the impression...</td>\n",
       "      <td>112</td>\n",
       "      <td>5</td>\n",
       "    </tr>\n",
       "    <tr>\n",
       "      <td>4</td>\n",
       "      <td>12128_7</td>\n",
       "      <td>A very accurate depiction of small time mob li...</td>\n",
       "      <td>133</td>\n",
       "      <td>8</td>\n",
       "    </tr>\n",
       "  </tbody>\n",
       "</table>\n",
       "</div>"
      ],
      "text/plain": [
       "         id                                             review  word_count  \\\n",
       "0  12311_10  Naturally in a film who's main themes are of m...         131   \n",
       "1    8348_2  This movie is a disaster within a disaster fil...         169   \n",
       "2    5828_4  All in all, this is a movie for kids. We saw i...         176   \n",
       "3    7186_2  Afraid of the Dark left me with the impression...         112   \n",
       "4   12128_7  A very accurate depiction of small time mob li...         133   \n",
       "\n",
       "   punc_count  \n",
       "0           5  \n",
       "1          15  \n",
       "2          18  \n",
       "3           5  \n",
       "4           8  "
      ]
     },
     "execution_count": 25,
     "metadata": {},
     "output_type": "execute_result"
    }
   ],
   "source": [
    "raw_data.head()"
   ]
  },
  {
   "cell_type": "code",
   "execution_count": 26,
   "metadata": {},
   "outputs": [
    {
     "data": {
      "text/html": [
       "<div>\n",
       "<style scoped>\n",
       "    .dataframe tbody tr th:only-of-type {\n",
       "        vertical-align: middle;\n",
       "    }\n",
       "\n",
       "    .dataframe tbody tr th {\n",
       "        vertical-align: top;\n",
       "    }\n",
       "\n",
       "    .dataframe thead th {\n",
       "        text-align: right;\n",
       "    }\n",
       "</style>\n",
       "<table border=\"1\" class=\"dataframe\">\n",
       "  <thead>\n",
       "    <tr style=\"text-align: right;\">\n",
       "      <th></th>\n",
       "      <th>id</th>\n",
       "      <th>prediction</th>\n",
       "    </tr>\n",
       "  </thead>\n",
       "  <tbody>\n",
       "    <tr>\n",
       "      <td>0</td>\n",
       "      <td>12311_10</td>\n",
       "      <td>1</td>\n",
       "    </tr>\n",
       "    <tr>\n",
       "      <td>1</td>\n",
       "      <td>8348_2</td>\n",
       "      <td>1</td>\n",
       "    </tr>\n",
       "    <tr>\n",
       "      <td>2</td>\n",
       "      <td>5828_4</td>\n",
       "      <td>1</td>\n",
       "    </tr>\n",
       "    <tr>\n",
       "      <td>3</td>\n",
       "      <td>7186_2</td>\n",
       "      <td>1</td>\n",
       "    </tr>\n",
       "    <tr>\n",
       "      <td>4</td>\n",
       "      <td>12128_7</td>\n",
       "      <td>0</td>\n",
       "    </tr>\n",
       "  </tbody>\n",
       "</table>\n",
       "</div>"
      ],
      "text/plain": [
       "         id  prediction\n",
       "0  12311_10           1\n",
       "1    8348_2           1\n",
       "2    5828_4           1\n",
       "3    7186_2           1\n",
       "4   12128_7           0"
      ]
     },
     "execution_count": 26,
     "metadata": {},
     "output_type": "execute_result"
    }
   ],
   "source": [
    "my_submission.head()"
   ]
  },
  {
   "cell_type": "code",
   "execution_count": 27,
   "metadata": {},
   "outputs": [
    {
     "data": {
      "text/plain": [
       "(25000, 2)"
      ]
     },
     "execution_count": 27,
     "metadata": {},
     "output_type": "execute_result"
    }
   ],
   "source": [
    "my_submission.shape"
   ]
  },
  {
   "cell_type": "code",
   "execution_count": 28,
   "metadata": {},
   "outputs": [],
   "source": [
    "# export submission file as pdf\n",
    "# CHANGE FILE PATH: \n",
    "my_submission.to_csv('/home/ec2-user/data/moviereviews_submission.csv', index=False)"
   ]
  },
  {
   "cell_type": "markdown",
   "metadata": {},
   "source": [
    "# Submit to Canvas: 1) the CSV file that was written in the previous cell and 2) the url to the repository (GitHub or other) that contains your code and documentation"
   ]
  }
 ],
 "metadata": {
  "kernelspec": {
   "display_name": "Python 3 (ipykernel)",
   "language": "python",
   "name": "python3"
  },
  "language_info": {
   "codemirror_mode": {
    "name": "ipython",
    "version": 3
   },
   "file_extension": ".py",
   "mimetype": "text/x-python",
   "name": "python",
   "nbconvert_exporter": "python",
   "pygments_lexer": "ipython3",
   "version": "3.9.7"
  }
 },
 "nbformat": 4,
 "nbformat_minor": 2
}
