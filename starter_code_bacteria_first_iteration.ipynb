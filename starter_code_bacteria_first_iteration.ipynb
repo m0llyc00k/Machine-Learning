{
 "cells": [
  {
   "cell_type": "code",
   "execution_count": 1,
   "metadata": {},
   "outputs": [],
   "source": [
    "import numpy as np\n",
    "import pandas as pd\n",
    "import matplotlib.pyplot as plt\n",
    "%matplotlib inline"
   ]
  },
  {
   "cell_type": "code",
   "execution_count": 2,
   "metadata": {},
   "outputs": [],
   "source": [
    "raw_data = pd.read_json('downloads\\\\food_enforcement_US_bacteria.json', orient='records')"
   ]
  },
  {
   "cell_type": "code",
   "execution_count": 3,
   "metadata": {},
   "outputs": [
    {
     "name": "stdout",
     "output_type": "stream",
     "text": [
      "(6104, 26)\n",
      "0    Native Catch Salmon Bacon, Traditional flavor....\n",
      "1    Delish Fruit Burst 10 oz.(283 g)  Enjoy by: 8/...\n",
      "2    Garden Pure Holiday Fruit Bowl 4 lbs (1.81kg) ...\n",
      "3    Fresh Fruit Product is labeled in part:  \"***F...\n",
      "4    Ready Pac¿ Gourmet Fruit Bowl, 64oz , UPC 7774...\n",
      "5    River Ranch brand Diced Grn Cabbage w/Color, 4...\n",
      "6    Sweet and Sour Stir Fry packaged under the fol...\n",
      "7    Onion Slab Cut.  Products are labeled in part:...\n",
      "8    MIX w/yellow onions used as an ingredient.  Pr...\n",
      "9    Fresh n Easy brand Shred Grn Cabbage w/Color, ...\n",
      "Name: product_description, dtype: object\n"
     ]
    }
   ],
   "source": [
    "print(raw_data.shape)\n",
    "print(raw_data.head(10).product_description)"
   ]
  },
  {
   "cell_type": "markdown",
   "metadata": {},
   "source": [
    "### Bag of words feature representation for descriptive text"
   ]
  },
  {
   "cell_type": "code",
   "execution_count": 9,
   "metadata": {},
   "outputs": [
    {
     "data": {
      "text/plain": [
       "(6104, 5901)"
      ]
     },
     "execution_count": 9,
     "metadata": {},
     "output_type": "execute_result"
    }
   ],
   "source": [
    "from sklearn.feature_extraction.text import CountVectorizer\n",
    "from sklearn.feature_extraction.text import TfidfVectorizer\n",
    "\n",
    "vectorizer = CountVectorizer(stop_words='english', token_pattern=r'(?u)\\b[A-Za-z]+\\b', max_df=0.9, strip_accents='ascii')\n",
    "\n",
    "corpus = raw_data['product_description']\n",
    "X = vectorizer.fit_transform(corpus)\n",
    "X.shape"
   ]
  },
  {
   "cell_type": "markdown",
   "metadata": {},
   "source": [
    "### fit kmeans"
   ]
  },
  {
   "cell_type": "code",
   "execution_count": 11,
   "metadata": {},
   "outputs": [
    {
     "data": {
      "image/png": "[encoded data removed]",
      "text/plain": [
       "<Figure size 432x288 with 1 Axes>"
      ]
     },
     "metadata": {
      "needs_background": "light"
     },
     "output_type": "display_data"
    }
   ],
   "source": [
    "#fit Kmeans with k clusters\n",
    "from sklearn.cluster import KMeans\n",
    "\n",
    "clusterNum = 50\n",
    "# km = KMeans(n_clusters=clusterVal,n_init=30,n_jobs=-1)\n",
    "# km.fit(X)\n",
    "\n",
    "# print out plot for testing different numbers of clusters\n",
    "distortions = []\n",
    "for i in range(1, clusterNum):\n",
    "    km = KMeans(n_clusters=i,n_init=30)\n",
    "    km.fit(X)\n",
    "    distortions.append(km.inertia_)\n",
    "    \n",
    "plt.plot(range(1, clusterNum), distortions, marker='o')\n",
    "plt.xlabel('Number of clusters')\n",
    "plt.ylabel('Inertia')\n",
    "plt.show()"
   ]
  },
  {
   "cell_type": "markdown",
   "metadata": {},
   "source": [
    "### labels are named with integers and stored in the `labels_` attribute"
   ]
  },
  {
   "cell_type": "code",
   "execution_count": 12,
   "metadata": {},
   "outputs": [
    {
     "data": {
      "text/plain": [
       "array([36, 36, 11, ..., 11, 27, 43])"
      ]
     },
     "execution_count": 12,
     "metadata": {},
     "output_type": "execute_result"
    }
   ],
   "source": [
    "km.labels_"
   ]
  },
  {
   "cell_type": "markdown",
   "metadata": {},
   "source": [
    "### take a look at one of the cluster results"
   ]
  },
  {
   "cell_type": "code",
   "execution_count": 18,
   "metadata": {},
   "outputs": [
    {
     "name": "stdout",
     "output_type": "stream",
     "text": [
      "Not Ready to Eat, IQF green peas.  Products' labels contains Cooking Instructions.  Products are sold under various brands and various net weight.    Bountiful Harvest Green Peas, item #  22486-11904, case UPC & label UPC 30822486119042  and 2248611904, net wt. 12/2.5 LB      C&W Early Harvest Petite Peas, item # 70332-00159, case UPC & label UPC 10070332001591 and 7033200159, net wt. 12/16 oz.    C&W Petite Peas, item # 70332-00158, case UPC & label UPC 10070332001584 and 7033200158, net wt. 12/16 OZ    Crown Point  Green Peas, item # CNP99-11239, case UPC & label UPC 10813973017008, net wt. 20 LB    Crown Point Peas, item # CNP99-11240, case UPC & label UPC 10813973016902, net wt. 12/2.5 LB    Early Dawn Green Peas, item # ERDEX-8M445, case UPC & label ERDEX-8M445 and 7437331521, net wt. 24/500 G     Early Dawn Green Peas, item # ERDEX-8M540, case UPC & label UPC 7437331523, net wt. 6/2 KG     Evergreen Green Peas, item # EVGEX-20440, case UPC & label UPC 4940507000126, net wt 12/1 KG    Festival Green Peas, item # FECEX-2K440, case UPC & label UPC 4967777006016, net wt 12/1 KG     Field Fresh Peas, item #\t64775-17440, case UPC & label UPC 6477517440, net wt. 20 LB      First Street Green Peas, item # 41512-08202, case UPC & label UPC 4151208202 and 4151208201, net wt. 12/2.5 LB    First Street Green Peas, item # 41512-12135, case UPC & label UPC 4151212135 and 4151212134, net wt. 12/12 OZ      Foodtown Peas, item # 11153-34628, case UPC & label UPC 11153 34628 and 11153 34628, net wt. 12/40 OZ    Frost Sweet Green Peas, item # FRS99-10002, net wt. 12/2.5 LB      Great Value Sweet Peas, item # 78742-05336, case UPC & label UPC 10078742053360 and 7874205336, net wt. 12/12 OZ      Great Value Sweet Peas, item # 78742-05336-1, case UPC & label UPC 30078742053364 and 7874205336, net wt 10/12 OZ      Great Value Sweet Peas, item # 78742-10912-1, case UPC & label UPC 30078742109122 and 7874210912, net wt. 5/26 OZ    Green Peas, item # 72608-22036, net wt. 55 LB  Green Peas, item # BOYEX-1K025, net wt. 25 KG   Green Peas, item # 72608-22036, net wt. 55 LB    Harvest Value Green Peas, item # 58108-00575, UPC 50758108005759, net wt. 20 LB      Heinz Green Peas, item # 02521-39697, UPC 14902521396972 and 4902521396975, net wt.\t12/1 KG      James Farm Peas, item # 60695-01000, case UPC & label UPC 760695010004 and 6069501000, net wt\t12/2.5 LB    JFSA Green Peas, item # 562343-301436, case UPC & label UPC 14562343301433 and 4562343301436, net wt 12/1 KG    Ligo Green Peas, item #\tLIGEX-3Q440, UPC 072810112303, net wt. 12/1 KG     Market Pantry Peas, item # 85239-00549, case UPC & label UPC 10085239005498 and 8523900549, net wt. 12/32 OZ      Markon First Crop Green Peas, item # 23234-14095, case UPC & label UPC 00723234140952, net wt. 20 LB      Markon Green Peas, item # 23234-14145, case UPC & label UPC 00723234141454, net wt. 20 LB      Maruha Nichiro Green Peas, item # MRUEX-4I023, net wt. 25 KG    Monarch Green Peas, item # 58108-00574, case UPC & label UPC 50758108005742, net wt. 20 LB    NW Treasure Green Peas, item # 62406-90000, UPC 00062406900001, net wt. 30 LB    Ore Ida Green Peas, item # 02521-00855, case UPC & label UPC 24902521008551 and 4902521008557, net wt. 20/150 G x 2      Peas, item FUR99-12030, net  wt. 20 LB      Restaurant's Pride Frosty Acres Peas, item # 48200-27425, case UPC & label UPC 10048200274255 and 4820027425, net wt. 12/2.5 LB    Restaurant's Pride Frosty Acres Peas, item # 48200-27440, UPC 00048200274401, net wt. 20 LB    SH Blackwell Green Peas, item # SHBEX-00004, net wt. 6/2 KG      Simplot Classic Green Peas, item # 71179-18925, UPC 10071179189251, net wt. 20 LB      Simplot Classic Peas, item # 71179-18949, UPC 10071179189497, net wt 12/2.5 LB      Souplantation/Sweet Tomatoes Peas\t, item # SPT99-10000, net wt. 30 LB       Sysco Classic Green Peas, item # 74865-07848, UPC 10074865078488 and 7486507848, net wt 12/2.5 LB    Sysco Classic Green Peas, item # 74865-63317, UPC 00074865633178, net wt. 30\n",
      "**********\n"
     ]
    }
   ],
   "source": [
    "# You should look at all the clusters, but let's look at cluster \"15\" (I chose this arbitrarily; you should look at all of them)\n",
    "\n",
    "for i in range(0,len(km.labels_)):\n",
    "    if km.labels_[i] == 10:\n",
    "        print(raw_data['product_description'][i])\n",
    "        print('**********')"
   ]
  },
  {
   "cell_type": "code",
   "execution_count": null,
   "metadata": {},
   "outputs": [],
   "source": []
  }
 ],
 "metadata": {
  "kernelspec": {
   "display_name": "Python 3 (ipykernel)",
   "language": "python",
   "name": "python3"
  },
  "language_info": {
   "codemirror_mode": {
    "name": "ipython",
    "version": 3
   },
   "file_extension": ".py",
   "mimetype": "text/x-python",
   "name": "python",
   "nbconvert_exporter": "python",
   "pygments_lexer": "ipython3",
   "version": "3.9.7"
  }
 },
 "nbformat": 4,
 "nbformat_minor": 2
}
